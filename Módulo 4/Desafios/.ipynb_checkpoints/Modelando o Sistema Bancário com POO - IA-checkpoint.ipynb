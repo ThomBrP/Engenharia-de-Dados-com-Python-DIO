{
 "cells": [
  {
   "cell_type": "code",
   "execution_count": 1,
   "id": "73329987-9fb5-4316-b615-4afb0154f22c",
   "metadata": {},
   "outputs": [],
   "source": [
    "# Anotações para o desafio da aula\n",
    "\n",
    "# Atualizar a implementação para armazenar os dados em objetos e não dicionários\n",
    "# O código deve seguir o modelo de classes UML do arquivo base\n",
    "\n",
    "# Desafio extra: Fazer o sistema funcionar!\n"
   ]
  },
  {
   "cell_type": "code",
   "execution_count": 4,
   "id": "952ec8a3-14fa-4f82-a9d2-0a9738bf3c8b",
   "metadata": {},
   "outputs": [
    {
     "name": "stdout",
     "output_type": "stream",
     "text": [
      "\n",
      "--- Bem-vindo ao Santandesco ---\n",
      "[1] Entrar\n",
      "[2] Cadastrar Usuário\n",
      "[3] Visualizar Usuários\n",
      "[0] Sair\n"
     ]
    },
    {
     "name": "stdin",
     "output_type": "stream",
     "text": [
      "Digite sua opção:  2\n"
     ]
    },
    {
     "name": "stdout",
     "output_type": "stream",
     "text": [
      "\n",
      "--- Cadastro de Usuário ---\n"
     ]
    },
    {
     "name": "stdin",
     "output_type": "stream",
     "text": [
      "Nome:  thom\n",
      "CPF:  123\n",
      "Data de Nascimento (dd/mm/aaaa):  06/01/1998\n",
      "Endereço:  laa\n",
      "Defina uma senha:  123\n"
     ]
    },
    {
     "name": "stdout",
     "output_type": "stream",
     "text": [
      "Usuário cadastrado com sucesso!\n",
      "\n",
      "--- Bem-vindo ao Santandesco ---\n",
      "[1] Entrar\n",
      "[2] Cadastrar Usuário\n",
      "[3] Visualizar Usuários\n",
      "[0] Sair\n"
     ]
    },
    {
     "name": "stdin",
     "output_type": "stream",
     "text": [
      "Digite sua opção:  1\n"
     ]
    },
    {
     "name": "stdout",
     "output_type": "stream",
     "text": [
      "\n",
      "--- Login ---\n"
     ]
    },
    {
     "name": "stdin",
     "output_type": "stream",
     "text": [
      "CPF:  123\n",
      "Senha:  123\n"
     ]
    },
    {
     "name": "stdout",
     "output_type": "stream",
     "text": [
      "Bem-vindo(a), thom!\n",
      "\n",
      "--- Menu do Cliente: thom ---\n",
      "[1] Criar Nova Conta\n",
      "[2] Selecionar Conta\n",
      "[3] Visualizar Contas\n",
      "[4] Verificar Informações Pessoais\n",
      "[5] Alterar Informações Pessoais\n",
      "[0] Sair\n"
     ]
    },
    {
     "name": "stdin",
     "output_type": "stream",
     "text": [
      "Digite sua opção:  1\n"
     ]
    },
    {
     "name": "stdout",
     "output_type": "stream",
     "text": [
      "\n",
      "--- Criação de Nova Conta ---\n"
     ]
    },
    {
     "name": "stdin",
     "output_type": "stream",
     "text": [
      "Agência:  10\n"
     ]
    },
    {
     "name": "stdout",
     "output_type": "stream",
     "text": [
      "Conta criada com sucesso! Número da conta: 1001\n",
      "\n",
      "--- Menu do Cliente: thom ---\n",
      "[1] Criar Nova Conta\n",
      "[2] Selecionar Conta\n",
      "[3] Visualizar Contas\n",
      "[4] Verificar Informações Pessoais\n",
      "[5] Alterar Informações Pessoais\n",
      "[0] Sair\n"
     ]
    },
    {
     "name": "stdin",
     "output_type": "stream",
     "text": [
      "Digite sua opção:  1\n"
     ]
    },
    {
     "name": "stdout",
     "output_type": "stream",
     "text": [
      "\n",
      "--- Criação de Nova Conta ---\n"
     ]
    },
    {
     "name": "stdin",
     "output_type": "stream",
     "text": [
      "Agência:  11\n"
     ]
    },
    {
     "name": "stdout",
     "output_type": "stream",
     "text": [
      "Conta criada com sucesso! Número da conta: 1002\n",
      "\n",
      "--- Menu do Cliente: thom ---\n",
      "[1] Criar Nova Conta\n",
      "[2] Selecionar Conta\n",
      "[3] Visualizar Contas\n",
      "[4] Verificar Informações Pessoais\n",
      "[5] Alterar Informações Pessoais\n",
      "[0] Sair\n"
     ]
    },
    {
     "name": "stdin",
     "output_type": "stream",
     "text": [
      "Digite sua opção:  3\n"
     ]
    },
    {
     "name": "stdout",
     "output_type": "stream",
     "text": [
      "------------------------- Lista de Contas --------------------------\n",
      "| Índice   Conta    Agência    Saldo            Cliente          |\n",
      "|   0       1001       10    R$0.00    thom                      |\n",
      "|   1       1002       11    R$0.00    thom                      |\n",
      "--------------------------------------------------------------------\n",
      "\n",
      "--- Menu do Cliente: thom ---\n",
      "[1] Criar Nova Conta\n",
      "[2] Selecionar Conta\n",
      "[3] Visualizar Contas\n",
      "[4] Verificar Informações Pessoais\n",
      "[5] Alterar Informações Pessoais\n",
      "[0] Sair\n"
     ]
    },
    {
     "name": "stdin",
     "output_type": "stream",
     "text": [
      "Digite sua opção:  2\n"
     ]
    },
    {
     "name": "stdout",
     "output_type": "stream",
     "text": [
      "\n",
      "--- Seleção de Conta ---\n",
      "------------------------- Lista de Contas --------------------------\n",
      "| Índice   Conta    Agência    Saldo            Cliente          |\n",
      "|   0       1001       10    R$0.00    thom                      |\n",
      "|   1       1002       11    R$0.00    thom                      |\n",
      "--------------------------------------------------------------------\n"
     ]
    },
    {
     "name": "stdin",
     "output_type": "stream",
     "text": [
      "Selecione o índice da conta:  1\n"
     ]
    },
    {
     "name": "stdout",
     "output_type": "stream",
     "text": [
      "Acesso concedido à Conta 1002.\n",
      "\n",
      "--- Menu da Conta 1002 ---\n",
      "[1] Sacar\n",
      "[2] Depositar\n",
      "[3] Visualizar Extrato\n",
      "[0] Sair\n"
     ]
    },
    {
     "name": "stdin",
     "output_type": "stream",
     "text": [
      "Digite sua opção:  2\n",
      "Valor do depósito: R$ 10\n"
     ]
    },
    {
     "name": "stdout",
     "output_type": "stream",
     "text": [
      "Depósito de R$10.00 realizado com sucesso.\n",
      "\n",
      "--- Menu da Conta 1002 ---\n",
      "[1] Sacar\n",
      "[2] Depositar\n",
      "[3] Visualizar Extrato\n",
      "[0] Sair\n"
     ]
    },
    {
     "name": "stdin",
     "output_type": "stream",
     "text": [
      "Digite sua opção:  1\n",
      "Valor do saque: R$ 25\n"
     ]
    },
    {
     "name": "stdout",
     "output_type": "stream",
     "text": [
      "Saldo insuficiente para saque.\n",
      "\n",
      "--- Menu da Conta 1002 ---\n",
      "[1] Sacar\n",
      "[2] Depositar\n",
      "[3] Visualizar Extrato\n",
      "[0] Sair\n"
     ]
    },
    {
     "name": "stdin",
     "output_type": "stream",
     "text": [
      "Digite sua opção:  3\n"
     ]
    },
    {
     "name": "stdout",
     "output_type": "stream",
     "text": [
      "---------- Extrato Santandesco ----------\n",
      "|         Saldo atual = R$10.00          |\n",
      "|----------------------------------------|\n",
      "|      Operação             Valor        |\n",
      "|Depósito                         R$10.00|\n",
      "-----------------------------------------\n",
      "\n",
      "--- Menu da Conta 1002 ---\n",
      "[1] Sacar\n",
      "[2] Depositar\n",
      "[3] Visualizar Extrato\n",
      "[0] Sair\n"
     ]
    },
    {
     "name": "stdin",
     "output_type": "stream",
     "text": [
      "Digite sua opção:  1\n",
      "Valor do saque: R$ 5\n"
     ]
    },
    {
     "name": "stdout",
     "output_type": "stream",
     "text": [
      "Saque de R$5.00 realizado com sucesso.\n",
      "\n",
      "--- Menu da Conta 1002 ---\n",
      "[1] Sacar\n",
      "[2] Depositar\n",
      "[3] Visualizar Extrato\n",
      "[0] Sair\n"
     ]
    },
    {
     "name": "stdin",
     "output_type": "stream",
     "text": [
      "Digite sua opção:  1\n",
      "Valor do saque: R$ 2.5\n"
     ]
    },
    {
     "name": "stdout",
     "output_type": "stream",
     "text": [
      "Saque de R$2.50 realizado com sucesso.\n",
      "\n",
      "--- Menu da Conta 1002 ---\n",
      "[1] Sacar\n",
      "[2] Depositar\n",
      "[3] Visualizar Extrato\n",
      "[0] Sair\n"
     ]
    },
    {
     "name": "stdin",
     "output_type": "stream",
     "text": [
      "Digite sua opção:  1\n",
      "Valor do saque: R$ 2.5\n"
     ]
    },
    {
     "name": "stdout",
     "output_type": "stream",
     "text": [
      "Saque de R$2.50 realizado com sucesso.\n",
      "\n",
      "--- Menu da Conta 1002 ---\n",
      "[1] Sacar\n",
      "[2] Depositar\n",
      "[3] Visualizar Extrato\n",
      "[0] Sair\n"
     ]
    },
    {
     "name": "stdin",
     "output_type": "stream",
     "text": [
      "Digite sua opção:  3\n"
     ]
    },
    {
     "name": "stdout",
     "output_type": "stream",
     "text": [
      "---------- Extrato Santandesco ----------\n",
      "|          Saldo atual = R$0.00          |\n",
      "|----------------------------------------|\n",
      "|      Operação             Valor        |\n",
      "|Depósito                         R$10.00|\n",
      "|Saque                             R$5.00|\n",
      "|Saque                             R$2.50|\n",
      "|Saque                             R$2.50|\n",
      "-----------------------------------------\n",
      "\n",
      "--- Menu da Conta 1002 ---\n",
      "[1] Sacar\n",
      "[2] Depositar\n",
      "[3] Visualizar Extrato\n",
      "[0] Sair\n"
     ]
    },
    {
     "name": "stdin",
     "output_type": "stream",
     "text": [
      "Digite sua opção:  0\n"
     ]
    },
    {
     "name": "stdout",
     "output_type": "stream",
     "text": [
      "Saindo do menu da conta.\n",
      "\n",
      "--- Menu do Cliente: thom ---\n",
      "[1] Criar Nova Conta\n",
      "[2] Selecionar Conta\n",
      "[3] Visualizar Contas\n",
      "[4] Verificar Informações Pessoais\n",
      "[5] Alterar Informações Pessoais\n",
      "[0] Sair\n"
     ]
    },
    {
     "name": "stdin",
     "output_type": "stream",
     "text": [
      "Digite sua opção:  3\n"
     ]
    },
    {
     "name": "stdout",
     "output_type": "stream",
     "text": [
      "------------------------- Lista de Contas --------------------------\n",
      "| Índice   Conta    Agência    Saldo            Cliente          |\n",
      "|   0       1001       10    R$0.00    thom                      |\n",
      "|   1       1002       11    R$0.00    thom                      |\n",
      "--------------------------------------------------------------------\n",
      "\n",
      "--- Menu do Cliente: thom ---\n",
      "[1] Criar Nova Conta\n",
      "[2] Selecionar Conta\n",
      "[3] Visualizar Contas\n",
      "[4] Verificar Informações Pessoais\n",
      "[5] Alterar Informações Pessoais\n",
      "[0] Sair\n"
     ]
    },
    {
     "name": "stdin",
     "output_type": "stream",
     "text": [
      "Digite sua opção:  2\n"
     ]
    },
    {
     "name": "stdout",
     "output_type": "stream",
     "text": [
      "\n",
      "--- Seleção de Conta ---\n",
      "------------------------- Lista de Contas --------------------------\n",
      "| Índice   Conta    Agência    Saldo            Cliente          |\n",
      "|   0       1001       10    R$0.00    thom                      |\n",
      "|   1       1002       11    R$0.00    thom                      |\n",
      "--------------------------------------------------------------------\n"
     ]
    },
    {
     "name": "stdin",
     "output_type": "stream",
     "text": [
      "Selecione o índice da conta:  1\n"
     ]
    },
    {
     "name": "stdout",
     "output_type": "stream",
     "text": [
      "Acesso concedido à Conta 1002.\n",
      "\n",
      "--- Menu da Conta 1002 ---\n",
      "[1] Sacar\n",
      "[2] Depositar\n",
      "[3] Visualizar Extrato\n",
      "[0] Sair\n"
     ]
    },
    {
     "name": "stdin",
     "output_type": "stream",
     "text": [
      "Digite sua opção:  2\n",
      "Valor do depósito: R$ 500\n"
     ]
    },
    {
     "name": "stdout",
     "output_type": "stream",
     "text": [
      "Depósito de R$500.00 realizado com sucesso.\n",
      "\n",
      "--- Menu da Conta 1002 ---\n",
      "[1] Sacar\n",
      "[2] Depositar\n",
      "[3] Visualizar Extrato\n",
      "[0] Sair\n"
     ]
    },
    {
     "name": "stdin",
     "output_type": "stream",
     "text": [
      "Digite sua opção:  1\n",
      "Valor do saque: R$ 250\n"
     ]
    },
    {
     "name": "stdout",
     "output_type": "stream",
     "text": [
      "Limite de saques diários excedido.\n",
      "\n",
      "--- Menu da Conta 1002 ---\n",
      "[1] Sacar\n",
      "[2] Depositar\n",
      "[3] Visualizar Extrato\n",
      "[0] Sair\n"
     ]
    },
    {
     "name": "stdin",
     "output_type": "stream",
     "text": [
      "Digite sua opção:  3\n"
     ]
    },
    {
     "name": "stdout",
     "output_type": "stream",
     "text": [
      "---------- Extrato Santandesco ----------\n",
      "|         Saldo atual = R$500.00         |\n",
      "|----------------------------------------|\n",
      "|      Operação             Valor        |\n",
      "|Depósito                         R$10.00|\n",
      "|Saque                             R$5.00|\n",
      "|Saque                             R$2.50|\n",
      "|Saque                             R$2.50|\n",
      "|Depósito                        R$500.00|\n",
      "-----------------------------------------\n",
      "\n",
      "--- Menu da Conta 1002 ---\n",
      "[1] Sacar\n",
      "[2] Depositar\n",
      "[3] Visualizar Extrato\n",
      "[0] Sair\n"
     ]
    },
    {
     "name": "stdin",
     "output_type": "stream",
     "text": [
      "Digite sua opção:  1\n",
      "Valor do saque: R$ 10\n"
     ]
    },
    {
     "name": "stdout",
     "output_type": "stream",
     "text": [
      "Limite de saques diários excedido.\n",
      "\n",
      "--- Menu da Conta 1002 ---\n",
      "[1] Sacar\n",
      "[2] Depositar\n",
      "[3] Visualizar Extrato\n",
      "[0] Sair\n"
     ]
    },
    {
     "name": "stdin",
     "output_type": "stream",
     "text": [
      "Digite sua opção:  0\n"
     ]
    },
    {
     "name": "stdout",
     "output_type": "stream",
     "text": [
      "Saindo do menu da conta.\n",
      "\n",
      "--- Menu do Cliente: thom ---\n",
      "[1] Criar Nova Conta\n",
      "[2] Selecionar Conta\n",
      "[3] Visualizar Contas\n",
      "[4] Verificar Informações Pessoais\n",
      "[5] Alterar Informações Pessoais\n",
      "[0] Sair\n"
     ]
    },
    {
     "name": "stdin",
     "output_type": "stream",
     "text": [
      "Digite sua opção:  2\n"
     ]
    },
    {
     "name": "stdout",
     "output_type": "stream",
     "text": [
      "\n",
      "--- Seleção de Conta ---\n",
      "------------------------- Lista de Contas --------------------------\n",
      "| Índice   Conta    Agência    Saldo            Cliente          |\n",
      "|   0       1001       10    R$0.00    thom                      |\n",
      "|   1       1002       11    R$500.00  thom                      |\n",
      "--------------------------------------------------------------------\n"
     ]
    },
    {
     "name": "stdin",
     "output_type": "stream",
     "text": [
      "Selecione o índice da conta:  0\n"
     ]
    },
    {
     "name": "stdout",
     "output_type": "stream",
     "text": [
      "Acesso concedido à Conta 1001.\n",
      "\n",
      "--- Menu da Conta 1001 ---\n",
      "[1] Sacar\n",
      "[2] Depositar\n",
      "[3] Visualizar Extrato\n",
      "[0] Sair\n"
     ]
    },
    {
     "name": "stdin",
     "output_type": "stream",
     "text": [
      "Digite sua opção:  3\n"
     ]
    },
    {
     "name": "stdout",
     "output_type": "stream",
     "text": [
      "---------- Extrato Santandesco ----------\n",
      "|          Saldo atual = R$0.00          |\n",
      "|----------------------------------------|\n",
      "|      Operação             Valor        |\n",
      "-----------------------------------------\n",
      "\n",
      "--- Menu da Conta 1001 ---\n",
      "[1] Sacar\n",
      "[2] Depositar\n",
      "[3] Visualizar Extrato\n",
      "[0] Sair\n"
     ]
    },
    {
     "name": "stdin",
     "output_type": "stream",
     "text": [
      "Digite sua opção:  2\n",
      "Valor do depósito: R$ 500\n"
     ]
    },
    {
     "name": "stdout",
     "output_type": "stream",
     "text": [
      "Depósito de R$500.00 realizado com sucesso.\n",
      "\n",
      "--- Menu da Conta 1001 ---\n",
      "[1] Sacar\n",
      "[2] Depositar\n",
      "[3] Visualizar Extrato\n",
      "[0] Sair\n"
     ]
    },
    {
     "name": "stdin",
     "output_type": "stream",
     "text": [
      "Digite sua opção:  1\n",
      "Valor do saque: R$ 150\n"
     ]
    },
    {
     "name": "stdout",
     "output_type": "stream",
     "text": [
      "Saque de R$150.00 realizado com sucesso.\n",
      "\n",
      "--- Menu da Conta 1001 ---\n",
      "[1] Sacar\n",
      "[2] Depositar\n",
      "[3] Visualizar Extrato\n",
      "[0] Sair\n"
     ]
    },
    {
     "name": "stdin",
     "output_type": "stream",
     "text": [
      "Digite sua opção:  3\n"
     ]
    },
    {
     "name": "stdout",
     "output_type": "stream",
     "text": [
      "---------- Extrato Santandesco ----------\n",
      "|         Saldo atual = R$350.00         |\n",
      "|----------------------------------------|\n",
      "|      Operação             Valor        |\n",
      "|Depósito                        R$500.00|\n",
      "|Saque                           R$150.00|\n",
      "-----------------------------------------\n",
      "\n",
      "--- Menu da Conta 1001 ---\n",
      "[1] Sacar\n",
      "[2] Depositar\n",
      "[3] Visualizar Extrato\n",
      "[0] Sair\n"
     ]
    },
    {
     "name": "stdin",
     "output_type": "stream",
     "text": [
      "Digite sua opção:  0\n"
     ]
    },
    {
     "name": "stdout",
     "output_type": "stream",
     "text": [
      "Saindo do menu da conta.\n",
      "\n",
      "--- Menu do Cliente: thom ---\n",
      "[1] Criar Nova Conta\n",
      "[2] Selecionar Conta\n",
      "[3] Visualizar Contas\n",
      "[4] Verificar Informações Pessoais\n",
      "[5] Alterar Informações Pessoais\n",
      "[0] Sair\n"
     ]
    },
    {
     "name": "stdin",
     "output_type": "stream",
     "text": [
      "Digite sua opção:  0\n"
     ]
    },
    {
     "name": "stdout",
     "output_type": "stream",
     "text": [
      "Saindo do menu do cliente.\n",
      "\n",
      "--- Bem-vindo ao Santandesco ---\n",
      "[1] Entrar\n",
      "[2] Cadastrar Usuário\n",
      "[3] Visualizar Usuários\n",
      "[0] Sair\n"
     ]
    },
    {
     "name": "stdin",
     "output_type": "stream",
     "text": [
      "Digite sua opção:  0\n"
     ]
    },
    {
     "name": "stdout",
     "output_type": "stream",
     "text": [
      "Encerrando o sistema. Até logo!\n"
     ]
    }
   ],
   "source": [
    "from abc import ABC, abstractmethod\n",
    "from datetime import date\n",
    "\n",
    "class PessoaFisica:\n",
    "    def __init__(self, nome, cpf, data_nascimento):\n",
    "        self.nome = nome\n",
    "        self.cpf = cpf\n",
    "        self.data_nascimento = data_nascimento\n",
    "\n",
    "class Cliente(PessoaFisica):\n",
    "    def __init__(self, nome, cpf, data_nascimento, endereco, senha):\n",
    "        super().__init__(nome, cpf, data_nascimento)\n",
    "        self.endereco = endereco\n",
    "        self.senha = senha\n",
    "        self.contas = []\n",
    "\n",
    "    def realizar_transacao(self, conta, transacao):\n",
    "        \"\"\"Realiza uma transação em uma conta específica.\"\"\"\n",
    "        conta.realizar_transacao(transacao)\n",
    "\n",
    "    def adicionar_conta(self, conta):\n",
    "        \"\"\"Adiciona uma nova conta ao cliente.\"\"\"\n",
    "        self.contas.append(conta)\n",
    "\n",
    "    def mudar_dados(self, atributo, valor):\n",
    "        \"\"\"Altera os dados pessoais do cliente.\"\"\"\n",
    "        if hasattr(self, atributo):\n",
    "            setattr(self, atributo, valor)\n",
    "            print(f\"{atributo} atualizado com sucesso!\")\n",
    "        else:\n",
    "            print(f\"Atributo '{atributo}' não encontrado.\")\n",
    "\n",
    "    def mudar_senha(self):\n",
    "        \"\"\"Permite a alteração da senha, com validação.\"\"\"\n",
    "        senha_atual = input(\"Digite sua senha atual: \")\n",
    "        if senha_atual == self.senha:\n",
    "            nova_senha = input(\"Digite a nova senha: \")\n",
    "            confirmar_senha = input(\"Confirme a nova senha: \")\n",
    "            if nova_senha == confirmar_senha:\n",
    "                self.senha = nova_senha\n",
    "                print(\"Senha alterada com sucesso!\")\n",
    "            else:\n",
    "                print(\"As senhas não coincidem. A senha não foi alterada.\")\n",
    "        else:\n",
    "            print(\"Senha atual incorreta. A senha não foi alterada.\")\n",
    "\n",
    "class Historico:\n",
    "    def __init__(self):\n",
    "        self.transacoes = []\n",
    "\n",
    "    def adicionar_transacao(self, transacao):\n",
    "        \"\"\"Adiciona uma transação ao histórico.\"\"\"\n",
    "        self.transacoes.append(transacao)\n",
    "\n",
    "class Transacao(ABC):\n",
    "    @abstractmethod\n",
    "    def registrar(self, conta):\n",
    "        pass\n",
    "\n",
    "class Saque(Transacao):\n",
    "    def __init__(self, valor):\n",
    "        self.valor = valor\n",
    "\n",
    "    def registrar(self, conta):\n",
    "        if self.valor <= 0:\n",
    "            print(\"Valor de saque inválido.\")\n",
    "        elif self.valor > conta.saldo:\n",
    "            print(\"Saldo insuficiente para saque.\")\n",
    "        elif conta.numero_saques >= conta.limite_saques:\n",
    "            print(\"Limite de saques diários excedido.\")\n",
    "        elif self.valor > conta.limite:\n",
    "            print(f\"Valor de saque acima do limite de R${conta.limite:.2f}.\")\n",
    "        else:\n",
    "            conta.saldo -= self.valor\n",
    "            conta.numero_saques += 1\n",
    "            conta.historico.adicionar_transacao(self)\n",
    "            print(f\"Saque de R${self.valor:.2f} realizado com sucesso.\")\n",
    "\n",
    "    def __str__(self):\n",
    "        return f\"Saque\"\n",
    "\n",
    "class Deposito(Transacao):\n",
    "    def __init__(self, valor):\n",
    "        self.valor = valor\n",
    "\n",
    "    def registrar(self, conta):\n",
    "        if self.valor <= 0:\n",
    "            print(\"Valor de depósito inválido.\")\n",
    "        else:\n",
    "            conta.saldo += self.valor\n",
    "            conta.historico.adicionar_transacao(self)\n",
    "            print(f\"Depósito de R${self.valor:.2f} realizado com sucesso.\")\n",
    "\n",
    "    def __str__(self):\n",
    "        return f\"Depósito\"\n",
    "\n",
    "class Conta:\n",
    "    _id_conta = 1001  # Variável de classe para gerar IDs únicos\n",
    "\n",
    "    def __init__(self, cliente, agencia):\n",
    "        self.id_conta = Conta._id_conta\n",
    "        Conta._id_conta += 1\n",
    "        self.agencia = agencia\n",
    "        self.cliente = cliente\n",
    "        self.historico = Historico()\n",
    "        self.saldo = 0.0\n",
    "\n",
    "    def get_saldo(self):\n",
    "        \"\"\"Retorna o saldo atual da conta.\"\"\"\n",
    "        return self.saldo\n",
    "\n",
    "    def sacar(self, valor):\n",
    "        \"\"\"Solicita um saque.\"\"\"\n",
    "        transacao = Saque(valor)\n",
    "        self.realizar_transacao(transacao)\n",
    "\n",
    "    def depositar(self, valor):\n",
    "        \"\"\"Solicita um depósito.\"\"\"\n",
    "        transacao = Deposito(valor)\n",
    "        self.realizar_transacao(transacao)\n",
    "\n",
    "    def extrato(self):\n",
    "        \"\"\"Exibe o extrato da conta com formatação.\"\"\"\n",
    "        print(\" Extrato Santandesco \".center(41, \"-\"))\n",
    "        print(\"|\" + (f\"Saldo atual = R${self.saldo:.2f}\").center(40, \" \") + \"|\")\n",
    "        print(\"|\" + \"-\".center(40, \"-\") + \"|\")\n",
    "        print(\"|\" + \"Operação\".center(20, \" \") + \"Valor\".center(20, \" \") + \"|\")\n",
    "        for transacao in self.historico.transacoes:\n",
    "            operacao = str(transacao)\n",
    "            valor = f\"R${transacao.valor:.2f}\"\n",
    "            espacos_operacao = operacao.ljust(20)\n",
    "            espacos_valor = valor.rjust(20)\n",
    "            print(\"|\" + espacos_operacao + espacos_valor + \"|\")\n",
    "        print(\"-\" * 41)\n",
    "\n",
    "    @classmethod\n",
    "    def nova_conta(cls, cliente, agencia):\n",
    "        \"\"\"Cria uma nova conta.\"\"\"\n",
    "        conta = cls(cliente, agencia)\n",
    "        cliente.adicionar_conta(conta)\n",
    "        return conta\n",
    "\n",
    "    def realizar_transacao(self, transacao):\n",
    "        \"\"\"Executa a transação.\"\"\"\n",
    "        transacao.registrar(self)\n",
    "\n",
    "class ContaCorrente(Conta):\n",
    "    def __init__(self, cliente, agencia, limite=500.0, limite_saques=3):\n",
    "        super().__init__(cliente, agencia)\n",
    "        self.limite = limite\n",
    "        self.limite_saques = limite_saques\n",
    "        self.numero_saques = 0\n",
    "\n",
    "def menu_principal():\n",
    "    print(\"\\n--- Bem-vindo ao Santandesco ---\")\n",
    "    print(\"[1] Entrar\")\n",
    "    print(\"[2] Cadastrar Usuário\")\n",
    "    print(\"[3] Visualizar Usuários\")\n",
    "    print(\"[0] Sair\")\n",
    "    return input(\"Digite sua opção: \")\n",
    "\n",
    "def menu_cliente(nome_cliente):\n",
    "    print(f\"\\n--- Menu do Cliente: {nome_cliente} ---\")\n",
    "    print(\"[1] Criar Nova Conta\")\n",
    "    print(\"[2] Selecionar Conta\")\n",
    "    print(\"[3] Visualizar Contas\")\n",
    "    print(\"[4] Verificar Informações Pessoais\")\n",
    "    print(\"[5] Alterar Informações Pessoais\")\n",
    "    print(\"[0] Sair\")\n",
    "    return input(\"Digite sua opção: \")\n",
    "\n",
    "def menu_conta(id_conta):\n",
    "    print(f\"\\n--- Menu da Conta {id_conta} ---\")\n",
    "    print(\"[1] Sacar\")\n",
    "    print(\"[2] Depositar\")\n",
    "    print(\"[3] Visualizar Extrato\")\n",
    "    print(\"[0] Sair\")\n",
    "    return input(\"Digite sua opção: \")\n",
    "\n",
    "def cadastrar_usuario(clientes):\n",
    "    print(\"\\n--- Cadastro de Usuário ---\")\n",
    "    nome = input(\"Nome: \")\n",
    "    cpf = input(\"CPF: \")\n",
    "    data_nascimento = input(\"Data de Nascimento (dd/mm/aaaa): \")\n",
    "    endereco = input(\"Endereço: \")\n",
    "    senha = input(\"Defina uma senha: \")\n",
    "\n",
    "    # Verificar se o CPF já está cadastrado\n",
    "    for cliente in clientes:\n",
    "        if cliente.cpf == cpf:\n",
    "            print(\"CPF já cadastrado. Tente novamente.\")\n",
    "            return None\n",
    "\n",
    "    cliente = Cliente(nome, cpf, data_nascimento, endereco, senha)\n",
    "    clientes.append(cliente)\n",
    "    print(\"Usuário cadastrado com sucesso!\")\n",
    "    return cliente\n",
    "\n",
    "def encontrar_cliente_por_cpf(clientes, cpf):\n",
    "    for cliente in clientes:\n",
    "        if cliente.cpf == cpf:\n",
    "            return cliente\n",
    "    return None\n",
    "\n",
    "def autenticar_usuario(clientes):\n",
    "    print(\"\\n--- Login ---\")\n",
    "    cpf = input(\"CPF: \")\n",
    "    cliente = encontrar_cliente_por_cpf(clientes, cpf)\n",
    "    if cliente:\n",
    "        senha = input(\"Senha: \")\n",
    "        if senha == cliente.senha:\n",
    "            print(f\"Bem-vindo(a), {cliente.nome}!\")\n",
    "            return cliente\n",
    "        else:\n",
    "            print(\"Senha incorreta.\")\n",
    "            return None\n",
    "    else:\n",
    "        print(\"CPF não encontrado.\")\n",
    "        return None\n",
    "\n",
    "def autenticar_conta(cliente):\n",
    "    print(\"\\n--- Seleção de Conta ---\")\n",
    "    if not cliente.contas:\n",
    "        print(\"Você não possui contas. Crie uma conta primeiro.\")\n",
    "        return None\n",
    "\n",
    "    mostrar_contas(cliente.contas)\n",
    "\n",
    "    try:\n",
    "        indice = int(input(\"Selecione o índice da conta: \"))\n",
    "        if 0 <= indice < len(cliente.contas):\n",
    "            conta = cliente.contas[indice]\n",
    "            print(f\"Acesso concedido à Conta {conta.id_conta}.\")\n",
    "            return conta\n",
    "        else:\n",
    "            print(\"Índice inválido.\")\n",
    "            return None\n",
    "    except ValueError:\n",
    "        print(\"Entrada inválida.\")\n",
    "        return None\n",
    "\n",
    "def criar_nova_conta(cliente):\n",
    "    print(\"\\n--- Criação de Nova Conta ---\")\n",
    "    agencia = input(\"Agência: \")\n",
    "    conta = ContaCorrente(cliente, agencia)\n",
    "    cliente.adicionar_conta(conta)\n",
    "    print(f\"Conta criada com sucesso! Número da conta: {conta.id_conta}\")\n",
    "    return conta\n",
    "\n",
    "def mostrar_clientes(clientes):\n",
    "    print(\" Lista de Usuários Santandesco \".center(66, \"-\"))\n",
    "    print(\"|\" + \"Nome\".center(25, \" \") + \"CPF\".center(15, \" \") + \"Endereço\".center(25, \" \") + \"|\")\n",
    "    for cliente in clientes:\n",
    "        nome = cliente.nome.ljust(25)\n",
    "        cpf = cliente.cpf.center(15)\n",
    "        endereco = cliente.endereco.ljust(25)\n",
    "        print(\"|\" + nome + cpf + endereco + \"|\")\n",
    "    print(\"-\" * 66)\n",
    "\n",
    "def mostrar_contas(contas):\n",
    "    print(\" Lista de Contas \".center(68, \"-\"))\n",
    "    print(\"|\" + \"Índice\".center(8) + \"Conta\".center(10) + \"Agência\".center(10) + \"Saldo\".center(10) + \"Cliente\".center(26) + \"|\")\n",
    "    for idx, conta in enumerate(contas):\n",
    "        indice = str(idx).center(8)\n",
    "        id_conta = str(conta.id_conta).center(10)\n",
    "        agencia = conta.agencia.center(10)\n",
    "        saldo = f\"R${conta.saldo:.2f}\".ljust(10)\n",
    "        cliente_nome = conta.cliente.nome.ljust(26)\n",
    "        print(\"|\" + indice + id_conta + agencia + saldo + cliente_nome + \"|\")\n",
    "    print(\"-\" * 68)\n",
    "\n",
    "\n",
    "def main():\n",
    "    clientes = []\n",
    "    contas = []\n",
    "\n",
    "    while True:\n",
    "        opcao = menu_principal()\n",
    "\n",
    "        if opcao == \"1\":  # Entrar\n",
    "            cliente = autenticar_usuario(clientes)\n",
    "            if cliente:\n",
    "                while True:\n",
    "                    opcao_cliente = menu_cliente(cliente.nome)\n",
    "\n",
    "                    if opcao_cliente == \"1\":  # Criar Nova Conta\n",
    "                        conta = criar_nova_conta(cliente)\n",
    "                        contas.append(conta)\n",
    "\n",
    "                    elif opcao_cliente == \"2\":  # Selecionar Conta\n",
    "                        conta = autenticar_conta(cliente)\n",
    "                        if conta:\n",
    "                            while True:\n",
    "                                opcao_conta = menu_conta(conta.id_conta)\n",
    "\n",
    "                                if opcao_conta == \"1\":  # Sacar\n",
    "                                    valor = float(input(\"Valor do saque: R$\"))\n",
    "                                    conta.sacar(valor)\n",
    "                                elif opcao_conta == \"2\":  # Depositar\n",
    "                                    valor = float(input(\"Valor do depósito: R$\"))\n",
    "                                    conta.depositar(valor)\n",
    "                                elif opcao_conta == \"3\":  # Extrato\n",
    "                                    conta.extrato()\n",
    "                                elif opcao_conta == \"0\":  # Sair\n",
    "                                    print(\"Saindo do menu da conta.\")\n",
    "                                    break\n",
    "                                else:\n",
    "                                    print(\"Opção inválida. Tente novamente.\")\n",
    "\n",
    "                    elif opcao_cliente == \"3\":  # Visualizar Contas\n",
    "                        if not cliente.contas:\n",
    "                            print(\"Você não possui contas.\")\n",
    "                        else:\n",
    "                            mostrar_contas(cliente.contas)\n",
    "\n",
    "                    elif opcao_cliente == \"4\":  # Verificar Informações Pessoais\n",
    "                        print(\"\\n--- Informações Pessoais ---\")\n",
    "                        print(f\"Nome: {cliente.nome}\")\n",
    "                        print(f\"CPF: {cliente.cpf}\")\n",
    "                        print(f\"Data de Nascimento: {cliente.data_nascimento}\")\n",
    "                        print(f\"Endereço: {cliente.endereco}\\n\")\n",
    "\n",
    "                    elif opcao_cliente == \"5\":  # Alterar Informações Pessoais\n",
    "                        atributo = input(\"Qual informação deseja alterar? (nome, cpf, data_nascimento, endereco, senha): \")\n",
    "                        if atributo == \"senha\":\n",
    "                            cliente.mudar_senha()\n",
    "                        else:\n",
    "                            valor = input(f\"Novo valor para {atributo}: \")\n",
    "                            cliente.mudar_dados(atributo, valor)\n",
    "\n",
    "                    elif opcao_cliente == \"0\":  # Sair\n",
    "                        print(\"Saindo do menu do cliente.\")\n",
    "                        break\n",
    "                    else:\n",
    "                        print(\"Opção inválida. Tente novamente.\")\n",
    "\n",
    "        elif opcao == \"2\":  # Cadastrar Usuário\n",
    "            cadastrar_usuario(clientes)\n",
    "\n",
    "        elif opcao == \"3\":  # Visualizar Usuários\n",
    "            if not clientes:\n",
    "                print(\"Nenhum usuário cadastrado.\")\n",
    "            else:\n",
    "                mostrar_clientes(clientes)\n",
    "\n",
    "        elif opcao == \"0\":  # Sair\n",
    "            print(\"Encerrando o sistema. Até logo!\")\n",
    "            break\n",
    "        else:\n",
    "            print(\"Opção inválida. Tente novamente.\")\n",
    "\n",
    "if __name__ == \"__main__\":\n",
    "    main()\n"
   ]
  },
  {
   "cell_type": "code",
   "execution_count": null,
   "id": "e9ca9671-c498-4dd6-b997-84941fee347e",
   "metadata": {},
   "outputs": [],
   "source": []
  }
 ],
 "metadata": {
  "kernelspec": {
   "display_name": "Python 3 (ipykernel)",
   "language": "python",
   "name": "python3"
  },
  "language_info": {
   "codemirror_mode": {
    "name": "ipython",
    "version": 3
   },
   "file_extension": ".py",
   "mimetype": "text/x-python",
   "name": "python",
   "nbconvert_exporter": "python",
   "pygments_lexer": "ipython3",
   "version": "3.12.3"
  }
 },
 "nbformat": 4,
 "nbformat_minor": 5
}
