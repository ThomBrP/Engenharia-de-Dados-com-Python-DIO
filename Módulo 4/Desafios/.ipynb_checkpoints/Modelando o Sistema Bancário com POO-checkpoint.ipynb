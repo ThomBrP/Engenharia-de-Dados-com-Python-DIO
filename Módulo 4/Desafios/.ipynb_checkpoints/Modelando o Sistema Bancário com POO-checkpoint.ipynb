{
 "cells": [
  {
   "cell_type": "code",
   "execution_count": null,
   "id": "73329987-9fb5-4316-b615-4afb0154f22c",
   "metadata": {},
   "outputs": [],
   "source": [
    "# Anotações para o desafio da aula\n",
    "\n",
    "# Atualizar a implementação para armazenar os dados em objetos e não dicionários\n",
    "# O código deve seguir o modelo de classes UML do arquivo base\n",
    "\n",
    "# Desafio extra: Fazer o sistema funcionar!\n"
   ]
  }
 ],
 "metadata": {
  "kernelspec": {
   "display_name": "Python 3 (ipykernel)",
   "language": "python",
   "name": "python3"
  },
  "language_info": {
   "codemirror_mode": {
    "name": "ipython",
    "version": 3
   },
   "file_extension": ".py",
   "mimetype": "text/x-python",
   "name": "python",
   "nbconvert_exporter": "python",
   "pygments_lexer": "ipython3",
   "version": "3.12.3"
  }
 },
 "nbformat": 4,
 "nbformat_minor": 5
}
