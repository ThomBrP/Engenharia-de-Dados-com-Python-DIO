{
 "cells": [
  {
   "cell_type": "code",
   "execution_count": 15,
   "id": "13f32c15-8e6e-4011-ae03-80e78e1cdb91",
   "metadata": {},
   "outputs": [
    {
     "name": "stdin",
     "output_type": "stream",
     "text": [
      " note\n",
      " 3\n",
      " 1500\n",
      " mouse\n",
      " 10\n",
      " 50\n",
      " tecl\n",
      " 5\n",
      " 100\n"
     ]
    },
    {
     "name": "stdout",
     "output_type": "stream",
     "text": [
      "Total de Vendas: 5500.0\n"
     ]
    }
   ],
   "source": [
    "class Venda:\n",
    "    def __init__(self, produto, quantidade, valor):\n",
    "        self.produto = produto\n",
    "        self.quantidade = quantidade\n",
    "        self.valor = valor\n",
    "\n",
    "class Relatorio:\n",
    "    def __init__(self):\n",
    "        self.vendas = []\n",
    "\n",
    "    def adicionar_venda(self, venda):\n",
    "        if(type(venda) == type(Venda(0,0,0))):\n",
    "            self.vendas.append(venda)\n",
    "        else:\n",
    "            pass\n",
    "\n",
    "    def calcular_total_vendas(self):\n",
    "        total = 0\n",
    "        for venda in self.vendas:\n",
    "            total += (venda.valor * venda.quantidade)\n",
    "        return total\n",
    "\n",
    "\n",
    "def main():\n",
    "    relatorio = Relatorio()\n",
    "    \n",
    "    for i in range(3):\n",
    "        produto = input()\n",
    "        quantidade = int(input())\n",
    "        valor = float(input())\n",
    "        venda = Venda(produto, quantidade, valor)\n",
    "        relatorio.adicionar_venda(venda)\n",
    "\n",
    "    print(f\"Total de Vendas: {relatorio.calcular_total_vendas()}\")\n",
    "\n",
    "\n",
    "if __name__ == \"__main__\":\n",
    "    main()\n",
    "    "
   ]
  },
  {
   "cell_type": "code",
   "execution_count": 20,
   "id": "fd9e4005-e2d4-4346-8795-9d42f9870cac",
   "metadata": {},
   "outputs": [
    {
     "name": "stdin",
     "output_type": "stream",
     "text": [
      " 1ª Venda\n",
      " Remédio, 100, 100\n",
      " Gaze, 50, 5\n",
      " 8ª Venda\n",
      " Fórmula, 32, 90\n",
      " Procedimento, 10, 1000\n"
     ]
    },
    {
     "name": "stdout",
     "output_type": "stream",
     "text": [
      "Vendas em 1ª Venda: 105.0\n",
      "Vendas em 8ª Venda: 1090.0\n"
     ]
    }
   ],
   "source": [
    "class Venda:\n",
    "    def __init__(self, produto, quantidade, valor):\n",
    "        self.produto = produto\n",
    "        self.quantidade = quantidade\n",
    "        self.valor = valor\n",
    "\n",
    "class Categoria:\n",
    "    def __init__(self, nome):\n",
    "        self.nome = nome\n",
    "        self.vendas = []\n",
    "\n",
    "    def adicionar_venda(self, venda):\n",
    "        if(type(venda) == type(Venda(0,0,0))):\n",
    "            self.vendas.append(venda)\n",
    "        else:\n",
    "            pass\n",
    "            \n",
    "    def total_vendas(self):\n",
    "        total = 0.0\n",
    "        for venda in self.vendas:\n",
    "            total += venda.valor\n",
    "        return total\n",
    "        \n",
    "\n",
    "def main():\n",
    "    categorias = []\n",
    "\n",
    "    for i in range(2):\n",
    "        nome_categoria = input()\n",
    "        categoria = Categoria(nome_categoria)\n",
    "\n",
    "        for j in range(2): \n",
    "            entrada_venda = input()\n",
    "            produto, quantidade, valor = entrada_venda.split(',')\n",
    "            quantidade = int(quantidade.strip())\n",
    "            valor = float(valor.strip())\n",
    "\n",
    "            venda = Venda(produto.strip(), quantidade, valor)\n",
    "            \n",
    "            categoria.adicionar_venda(venda)\n",
    "\n",
    "        categorias.append(categoria)\n",
    "    \n",
    "    # Exibindo os totais de vendas para cada categoria\n",
    "    for categoria in categorias:\n",
    "        print(f\"Vendas em {categoria.nome}: {categoria.total_vendas()}\")\n",
    "\n",
    "if __name__ == \"__main__\":\n",
    "    main()"
   ]
  },
  {
   "cell_type": "code",
   "execution_count": null,
   "id": "13da3b71-cc48-4338-956d-448de16614ed",
   "metadata": {},
   "outputs": [],
   "source": []
  }
 ],
 "metadata": {
  "kernelspec": {
   "display_name": "Python 3 (ipykernel)",
   "language": "python",
   "name": "python3"
  },
  "language_info": {
   "codemirror_mode": {
    "name": "ipython",
    "version": 3
   },
   "file_extension": ".py",
   "mimetype": "text/x-python",
   "name": "python",
   "nbconvert_exporter": "python",
   "pygments_lexer": "ipython3",
   "version": "3.12.3"
  }
 },
 "nbformat": 4,
 "nbformat_minor": 5
}
