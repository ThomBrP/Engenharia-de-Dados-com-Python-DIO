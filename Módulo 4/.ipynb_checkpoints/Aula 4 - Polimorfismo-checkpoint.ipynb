{
 "cells": [
  {
   "cell_type": "code",
   "execution_count": 13,
   "id": "4c5583a7-2bf4-469a-bb4f-01a35c25ca08",
   "metadata": {},
   "outputs": [],
   "source": [
    "# Início da aula sobre polimorfismo em python\n",
    "\n",
    "# Introdução\n",
    "#\"Classes polimórficas?\"\n",
    "\n",
    "# Polimorfismo significa ter muitas formas, ou seja:\n",
    "# mesmo nome de função, mas que aceita parâmetros diferentes\n",
    "# esses parâmetros normalmente se comporta de maneira diferente do primeiro\n",
    "\n",
    "#exemplo:\n",
    "len(\"Python\") # len aceitando uma string\n",
    "len([10, 20, 30]) # len aceitando um vetor\n",
    "\n",
    "# len é uma função polimórfica, ou seja, na construção dela deve existir algo do tipo:\n",
    "# ERRATA: PRECISA TER UMA CLASSE PAI, ENTÃO É MAIS COMPLICADO DO QUE ISSO!\n",
    "def Len_novo(parametro_str):\n",
    "    #percorre str\n",
    "    #conta caractere por caractere\n",
    "    # retorna a quantidade de caracteres do str\n",
    "    pass\n",
    "\n",
    "def Len_novo(parametro_vetor):\n",
    "    # percorre o vetor\n",
    "    # conta indice por indice\n",
    "    # retorna a quantidade de indices no vetor\n",
    "    pass"
   ]
  },
  {
   "cell_type": "code",
   "execution_count": 16,
   "id": "10b990c8-a874-4f8c-ab29-308fb86fc96d",
   "metadata": {},
   "outputs": [
    {
     "name": "stdout",
     "output_type": "stream",
     "text": [
      "pardal voando\n",
      "Cocó cocòóóooo...\n",
      "passaro voando\n",
      "\n",
      "Passaro numérico não voa\n"
     ]
    }
   ],
   "source": [
    "# Polimorfismo com herança\n",
    "\n",
    "# Modo de alterar o método da classe pai, na classe filho.\n",
    "# o método filho vai ser a prioritária, mas existe a outra em caso necessário\n",
    "\n",
    "#Polimorfismo não funciona sem herança!\n",
    "\n",
    "class Passaro:\n",
    "    def voar(self):\n",
    "        print(\"passaro voando\")\n",
    "        pass\n",
    "\n",
    "class Pardal(Passaro):\n",
    "    def voar(self):\n",
    "        print(\"pardal voando\")\n",
    "\n",
    "class Galinha(Passaro):\n",
    "    def voar(self):\n",
    "        print(\"Cocó cocòóóooo...\")\n",
    "\n",
    "class Tucano(Passaro):\n",
    "    pass # Esse não tem o método, mas é filho de pássaro entao vai voar se nao for definido!\n",
    "\n",
    "def plano_de_voo(passaro):\n",
    "    try: # Sim eu estava querendo demais, try except e não try catch, muito útil!\n",
    "        int(passaro)\n",
    "        print(\"Passaro numérico não voa\")\n",
    "    except: \n",
    "        passaro.voar()\n",
    "\n",
    "plano_de_voo(Pardal())\n",
    "plano_de_voo(Galinha())\n",
    "plano_de_voo(Tucano())\n",
    "print(\"\")\n",
    "plano_de_voo(2) # Aí estou querendo demais também né?\n",
    "\n",
    "#Fim da aula sobre polimorfismo"
   ]
  },
  {
   "cell_type": "code",
   "execution_count": null,
   "id": "087b4ae8-98b9-4869-a34d-b1416f72e444",
   "metadata": {},
   "outputs": [],
   "source": []
  }
 ],
 "metadata": {
  "kernelspec": {
   "display_name": "Python 3 (ipykernel)",
   "language": "python",
   "name": "python3"
  },
  "language_info": {
   "codemirror_mode": {
    "name": "ipython",
    "version": 3
   },
   "file_extension": ".py",
   "mimetype": "text/x-python",
   "name": "python",
   "nbconvert_exporter": "python",
   "pygments_lexer": "ipython3",
   "version": "3.12.3"
  }
 },
 "nbformat": 4,
 "nbformat_minor": 5
}
