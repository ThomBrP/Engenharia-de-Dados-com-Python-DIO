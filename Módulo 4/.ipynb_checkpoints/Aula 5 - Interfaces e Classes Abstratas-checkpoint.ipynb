{
 "cells": [
  {
   "cell_type": "code",
   "execution_count": 38,
   "id": "06f066f8-cfd0-493a-83af-fccfc5f3866f",
   "metadata": {},
   "outputs": [
    {
     "name": "stdout",
     "output_type": "stream",
     "text": [
      "Thom - 1 - DIO\n",
      "Jor - 2 - DIO\n",
      "Thom - 1 - DIO\n",
      "Jor - 2 - DIO\n",
      "Thom - 1 - UFSC\n",
      "Jor - 2 - DIO\n",
      "Thom - 1 - UFSC\n",
      "Jor - 2 - UFSC\n",
      "Bah - 4 - UFSC\n"
     ]
    }
   ],
   "source": [
    "# Início da aula sobre interfaces e classes abstratas\n",
    "#Classes abstratas é complexo!\n",
    "\n",
    "# Variáveis de classe e variável de instância:\n",
    "# Atributos de instância são diferentes para cada objeto\n",
    "# Atributos de classe são compartilhado entre os objetos\n",
    "\n",
    "#Exemplo:\n",
    "\n",
    "class Estudante:\n",
    "    escola = \"DIO\" # Atributo de classe\n",
    "\n",
    "    def __init__(self, nome, numero):\n",
    "        self.nome = nome # Atributo de Instância\n",
    "        self.numero = numero\n",
    "\n",
    "    def __str__(self):\n",
    "        return f\"{self.nome} - {self.numero} - {self.escola}\"\n",
    "\n",
    "al1 = Estudante(\"Thom\", 1)\n",
    "al2 = Estudante(\"Jor\", 2)\n",
    "\n",
    "print(al1)\n",
    "print(al2)\n",
    "\n",
    "al1.matricula = 3\n",
    "\n",
    "print(al1)\n",
    "print(al2)\n",
    "\n",
    "al1.escola = \"UFSC\" # Esse caso não troca o de todo mundo!!!\n",
    "print(al1)\n",
    "print(al2)\n",
    "\n",
    "Estudante.escola = \"UFSC\" # Esse caso troca o de todo mundo!\n",
    "print(al1)\n",
    "print(al2)\n",
    "\n",
    "al3 = Estudante(\"Bah\", 4) # Esse já recebe o valor alterado\n",
    "print(al3)\n",
    "\n",
    "# Fim da aula sobre variáveis de Instância"
   ]
  },
  {
   "cell_type": "code",
   "execution_count": 39,
   "id": "69e9993c-4048-4499-abe1-e46b590c4a65",
   "metadata": {},
   "outputs": [
    {
     "name": "stdout",
     "output_type": "stream",
     "text": [
      "Thom 26\n",
      "Thom2 26\n"
     ]
    },
    {
     "data": {
      "text/plain": [
       "True"
      ]
     },
     "execution_count": 39,
     "metadata": {},
     "output_type": "execute_result"
    }
   ],
   "source": [
    "# Início da aula sobre métodos de classe e métodos estáticos!\n",
    "\n",
    "# Métodos de classe: Ligados à classe, não ao objeto \n",
    "# Métodos estáticos: Não recebe um primeiro argumento que relaciona diretamente a classe ou o objeto.\n",
    "\n",
    "# Exemplo:\n",
    "class Pessoa:\n",
    "    def __init__(self, nome = None, idade = None):\n",
    "        self.nome = nome\n",
    "        self. idade = idade\n",
    "\n",
    "    @classmethod # Define como um instanciador da classe! Método de classe!\n",
    "    def dt_nasc(cls, ano, mes, dia, nome):\n",
    "        idade = 2024 - ano\n",
    "        return Pessoa(nome, idade)\n",
    "\n",
    "    @staticmethod # Define o método estático, é possível chamar pela classe!\n",
    "    def e_maior(idade):\n",
    "        return idade>=18\n",
    "\n",
    "p = Pessoa(\"Thom\", 26)\n",
    "print(p.nome, p.idade)\n",
    "\n",
    "pe = Pessoa.dt_nasc(1998, 3, 21, \"Thom2\")\n",
    "print(pe.nome, pe.idade)\n",
    "\n",
    "Pessoa.e_maior(p.idade)"
   ]
  },
  {
   "cell_type": "code",
   "execution_count": 40,
   "id": "2378c01a-8587-4b22-ace9-a1d6f932436c",
   "metadata": {},
   "outputs": [],
   "source": [
    "# Interfaces [Não é interface gráfica!!! :(  ]\n",
    "# Saudades JPanel, JButton, Jqualquercoisa!!!\n",
    "\n",
    "#Interface define o que ela deve fazer, mas não necessariamente como ela deve fazer!\n",
    "\n",
    "# Python não possui interfaces nativamente, é utilizado hierarquia e um módulo para isso!\n"
   ]
  },
  {
   "cell_type": "code",
   "execution_count": 46,
   "id": "ffd45f36-9d1b-4ae5-92ba-2c7861370129",
   "metadata": {},
   "outputs": [
    {
     "name": "stdout",
     "output_type": "stream",
     "text": [
      "Ligando\n",
      "Desligado\n"
     ]
    }
   ],
   "source": [
    "import abc # Necessário \n",
    "# Classes abstratas com o módulo ABC\n",
    "\n",
    "# Abstract Basic Class\n",
    "\n",
    "# @abstractmethod -> obriga a classe filha a implementar o método da classe pai\n",
    "\n",
    "# Exemplo:\n",
    "\n",
    "\n",
    "\n",
    "class Controle_remoto(ABC): # Essa classe não podde ser instanciada\n",
    "    # Ou seja, nao existe um \"controle = Controle_remoto()\"\n",
    "\n",
    "    @abc.abstractmethod\n",
    "    def ligar(self):\n",
    "        pass\n",
    "        \n",
    "    @abc.abstractmethod # Não funcionou com o \"from abc import ABC\" não descobri o pq, mas resolvi dessa forma.\n",
    "    def desligar(self):\n",
    "        pass\n",
    "\n",
    "class ControleTV(Controle_remoto):\n",
    "    def ligar(self):\n",
    "        print(\"Ligando\")\n",
    "\n",
    "    def desligar(self):\n",
    "        print(\"Desligado\")\n",
    "\n",
    "controle = ControleTV()\n",
    "controle.ligar()\n",
    "controle.desligar()"
   ]
  },
  {
   "cell_type": "code",
   "execution_count": null,
   "id": "55701057-fc06-4bc2-9e15-45a7f9558875",
   "metadata": {},
   "outputs": [],
   "source": []
  }
 ],
 "metadata": {
  "kernelspec": {
   "display_name": "Python 3 (ipykernel)",
   "language": "python",
   "name": "python3"
  },
  "language_info": {
   "codemirror_mode": {
    "name": "ipython",
    "version": 3
   },
   "file_extension": ".py",
   "mimetype": "text/x-python",
   "name": "python",
   "nbconvert_exporter": "python",
   "pygments_lexer": "ipython3",
   "version": "3.12.3"
  }
 },
 "nbformat": 4,
 "nbformat_minor": 5
}
