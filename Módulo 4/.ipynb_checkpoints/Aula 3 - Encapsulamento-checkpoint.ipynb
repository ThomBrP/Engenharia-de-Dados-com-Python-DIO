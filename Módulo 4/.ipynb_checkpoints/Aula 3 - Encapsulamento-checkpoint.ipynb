{
 "cells": [
  {
   "cell_type": "code",
   "execution_count": 2,
   "id": "3f944195-4410-4370-ac00-0cf87cad30ae",
   "metadata": {},
   "outputs": [],
   "source": [
    "# Início da aula sobre Encapsulamento em Python\n",
    "# Introdução\n",
    "\n",
    "# Encapsulamento é descreve a ideia de agrupar dados e métodos que manipulam esses dados de unidade\n",
    "# Estamos falando de proteção de acesso dados internos de classes\n",
    "\n",
    "# Isso seria o public e o private de Java? SIM\n",
    "# Getters and setters?\n",
    "\n",
    "# Exemplo de encapsulamento: saque de dinheiro, a qual deve passar por uma validação\n",
    "# e não pode permanecer público para qualquer método utilizá-lo"
   ]
  },
  {
   "cell_type": "code",
   "execution_count": 12,
   "id": "04061ad3-1c39-4d1a-a8f1-1d43123f1532",
   "metadata": {},
   "outputs": [
    {
     "name": "stdout",
     "output_type": "stream",
     "text": [
      "Conta: a, Saldo: -30\n",
      "a\n"
     ]
    }
   ],
   "source": [
    "# Início da aula sobre recursos públicos e privados\n",
    "# Em python não existe o protected, public ou private. Mas existe convenção de nomes\n",
    "\n",
    "# Público: Apenas escreve o nome\n",
    "# _Privado: escreve o nome com um underline no começo\n",
    "\n",
    "_privado = \"Exemplo de variável privada\"\n",
    "public = \"Exemplo de variável pública\"\n",
    "\n",
    "# O compilador não vai impedir o acesso à classe. Em python é mais um conceito do que uma obrigação\n",
    "# ou seja, se você usar a variável fora, nada vai te impedir, mas é convenção que é errado!\n",
    "\n",
    "# a convenção por underline pode funcionar para métodos também\n",
    "\n",
    "#Exemplo:\n",
    "class Conta:\n",
    "    def __init__(self, saldo=0, n_conta=\"a\"):\n",
    "        self._saldo = saldo # privado\n",
    "        self.conta = n_conta # público\n",
    "\n",
    "    def depositar(self, valor): #Essa é uma classe interna, então faz sentido eu alterar o saldo por ela\n",
    "        self._saldo += valor\n",
    "\n",
    "    def sacar(self, valor): #Essa também é uma classe interna, então tambem faz sentido manipular a variável _saldo\n",
    "        self._saldo -= valor\n",
    "\n",
    "    def __str__(self):\n",
    "        return f\"Conta: {self.conta}, Saldo: {self._saldo}\"\n",
    "\n",
    "conta = Conta()\n",
    "conta.depositar(30) # Aqui estou inserindo 30 em \"saldo\", de maneira \"correta\"\n",
    "#conta._saldo += 30 #Isso aqui vai funcionar, mas vai contra a convenção!\n",
    "conta.sacar(60)\n",
    "print(conta)\n",
    "print(conta.conta) # Essa é uma variável pública, então faz sentido acessar diretamente a variável interna da classe!"
   ]
  },
  {
   "cell_type": "code",
   "execution_count": 24,
   "id": "ad43cff8-f5d5-4cd1-85b6-c9ccc4837cdc",
   "metadata": {},
   "outputs": [
    {
     "name": "stdout",
     "output_type": "stream",
     "text": [
      "10\n",
      "20\n",
      "-1\n",
      "Qualquer coisa depois do ponto\n",
      "Esse já precisa ser instanciado como método\n"
     ]
    },
    {
     "data": {
      "text/plain": [
       "<bound method Foo.qlqr_coisa_sem_o_ponto of <__main__.Foo object at 0x0000016EC0421C70>>"
      ]
     },
     "execution_count": 24,
     "metadata": {},
     "output_type": "execute_result"
    }
   ],
   "source": [
    "# Início da aula sobre propriedades em Python\n",
    "\n",
    "# Propriedade é um \"método\" que define um certo comportamento da classe em python\n",
    "# As propriedades são pré definidas\n",
    "\n",
    "# Exemplo:\n",
    "class Foo:\n",
    "    def __init__(self, x = None):\n",
    "        self._x = x\n",
    "\n",
    "    @property # esse eu tou chamando x como atributo\n",
    "    def x(self): # foo.x por exemplo, para acessar o _x que é privado\n",
    "        return self._x or 0 #ou fazer qualquer outra coisa\n",
    "\n",
    "    @property\n",
    "    def qlqr_coisa_depois_do_ponto(self):\n",
    "        print(\"Qualquer coisa depois do ponto\")\n",
    "        \n",
    "    def qlqr_coisa_sem_o_ponto(self):\n",
    "        print(\"Esse já precisa ser instanciado como método\")\n",
    "\n",
    "    @x.setter # esse é instanciado no foo = 10 por exemplo.\n",
    "    def x(self, value):\n",
    "        _x = self.x or 0\n",
    "        _value = value or 0\n",
    "        self._x = _x + _value\n",
    "\n",
    "    @x.deleter # esse é instanciado no del foo\n",
    "    def x(self):\n",
    "        self._x = -1\n",
    "\n",
    "foo = Foo(10)\n",
    "print(foo.x)\n",
    "foo.x = 10\n",
    "print(foo.x)\n",
    "del foo.x\n",
    "print(foo.x)\n",
    "foo.qlqr_coisa_depois_do_ponto\n",
    "#foo.qlqr_coisa_depois_do_ponto() # Não funciona chamar como método propriedades!\n",
    "foo.qlqr_coisa_sem_o_ponto()\n",
    "foo.qlqr_coisa_sem_o_ponto  # Retorna o que é (um método)\n",
    "\n",
    "\n",
    "# existem outras propriedades que dá pra fazer (igual setter e deleter)? e pra que serve?\n",
    "# Fim da aula sobre encapsulamento!"
   ]
  },
  {
   "cell_type": "code",
   "execution_count": null,
   "id": "148bbc4e-f06c-42b5-8e43-40bacca2e4a2",
   "metadata": {},
   "outputs": [],
   "source": []
  }
 ],
 "metadata": {
  "kernelspec": {
   "display_name": "Python 3 (ipykernel)",
   "language": "python",
   "name": "python3"
  },
  "language_info": {
   "codemirror_mode": {
    "name": "ipython",
    "version": 3
   },
   "file_extension": ".py",
   "mimetype": "text/x-python",
   "name": "python",
   "nbconvert_exporter": "python",
   "pygments_lexer": "ipython3",
   "version": "3.12.3"
  }
 },
 "nbformat": 4,
 "nbformat_minor": 5
}
