{
 "cells": [
  {
   "cell_type": "code",
   "execution_count": 56,
   "id": "576089a9-e1d8-4f70-aa23-3ab58c0f8d81",
   "metadata": {},
   "outputs": [],
   "source": [
    "# Início da aula de Introdução à Programação Orientada a Objetos com Python\n",
    "# Saudades do meu serviço na GH contabilidade e da POO em Java!"
   ]
  },
  {
   "cell_type": "code",
   "execution_count": 57,
   "id": "6a570643-68c7-4996-8db4-d677e0136f9a",
   "metadata": {},
   "outputs": [],
   "source": [
    "# POO: Classes e Objetos\n",
    "# Uma maneira diferente de resolver problemas do mundo real.\n",
    "# POO na minha perspectiva é bem mais conceitual do que de fato programática\n",
    "\n",
    "\n",
    "# ANOTAÇÕES PESSOAIS DO QUE EU ME LEMBRO:\n",
    "\n",
    "# Classe = alguma coisa que mereça ser tratada de forma mais detalhada\n",
    "# Exemplo de classe = Pessoa, Funcionário, Venda, Tabelas (em banco de dados), etc\n",
    "# Normalmente, as classes e as tabelas dos bancos de dados são as mesmas!\n",
    "\n",
    "# Atributo: Uma característica da classe\n",
    "# Exemplo de atributo = nome, cpf, idade, valor de venda, endereço, data, setor, etc...\n"
   ]
  },
  {
   "cell_type": "code",
   "execution_count": 58,
   "id": "6cc1a566-a64d-40ff-9b2c-922db7f9990e",
   "metadata": {},
   "outputs": [],
   "source": [
    "# Início da aula de conceito de classe\n",
    "# Classe = abstração de características e comportamentos de um objeto.\n",
    "\n",
    "# Exemplo de classe: casa\n",
    "# Exemplo de objeto: casa x\n",
    "# Exemplo de atributo: tamanho, endereço, cor, n_quartos, etc"
   ]
  },
  {
   "cell_type": "code",
   "execution_count": 59,
   "id": "57ffecad-8917-488f-a65f-da753970b127",
   "metadata": {},
   "outputs": [],
   "source": [
    "class Cachorro: # Classes começar com letra MAIÚSCULA!\n",
    "    # init tem dois underline __init__ não _init_\n",
    "    def __init__(self, nome, cor, acordado = True): # Método padrão de quando instancia a classe\n",
    "        # Self me parece padrão, mas vamos ver mais pra frente!\n",
    "        self.nome = nome # definindo os atributos\n",
    "        self.cor = cor\n",
    "        self. acordado = acordado\n",
    "\n",
    "    def latir(self): # quando diz \"self\" estamos falando do atributo atual\n",
    "        # nesse caso, latir é um comportamento do objeto cachorro x\n",
    "        # o pensamento correto é o seguinte:\n",
    "        # classe = raça cachorro\n",
    "        # objeto = cachorro rex\n",
    "        # método = o que o rex faz (late)\n",
    "        # atributo = o que caracteriza o rex? (nome rex, cor caramelo, acordado = False, etc).\n",
    "        print(\"AUAU\")\n",
    "\n",
    "    def dormir(self): # método.\n",
    "        self.acordado = False\n",
    "        print(\"ZZZzzz...\")"
   ]
  },
  {
   "cell_type": "code",
   "execution_count": 60,
   "id": "ac17f83b-e5f7-42cb-a044-51be613c6323",
   "metadata": {},
   "outputs": [
    {
     "name": "stdout",
     "output_type": "stream",
     "text": [
      "AUAU\n",
      "False\n"
     ]
    }
   ],
   "source": [
    "rex = Cachorro(\"Rex\", \"Caramelo\", False)\n",
    "pity = Cachorro(\"Pity\", \"Frajola\", False) # Press f to pay respects\n",
    "\n",
    "rex.latir() # poderia ter uma verificação se ele tá acordado antes de latir né?\n",
    "\n",
    "print(rex.acordado)\n"
   ]
  },
  {
   "cell_type": "code",
   "execution_count": 61,
   "id": "caa829eb-6d41-420d-a9c4-d818681316cf",
   "metadata": {},
   "outputs": [
    {
     "name": "stdout",
     "output_type": "stream",
     "text": [
      "PLIMMm\n",
      "*Sons de correntes rodando*\n",
      "*sons agudos de freio freiando*\n",
      "PLIMMm\n",
      "*sons agudos de freio freiando*\n",
      "Ih alá, chegou o zezin e o manézin com as bicicletas que o patrão trouxe\n"
     ]
    }
   ],
   "source": [
    "# Primeiro programa POO:\n",
    "\n",
    "class Bicicleta:\n",
    "    def __init__(self, cor, modelo, ano, valor):\n",
    "        self.cor = cor\n",
    "        self.modelo = modelo\n",
    "        self.ano = ano\n",
    "        self.valor = valor\n",
    "\n",
    "    def buzinar(self):\n",
    "        print(\"PLIMMm\")\n",
    "\n",
    "    def parar(self):\n",
    "        print(\"*sons agudos de freio freiando*\")\n",
    "\n",
    "    def correr(self):\n",
    "        print(\"*Sons de correntes rodando*\")\n",
    "\n",
    "bicicleta_1 = Bicicleta(\"verde\", \"abc\", 2014, 500)\n",
    "bicicleta_2 = Bicicleta(\"azul\", \"abc\", 2019, 750)\n",
    "\n",
    "bicicleta_1.buzinar()\n",
    "bicicleta_1.correr()\n",
    "bicicleta_1.parar()\n",
    "bicicleta_2.buzinar()\n",
    "bicicleta_2.parar()\n",
    "print(\"Ih alá, chegou o zezin e o manézin com as bicicletas que o patrão trouxe\")\n",
    "\n",
    "# Essa versão eu fiz antes de assistir o vídeo resolvendo o desafio."
   ]
  },
  {
   "cell_type": "code",
   "execution_count": 62,
   "id": "b7d06b7a-7c00-4152-bef3-e17f3b20a804",
   "metadata": {},
   "outputs": [
    {
     "name": "stdout",
     "output_type": "stream",
     "text": [
      "Plim Plim...\n",
      "Vruuuum\n",
      "Parando\n",
      "Bicicleta parada\n",
      "vermelha caloi 2022 600\n",
      "Plim Plim...\n",
      "Bicicleta2: ['cor=vermelha', 'modelo=caloi', 'ano=2022', 'valor=600']\n"
     ]
    }
   ],
   "source": [
    "# Versão da Bicicleta com o do professor:\n",
    "class Bicicleta2:\n",
    "    def __init__(self, cor, modelo, ano, valor):\n",
    "        self.cor = cor\n",
    "        self.modelo = modelo\n",
    "        self. ano = ano\n",
    "        self.valor = valor\n",
    "\n",
    "    def buzinar(self):\n",
    "        print(\"Plim Plim...\")\n",
    "\n",
    "    def parar(self):\n",
    "        print(\"Parando\")\n",
    "        print(\"Bicicleta parada\")\n",
    "\n",
    "    def correr(self):\n",
    "        print(\"Vruuuum\")\n",
    "\n",
    "    #def __str__(self):\n",
    "        #return f\"Bicicleta: {self.cor}, {self.modelo}, {self.ano}, {self.valor}\"\n",
    "\n",
    "    def __str__(self):\n",
    "        return f\"{self.__class__.__name__}: {[f'{chave}={valor}' for chave, valor in self.__dict__.items()]}\"\n",
    "\n",
    "    #Erro Muito Comum\n",
    "    def troca_marcha(n_marcha): # Nesse caso, foi considerado n_marcha como sendo o \"self\"\n",
    "        # se eu fizer o print(n_marcha) vai retornar o __str__ pq n_marcha é o objeto em si!!!\n",
    "        print(\"Marcha Trocada\")\n",
    "\n",
    "    def funcao(): # Essa não pode ser instanciada, nao pode estar vazio\n",
    "        # Isso é pq a referencia é explícita, tem que ter o self ali nos parametros\n",
    "        # Se eu chamar essa função no código, vai dar erro!\n",
    "        print(\"Faz algo\")\n",
    "\n",
    "caloi = Bicicleta2(\"vermelha\", \"caloi\", 2022, 600)\n",
    "caloi.buzinar()\n",
    "caloi.correr()\n",
    "caloi.parar()\n",
    "\n",
    "print(caloi.cor, caloi.modelo, caloi.ano, caloi.valor)\n",
    "\n",
    "#Detalhes sobre o self:\n",
    "b2 = Bicicleta2(\"Verde\" , \"monark\", 2022, 800) # declarei uma nova bicicleta\n",
    "Bicicleta2.buzinar(b2) # mas aqui estou buscando o método direto da classe, não do objeto.\n",
    "# Nesse caso, devo passar qual o objeto em questão\n",
    "# Quando faço por exemplo: b2.buzinar(), o self é o b2 automaticamente\n",
    "# Isso é chamado de instanciamento explícito ou referência explícita\n",
    "\n",
    "print(caloi) # __str__ serve para retornar o que vai aparecer quando eu coloco só o nome da variável!\n",
    "\n",
    "#Fim do código\n"
   ]
  },
  {
   "cell_type": "code",
   "execution_count": 67,
   "id": "e29a7718-6746-42b6-ac1b-1be8d3a5d4c3",
   "metadata": {},
   "outputs": [
    {
     "name": "stdout",
     "output_type": "stream",
     "text": [
      "Iniciou a classe\n",
      "Destruindo o dog!\n",
      "Iniciou a classe\n",
      "Dog: Nome, Caramelo, True\n",
      "Dog: Nome2, None, True\n",
      "Destruindo o dog!\n"
     ]
    }
   ],
   "source": [
    "# Início da aula sobre construtores e destrutores\n",
    "\n",
    "# Método construtor = sempre que eu instanciar a classe (criar um novo objeto) esse método vai ser instanciado\n",
    "# Método padrão: __init__\n",
    "# Sempre que tiver __ significa que são métodos especiais\n",
    "\n",
    "class Cachorro3:\n",
    "    def __init__(self, nom):\n",
    "        print(\"Iniciou a classe 2\")\n",
    "        self.nome = nom\n",
    "        self.cor = 1\n",
    "        self.acordado = False\n",
    "        print(\"Construtor teste, para verificar se Python aceita vários construtores!\")\n",
    "        \n",
    "    def __init__(self, nome, cor = None, acordado = True):\n",
    "        print(\"Iniciou a classe\")\n",
    "        self.nome = nome\n",
    "        self.cor = cor\n",
    "        self.acordado = acordado\n",
    "\n",
    "    def __str__(self):\n",
    "        return f\"Dog: {self.nome}, {self.cor}, {self.acordado}\"\n",
    "\n",
    "    def __del__(self): # Não é muito comum, porque Python tem um \"coletor de lixo\"\n",
    "        # Coletor de lixo = não deixa acontecer vazamento de memória\n",
    "        # Vazamento = eu reservei um endereço de memoria para o código e larguei lá\n",
    "        # mesmo depois que o código terminou! Isso é um vazamento\n",
    "        \n",
    "        # Não tenho saudades dos vazamentos que eu fazia em C na faculdade!\n",
    "        # Só pra lembrar que Ponteiros é delicado de tratar...\n",
    "        print(\"Destruindo o dog!\")\n",
    "        \n",
    "\n",
    "# Ambos estão sendo instanciados no segundo init\n",
    "# Só funciona o dog2 quando coloquei cor = none nos parâmetros do init\n",
    "# Mas PORQUE não é o primeiro init o que vale? se ele está mais pra cima?\n",
    "dog2 = Cachorro3(\"Nome2\")\n",
    "dog1 = Cachorro3(\"Nome\", \"Caramelo\")\n",
    "\n",
    "print(dog1)\n",
    "print(dog2)\n",
    "\n",
    "del dog1\n",
    "#print(dog1) # Erro! Dog1 não existe\n",
    "\n",
    "# a sequencia ta sendo: iniciar, destruir, iniciar, destruir, dog1, dog2.\n",
    "# Como que está sendo destruído o objeto, mas no print ele ta sendo referenciado e funcionando??????"
   ]
  },
  {
   "cell_type": "code",
   "execution_count": 68,
   "id": "4895e870-3a35-47d7-9d76-bfceaaea72d6",
   "metadata": {},
   "outputs": [],
   "source": [
    "#Fim da aula introdutória sobre classes"
   ]
  },
  {
   "cell_type": "code",
   "execution_count": null,
   "id": "b9d64963-30fc-4ded-a784-316f4c2d8ba6",
   "metadata": {},
   "outputs": [],
   "source": []
  }
 ],
 "metadata": {
  "kernelspec": {
   "display_name": "Python 3 (ipykernel)",
   "language": "python",
   "name": "python3"
  },
  "language_info": {
   "codemirror_mode": {
    "name": "ipython",
    "version": 3
   },
   "file_extension": ".py",
   "mimetype": "text/x-python",
   "name": "python",
   "nbconvert_exporter": "python",
   "pygments_lexer": "ipython3",
   "version": "3.12.3"
  }
 },
 "nbformat": 4,
 "nbformat_minor": 5
}
