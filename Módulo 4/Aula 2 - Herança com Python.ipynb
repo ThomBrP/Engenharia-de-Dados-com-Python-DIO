{
 "cells": [
  {
   "cell_type": "code",
   "execution_count": 50,
   "id": "705c7953-0134-4550-b5d6-7cc20119129b",
   "metadata": {},
   "outputs": [],
   "source": [
    "# Início da aula sobre Heranças em Python\n",
    "\n",
    "# Herança em POO -> capacidade de uma classe filha derivar ou herdar as\n",
    "# Características e comportamentos da classe pai (base)\n",
    "\n"
   ]
  },
  {
   "cell_type": "code",
   "execution_count": 51,
   "id": "27bc3982-11bf-4c4a-ac2c-788efe66a561",
   "metadata": {},
   "outputs": [],
   "source": [
    "class A:\n",
    "    pass\n",
    "\n",
    "class B(A):\n",
    "    pass\n",
    "\n",
    "class C(B):\n",
    "    pass\n",
    "\n",
    "# Classe A (Pai de B, Avô de C)\n",
    "# Classe B (filha de A, pai de C)\n",
    "# Classe C (Filha de B, neto de A)\n",
    "# E assim por diante..."
   ]
  },
  {
   "cell_type": "code",
   "execution_count": 52,
   "id": "d46989b0-61c4-4175-8429-e2b9bf27b630",
   "metadata": {},
   "outputs": [],
   "source": [
    "# Herança simples e herança múltipla:\n",
    "# Herança simples acima!\n",
    "\n",
    "# Herança múltipla:\n",
    "# Quando uma classe filha pode herdar de várias classes pai\n",
    "class A:\n",
    "    pass\n",
    "\n",
    "class B: # Foco que nesse caso B não é filho de A\n",
    "    pass\n",
    "    \n",
    "class C(A, B): # Se B fosse filho de A, teria uma relação de filho pra pai pra avô (erro)\n",
    "    pass"
   ]
  },
  {
   "cell_type": "code",
   "execution_count": 53,
   "id": "48c4ea38-9a90-41a4-9daf-2fca71030d7a",
   "metadata": {},
   "outputs": [
    {
     "name": "stdout",
     "output_type": "stream",
     "text": [
      "VrummmMMMMMMMM [....]\n",
      "Hannananananana pá pá pá\n",
      "mmmmMMmmmMMMmmmm    .   .  .. \n",
      "preta\n",
      "\n",
      "\n",
      "VrummmMMMMMMMM [....]\n",
      "\n",
      "\n",
      "VrummmMMMMMMMM [....]\n",
      "Não estou carregado\n",
      "Vermelho\n"
     ]
    }
   ],
   "source": [
    "# Hands on herança simples!\n",
    "\n",
    "class Veiculo:\n",
    "    def __init__(self, cor, placa, n_rodas, ligado = False):\n",
    "        self.cor = cor\n",
    "        self.placa = placa\n",
    "        self.n_rodas = n_rodas\n",
    "        self.ligado = False\n",
    "\n",
    "    def ligar_motor(self):\n",
    "        self.ligado = True\n",
    "        print(\"VrummmMMMMMMMM [....]\")\n",
    "\n",
    "    def desligar_motor(self):\n",
    "        print(\"mmmmMMmmmMMMmmmm    .   .  .. \")\n",
    "\n",
    "    def __str__(self):\n",
    "        return self.cor\n",
    "\n",
    "class Moto(Veiculo):\n",
    "    def corta_giro(self):\n",
    "        if(self.ligado == True):\n",
    "            print(\"Hannananananana pá pá pá\")\n",
    "        else:\n",
    "            print(\"eeh, tem que ligar a moto!\")\n",
    "\n",
    "\n",
    "class Carro(Veiculo):\n",
    "    pass\n",
    "    \n",
    "class Caminhao(Veiculo):\n",
    "    # Essa função substitui a anterior, então foco no super()\n",
    "    def __init__(self, cor, placa, n_rodas, carregado = False):\n",
    "        super().__init__(cor, placa, n_rodas) # Se eu não fizer isso, ele não define os atributos anteriores\n",
    "        self.carregado = carregado\n",
    " \n",
    "    def isCarregado(self):\n",
    "        if(self.carregado):\n",
    "            print(\"Estou carregado!\")\n",
    "        else:\n",
    "            print(\"Não estou carregado\")\n",
    "\n",
    "moto = Moto(\"preta\", \"abc-1234\", 2)\n",
    "moto.ligar_motor()\n",
    "moto.corta_giro()\n",
    "moto.desligar_motor()\n",
    "print(moto)\n",
    "\n",
    "print(\"\\n\")\n",
    "\n",
    "carro = Carro(\"Branco\", \"Maga123\", 4)\n",
    "carro.ligar_motor()\n",
    "\n",
    "print(\"\\n\")\n",
    "\n",
    "caminhao = Caminhao(\"Vermelho\", \"C1L4D4_B1N0\", 8)\n",
    "caminhao.ligar_motor()\n",
    "caminhao.isCarregado()\n",
    "\n",
    "print(caminhao) # Só a cor!\n",
    "\n",
    "#Fim da aula sobre herança simples!"
   ]
  },
  {
   "cell_type": "code",
   "execution_count": 54,
   "id": "e584d2fb-262c-4fa6-bc5e-ea8c44c8b579",
   "metadata": {},
   "outputs": [
    {
     "name": "stdout",
     "output_type": "stream",
     "text": [
      "Gato: cor = Preto, n_patas = 4\n",
      "\n",
      "\n",
      "Ornitorrinco: cor = cinza, n_patas = 4, n_asa = 0\n",
      "\n",
      "\n",
      "Acelerando....\n",
      "Baleia: cor = Azul, n_patas = 0, n_nadadeira = 2\n"
     ]
    }
   ],
   "source": [
    "# Início da aula sobre heranças múltiplas!\n",
    "\n",
    "class Animal:\n",
    "    def __init__(self, cor, n_patas):\n",
    "        self.cor = cor\n",
    "        self.n_patas = n_patas\n",
    "\n",
    "    def __str__(self):\n",
    "        return f\"{self.__class__.__name__}: {', '.join([f'{chave} = {valor}' for chave, valor in self.__dict__.items()])}\"\n",
    "\n",
    "class VelocidadeMixin():\n",
    "    def acelerar(self):\n",
    "        print(\"Acelerando....\")\n",
    "\n",
    "    def freiar(self):\n",
    "        print(\"Reduzindo a velocidade...\")\n",
    "\n",
    "class Mamifero(Animal):\n",
    "    def __init__(self, **kw):\n",
    "        super().__init__(**kw)\n",
    "\n",
    "class Ave(Animal):\n",
    "    def __init__(self, n_asa, **kw):\n",
    "        super().__init__(**kw)\n",
    "        self.n_asa = n_asa\n",
    "    \n",
    "class Peixe(Animal, VelocidadeMixin):\n",
    "    def __init__(self, n_nadadeira = 0, **kw):\n",
    "        super().__init__(**kw)\n",
    "        self.n_nadadeira = n_nadadeira\n",
    "\n",
    "\n",
    "class Gato(Mamifero):\n",
    "    pass\n",
    "class Ornitorrinco(Mamifero, Ave):\n",
    "    def __init__(self, cor, n_patas, n_asa):\n",
    "        # print(Ornitorrinco.__mro__) # Verifica a ordem de busca das informações\n",
    "        super().__init__(cor = cor, n_patas = n_patas, n_asa = n_asa)\n",
    "class Baleia(Mamifero, Peixe):\n",
    "    pass\n",
    "\n",
    "\n",
    "gato = Gato(cor = \"Preto\", n_patas = 4)\n",
    "print(gato)\n",
    "\n",
    "print(\"\\n\")\n",
    "\n",
    "orni = Ornitorrinco(n_asa = 0, cor = \"cinza\", n_patas = 4)\n",
    "print(orni)\n",
    "\n",
    "print(\"\\n\")\n",
    "\n",
    "bal = Baleia(cor = \"Azul\", n_patas = 0, n_nadadeira = 2)\n",
    "bal.acelerar()\n",
    "print(bal)\n",
    "\n",
    "# Fimm da aula sobre herança múltiplas"
   ]
  },
  {
   "cell_type": "code",
   "execution_count": 55,
   "id": "74c9ec68-ee75-4541-bddc-1b6f3ad7fdd1",
   "metadata": {},
   "outputs": [
    {
     "name": "stdout",
     "output_type": "stream",
     "text": [
      "bar\n"
     ]
    }
   ],
   "source": [
    "class Foo:\n",
    "    def hello(self):\n",
    "        print(self.__class__.__name__.lower())\n",
    "\n",
    "class Bar(Foo):\n",
    "    def hello(self):\n",
    "        return super().hello()\n",
    "\n",
    "bar = Bar()\n",
    "bar.hello()"
   ]
  },
  {
   "cell_type": "code",
   "execution_count": null,
   "id": "e6f5a9a0-96e0-4ab6-9761-24afd05b6d9e",
   "metadata": {},
   "outputs": [],
   "source": []
  }
 ],
 "metadata": {
  "kernelspec": {
   "display_name": "Python 3 (ipykernel)",
   "language": "python",
   "name": "python3"
  },
  "language_info": {
   "codemirror_mode": {
    "name": "ipython",
    "version": 3
   },
   "file_extension": ".py",
   "mimetype": "text/x-python",
   "name": "python",
   "nbconvert_exporter": "python",
   "pygments_lexer": "ipython3",
   "version": "3.12.3"
  }
 },
 "nbformat": 4,
 "nbformat_minor": 5
}
