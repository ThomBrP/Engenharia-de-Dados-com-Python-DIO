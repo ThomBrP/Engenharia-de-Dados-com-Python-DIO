{
 "cells": [
  {
   "cell_type": "code",
   "execution_count": 9,
   "id": "7568d0ac-5a38-4e6f-a161-b875de5dbf93",
   "metadata": {},
   "outputs": [
    {
     "name": "stdin",
     "output_type": "stream",
     "text": [
      " 5, 10, 15, 20, 25, 30, 35, 40, 45, 50, 55, 60\n"
     ]
    },
    {
     "name": "stdout",
     "output_type": "stream",
     "text": [
      "390, 32.50\n"
     ]
    }
   ],
   "source": [
    "def analise_vendas(vendas):\n",
    "    # TODO: Calcule o total de vendas e realize a média mensal:\n",
    "    total_vendas = 0\n",
    "    for venda in vendas:\n",
    "        total_vendas += venda\n",
    "\n",
    "    media_vendas = total_vendas/len(vendas)\n",
    "    \n",
    "    return f\"{total_vendas}, {media_vendas:.2f}\"\n",
    "\n",
    "def obter_entrada_vendas():\n",
    "    # Solicita a entrada do usuário em uma única linha\n",
    "    entrada = input()\n",
    "    # TODO: Converta a entrada em uma lista de inteiros:\n",
    "    vendas_string = entrada.split(\",\")\n",
    "    vendas_map = map(int, vendas_string)\n",
    "    vendas = list(vendas_map)\n",
    "    \n",
    "    return vendas\n",
    "\n",
    "vendas = obter_entrada_vendas()\n",
    "print(analise_vendas(vendas))"
   ]
  },
  {
   "cell_type": "code",
   "execution_count": 18,
   "id": "79446913-45cb-49c1-b717-5cf39b58b4ae",
   "metadata": {},
   "outputs": [
    {
     "name": "stdin",
     "output_type": "stream",
     "text": [
      " Impressora, Teclado, Monitor, Monitor, Teclado, Impressora, Impressora\n"
     ]
    },
    {
     "name": "stdout",
     "output_type": "stream",
     "text": [
      "Impressora\n"
     ]
    }
   ],
   "source": [
    "def produto_mais_vendido(produtos):\n",
    "    contagem = {}\n",
    "    \n",
    "    for produto in produtos:\n",
    "        if produto in contagem:\n",
    "            contagem[produto] += 1\n",
    "        else:\n",
    "            contagem[produto] = 1\n",
    "    \n",
    "    max_produto = None\n",
    "    max_count = 0\n",
    "    \n",
    "    for produto, count in contagem.items():\n",
    "        # TODO: Encontre o produto com a maior contagem:\n",
    "        if count > max_count:\n",
    "            max_count = count\n",
    "            max_produto = produto     \n",
    "    \n",
    "    return max_produto\n",
    "\n",
    "def obter_entrada_produtos():\n",
    "    # Solicita a entrada do usuário em uma única linha\n",
    "    entrada = input()\n",
    "    # TODO: Converta a entrada em uma lista de strings, removendo espaços extras:\n",
    "\n",
    "    produtos = entrada.split(',')\n",
    "    for index in range(len(produtos)):\n",
    "        produtos[index] = produtos[index].strip()\n",
    "    \n",
    "    return produtos\n",
    "\n",
    "produtos = obter_entrada_produtos()\n",
    "print(produto_mais_vendido(produtos))"
   ]
  },
  {
   "cell_type": "code",
   "execution_count": null,
   "id": "4d324ee5-1ca7-41fa-9cd8-433aaa7cf857",
   "metadata": {},
   "outputs": [],
   "source": []
  }
 ],
 "metadata": {
  "kernelspec": {
   "display_name": "Python 3 (ipykernel)",
   "language": "python",
   "name": "python3"
  },
  "language_info": {
   "codemirror_mode": {
    "name": "ipython",
    "version": 3
   },
   "file_extension": ".py",
   "mimetype": "text/x-python",
   "name": "python",
   "nbconvert_exporter": "python",
   "pygments_lexer": "ipython3",
   "version": "3.12.3"
  }
 },
 "nbformat": 4,
 "nbformat_minor": 5
}
