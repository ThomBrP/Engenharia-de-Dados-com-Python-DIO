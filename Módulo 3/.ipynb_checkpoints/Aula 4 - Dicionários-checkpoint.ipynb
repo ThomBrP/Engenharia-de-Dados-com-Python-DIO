{
 "cells": [
  {
   "cell_type": "code",
   "execution_count": 2,
   "id": "604e0235-091d-4d7a-a612-6818331b5fa7",
   "metadata": {},
   "outputs": [],
   "source": [
    "# Início da aula sobre dicionários\n",
    "# Conjunto não ordenado de pares chave:valor (estilo json?)\n",
    "# A chave é imutável, pode ser tupla"
   ]
  },
  {
   "cell_type": "code",
   "execution_count": 5,
   "id": "ff3bc379-4b66-43be-901a-cff35ad38cf8",
   "metadata": {},
   "outputs": [],
   "source": [
    "pessoa = {\"nome\" : \"Thom\", \"idade\": 28}\n",
    "\n",
    "pessoa = dict(nome=\"Thom\", idade=28)\n",
    "\n",
    "pessoa[\"telefone\"] = \"xx x xxxx-xxxx\""
   ]
  },
  {
   "cell_type": "code",
   "execution_count": 7,
   "id": "8fbca63e-c930-4f9d-93bd-abcf1b79f9e7",
   "metadata": {},
   "outputs": [
    {
     "name": "stdout",
     "output_type": "stream",
     "text": [
      "Thom\n",
      "28\n",
      "xx x xxxx-xxxx\n"
     ]
    }
   ],
   "source": [
    "print(pessoa[\"nome\"])\n",
    "print(pessoa[\"idade\"])\n",
    "print(pessoa[\"telefone\"])"
   ]
  },
  {
   "cell_type": "code",
   "execution_count": 10,
   "id": "3712e84c-09f8-45b3-a8b4-e7229efa5a24",
   "metadata": {},
   "outputs": [
    {
     "data": {
      "text/plain": [
       "{'nome': 'Thom2', 'idade': 26, 'telefone': 'yy y yyyy-yyyy'}"
      ]
     },
     "execution_count": 10,
     "metadata": {},
     "output_type": "execute_result"
    }
   ],
   "source": [
    "pessoa[\"nome\"] = \"Thom2\"\n",
    "pessoa[\"idade\"] = 26\n",
    "pessoa[\"telefone\"] = \"yy y yyyy-yyyy\" # estou reatribuindo usando as chaves como referência  \n",
    "pessoa"
   ]
  },
  {
   "cell_type": "code",
   "execution_count": 14,
   "id": "b23610bc-d162-4408-93a1-0a796dc9da4c",
   "metadata": {},
   "outputs": [
    {
     "name": "stdout",
     "output_type": "stream",
     "text": [
      "1998\n"
     ]
    },
    {
     "data": {
      "text/plain": [
       "{'Carro1': {'nome': 'Carro1', 'Ano': 1998},\n",
       " 'Carro2': {'nome': 'Carro2', 'Ano': 2000},\n",
       " 'Carro3': {'nome': 'Carro3', 'Ano': 2024}}"
      ]
     },
     "execution_count": 14,
     "metadata": {},
     "output_type": "execute_result"
    }
   ],
   "source": [
    "# É possível ter uma matriz de dicionário!!!\n",
    "carros = {\n",
    "    \"Carro1\" : {\"nome\": \"Carro1\", \"Ano\": 1998},\n",
    "    \"Carro2\" : {\"nome\": \"Carro2\", \"Ano\": 2000},\n",
    "    \"Carro3\" : {\"nome\": \"Carro3\", \"Ano\": 2024}\n",
    "}\n",
    "print(carros[\"Carro1\"][\"Ano\"])\n",
    "carros"
   ]
  },
  {
   "cell_type": "code",
   "execution_count": 15,
   "id": "da0d4414-1018-4427-9b6b-23554618fcec",
   "metadata": {},
   "outputs": [
    {
     "name": "stdout",
     "output_type": "stream",
     "text": [
      "Carro1 {'nome': 'Carro1', 'Ano': 1998}\n",
      "Carro2 {'nome': 'Carro2', 'Ano': 2000}\n",
      "Carro3 {'nome': 'Carro3', 'Ano': 2024}\n"
     ]
    }
   ],
   "source": [
    "for carro in carros:\n",
    "    print(carro, carros[carro])"
   ]
  },
  {
   "cell_type": "code",
   "execution_count": 16,
   "id": "95027714-46b9-48e8-80aa-d97c1d2e7809",
   "metadata": {},
   "outputs": [
    {
     "name": "stdout",
     "output_type": "stream",
     "text": [
      "Carro1 {'nome': 'Carro1', 'Ano': 1998}\n",
      "Carro2 {'nome': 'Carro2', 'Ano': 2000}\n",
      "Carro3 {'nome': 'Carro3', 'Ano': 2024}\n"
     ]
    }
   ],
   "source": [
    "for carro, valor in carros.items():\n",
    "    print(carro, valor)"
   ]
  },
  {
   "cell_type": "code",
   "execution_count": 17,
   "id": "a29d9e64-38eb-43ed-a04b-2a5499fe9676",
   "metadata": {},
   "outputs": [],
   "source": [
    "# Fim da aula sobre criação e acesso aos dicionários!\n",
    "# Início da aula sobre métodos"
   ]
  },
  {
   "cell_type": "code",
   "execution_count": 18,
   "id": "6ba0a6f3-41f9-4079-a8f7-b53f0013abf7",
   "metadata": {},
   "outputs": [],
   "source": [
    "# .clear() -> Apaga tudo\n",
    "# .copy() -> Retorna uma cópia do dicionário\n",
    "# .fromkeys([\"nome\", \"telefone\"]) -> Cria um dicionário com as chaves passadas, com os valores nulos\n",
    "# .fromkeys([\"nome\", \"telefone], \"Vazio\") -> cria um dicionario com as chaves passads, com valor padrao\n",
    "# .get(\"Chave\") -> Acessar a chave, se existir ele retorna None\n",
    "# .keys() -> Retorna as chaves presentes no dicionário\n",
    "# .pop() -> Remove um valor do dicionário. Se a chave não existir, retorna None\n",
    "# .setdefault(\"nome\",\"teste\") -> se a chave não existir, ele cria e coloca o nome. Se já existir, só inclui\n",
    "# .update({}) -> atualiza o dicionário com um novo dicionário, se as chaves em questão não existirem\n",
    "# .values() -> Retorna apenas os valores do dicionário\n",
    "# in -> verifica se o valor está presente no dicionário. (retorna True ou False)\n",
    "# del contatos[\"contato\"][\"telefone\"] -> deleta o valor\n",
    "# del contatos[\"contato\"] -> deleta a chave"
   ]
  },
  {
   "cell_type": "code",
   "execution_count": 19,
   "id": "f58c0cdf-6263-43b8-9699-40559d01d3d5",
   "metadata": {},
   "outputs": [],
   "source": [
    "#Fim da aula sobre métodos"
   ]
  },
  {
   "cell_type": "code",
   "execution_count": 22,
   "id": "701ece6a-2b0e-4f63-83fe-82ad21befb56",
   "metadata": {},
   "outputs": [
    {
     "name": "stdout",
     "output_type": "stream",
     "text": [
      "None\n"
     ]
    }
   ],
   "source": [
    "carro = {\"marca\": \"Fiat\", \"modelo\": \"palio\", \"placa\": \"ABD-9826\"}\n",
    "print(carro.get(\"motor\"))"
   ]
  },
  {
   "cell_type": "code",
   "execution_count": null,
   "id": "4bb434f6-9f58-42e0-8c9b-e6c812d574f5",
   "metadata": {},
   "outputs": [],
   "source": []
  }
 ],
 "metadata": {
  "kernelspec": {
   "display_name": "Python 3 (ipykernel)",
   "language": "python",
   "name": "python3"
  },
  "language_info": {
   "codemirror_mode": {
    "name": "ipython",
    "version": 3
   },
   "file_extension": ".py",
   "mimetype": "text/x-python",
   "name": "python",
   "nbconvert_exporter": "python",
   "pygments_lexer": "ipython3",
   "version": "3.12.3"
  }
 },
 "nbformat": 4,
 "nbformat_minor": 5
}
