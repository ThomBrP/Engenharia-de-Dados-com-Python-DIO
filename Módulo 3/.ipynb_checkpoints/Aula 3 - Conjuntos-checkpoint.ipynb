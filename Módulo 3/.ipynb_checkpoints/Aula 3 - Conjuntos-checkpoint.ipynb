{
 "cells": [
  {
   "cell_type": "code",
   "execution_count": 1,
   "id": "9736f6e6-f9fc-46ea-8456-4acae47217c8",
   "metadata": {},
   "outputs": [],
   "source": [
    "#Início da aula sobre conjuntos\n",
    "#Coleção de objetos que não possui objetos repetidos"
   ]
  },
  {
   "cell_type": "code",
   "execution_count": 4,
   "id": "1d32425b-b02f-473a-919a-a41049bb06b1",
   "metadata": {},
   "outputs": [
    {
     "data": {
      "text/plain": [
       "{'celta', 'gol', 'palio'}"
      ]
     },
     "execution_count": 4,
     "metadata": {},
     "output_type": "execute_result"
    }
   ],
   "source": [
    "set([1,3,2,1,3,4]) # {1, 2, 3, 4}\n",
    "\n",
    "set(\"abacaxi\") # {\"a\", \"b\", \"c\", \"x\", \"i\"}\n",
    "\n",
    "set((\"palio\", \"gol\", \"celta\", \"palio\")) # {\"gol\", \"celta\", \"palio\"}\n",
    "#Neste caso, estamos colocando uma tupla como parâmtero\n",
    "\n",
    "#Foco que ele não necessariamente faz na ordem que você passou!"
   ]
  },
  {
   "cell_type": "code",
   "execution_count": 6,
   "id": "4dec269b-f109-47cf-a26f-10d346f14356",
   "metadata": {},
   "outputs": [
    {
     "name": "stdout",
     "output_type": "stream",
     "text": [
      "1\n"
     ]
    }
   ],
   "source": [
    "# Conjuntos não aceitam indexação\n",
    "# É necessário converter de set para lista\n",
    "\n",
    "numeros = {1, 2, 3, 2} #Chaves = set\n",
    "#print(numeros[0])\n",
    "\n",
    "numeros = list(numeros)\n",
    "print(numeros[0])"
   ]
  },
  {
   "cell_type": "code",
   "execution_count": 7,
   "id": "1e3a7da7-48e6-44ac-99f0-57d150d9ad08",
   "metadata": {},
   "outputs": [
    {
     "name": "stdout",
     "output_type": "stream",
     "text": [
      "1\n",
      "2\n",
      "3\n"
     ]
    }
   ],
   "source": [
    "# É possível usar o for interado\n",
    "\n",
    "for numero in numeros:\n",
    "    print(numero)"
   ]
  },
  {
   "cell_type": "code",
   "execution_count": 8,
   "id": "f1346829-8419-4d01-940d-4d38248f44ad",
   "metadata": {},
   "outputs": [
    {
     "name": "stdout",
     "output_type": "stream",
     "text": [
      "0 : [1, 2, 3]\n",
      "1 : [1, 2, 3]\n",
      "2 : [1, 2, 3]\n"
     ]
    }
   ],
   "source": [
    "# é possível usar enumerate\n",
    "for indice, num in enumerate(numeros):\n",
    "    print(f\"{indice} : {numeros}\")"
   ]
  },
  {
   "cell_type": "code",
   "execution_count": 11,
   "id": "8358e51d-0861-4296-b43e-7f99d8dacfe8",
   "metadata": {},
   "outputs": [
    {
     "data": {
      "text/plain": [
       "{1, 2, 3, 4, 5}"
      ]
     },
     "execution_count": 11,
     "metadata": {},
     "output_type": "execute_result"
    }
   ],
   "source": [
    "conj_a = {1, 2, 3}\n",
    "conj_b = {3, 4, 5}\n",
    "\n",
    "conj_a.union(conj_b) #une os dois conjuntos"
   ]
  },
  {
   "cell_type": "code",
   "execution_count": 13,
   "id": "a0a485c4-83d7-4ff2-9c9c-f59d09c31e29",
   "metadata": {},
   "outputs": [
    {
     "data": {
      "text/plain": [
       "{3}"
      ]
     },
     "execution_count": 13,
     "metadata": {},
     "output_type": "execute_result"
    }
   ],
   "source": [
    "conj_a.intersection(conj_b) #Interseção"
   ]
  },
  {
   "cell_type": "code",
   "execution_count": 15,
   "id": "4a6d8271-c50e-471c-9790-3aef9f4c54d2",
   "metadata": {},
   "outputs": [
    {
     "data": {
      "text/plain": [
       "{4, 5}"
      ]
     },
     "execution_count": 15,
     "metadata": {},
     "output_type": "execute_result"
    }
   ],
   "source": [
    "conj_a.difference(conj_b) # oq tem no A que não tem no B\n",
    "conj_b.difference(conj_a) # oq tem no B que não tem no A"
   ]
  },
  {
   "cell_type": "code",
   "execution_count": 17,
   "id": "6b1c1a9c-323f-494a-8c9a-c22db97d322a",
   "metadata": {},
   "outputs": [
    {
     "data": {
      "text/plain": [
       "{1, 2, 4, 5}"
      ]
     },
     "execution_count": 17,
     "metadata": {},
     "output_type": "execute_result"
    }
   ],
   "source": [
    "conj_a.symmetric_difference(conj_b) # oq tem no A e no B, exceto pela interseção"
   ]
  },
  {
   "cell_type": "code",
   "execution_count": 22,
   "id": "3aebb375-0b7d-4fe1-a8e0-75a0729b7f4f",
   "metadata": {},
   "outputs": [
    {
     "data": {
      "text/plain": [
       "True"
      ]
     },
     "execution_count": 22,
     "metadata": {},
     "output_type": "execute_result"
    }
   ],
   "source": [
    "conj_c = {1, 2, 3}\n",
    "conj_d = {1, 2, 3, 4, 5, 6, 7}\n",
    "\n",
    "conj_c.issubset(conj_d) # conjunto c é subelemento de conj d?\n",
    "# True\n",
    "#conj_d.issubset(conj_c) # conjunto c é subelemento de conj d?\n",
    "# False"
   ]
  },
  {
   "cell_type": "code",
   "execution_count": 24,
   "id": "dbf0793a-437f-4fbc-ab92-f294377f668f",
   "metadata": {},
   "outputs": [
    {
     "data": {
      "text/plain": [
       "True"
      ]
     },
     "execution_count": 24,
     "metadata": {},
     "output_type": "execute_result"
    }
   ],
   "source": [
    "conj_c = {1, 2, 3}\n",
    "conj_d = {1, 2, 3, 4, 5, 6, 7}\n",
    "conj_e = {10, 11, 12}\n",
    "\n",
    "conj_e.isdisjoint(conj_d) # conjunto e é \"externo\" ao conj d?\n",
    "# True\n",
    "#conj_d.isdisjoint(conj_c) # conjunto d é \"externo\" ao conj c?\n",
    "# False"
   ]
  },
  {
   "cell_type": "code",
   "execution_count": 30,
   "id": "311c9a25-660d-4ee8-a276-20883538f25e",
   "metadata": {},
   "outputs": [
    {
     "name": "stdout",
     "output_type": "stream",
     "text": [
      "[13]\n",
      "[]\n"
     ]
    }
   ],
   "source": [
    "conj_e.add(13)\n",
    "print(list(conj_e))\n",
    "\n",
    "conj_e.clear()\n",
    "print(list(conj_e))\n",
    "\n",
    "# .copy() copia um conjunto (retorna a cópia)\n",
    "# .discard(1) Remove um item de um conjunto, se nao existir ele ignora\n",
    "# .pop() Remove o primeiro valor da lista\n",
    "# .remove(1) Se o elemento nao existe ele da erro\n",
    "# .len() retorna o tamanho do conjunto\n",
    "# 1 in numeros -> verifica se 1 está presente em \"numeros\""
   ]
  },
  {
   "cell_type": "code",
   "execution_count": 31,
   "id": "ae1f8097-1b0a-4f6e-8372-0e3fcdb190cb",
   "metadata": {},
   "outputs": [],
   "source": [
    "#Fim da aula sobre conjuntos"
   ]
  },
  {
   "cell_type": "code",
   "execution_count": null,
   "id": "0ee1fab1-9dbe-4ac4-a152-ad68fe1afb67",
   "metadata": {},
   "outputs": [],
   "source": []
  }
 ],
 "metadata": {
  "kernelspec": {
   "display_name": "Python 3 (ipykernel)",
   "language": "python",
   "name": "python3"
  },
  "language_info": {
   "codemirror_mode": {
    "name": "ipython",
    "version": 3
   },
   "file_extension": ".py",
   "mimetype": "text/x-python",
   "name": "python",
   "nbconvert_exporter": "python",
   "pygments_lexer": "ipython3",
   "version": "3.12.3"
  }
 },
 "nbformat": 4,
 "nbformat_minor": 5
}
