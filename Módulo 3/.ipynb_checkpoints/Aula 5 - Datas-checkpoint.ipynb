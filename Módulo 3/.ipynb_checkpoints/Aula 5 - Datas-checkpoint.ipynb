{
 "cells": [
  {
   "cell_type": "code",
   "execution_count": 12,
   "id": "052c611c-872d-451a-9cc5-705018a40e14",
   "metadata": {},
   "outputs": [],
   "source": [
    "# Início da aula sobre datas e horas no Python\n",
    "# Fuso horários\n",
    "# datetime\n",
    "\n",
    "#Link para a documentação: https://docs.python.org/3/library/datetime.html#module-datetime"
   ]
  },
  {
   "cell_type": "code",
   "execution_count": 31,
   "id": "c6c0bcd9-8f52-47fc-ae8b-ab3751f5100c",
   "metadata": {},
   "outputs": [
    {
     "name": "stdout",
     "output_type": "stream",
     "text": [
      "2024-01-06\n",
      "2024-10-12\n",
      "2024-02-03 00:00:00\n",
      "2024-10-12 17:19:41.616403\n",
      "23:59:00\n"
     ]
    }
   ],
   "source": [
    "import datetime as dt\n",
    "#Também serve: from datetime import date, datetime, time\n",
    "#mas nesse caso ficaria: data = date(2024,10,12)\n",
    "\n",
    "# Construir uma data\n",
    "data = dt.date(2024, 1, 6) # 06 de Janeiro de 2024\n",
    "print(data)\n",
    "\n",
    "print(dt.date.today())\n",
    "\n",
    "data_hora = dt.datetime(2024, 2, 3) # Mesma data, mas com horário zerado.\n",
    "print(data_hora)\n",
    "data_hora = dt.datetime.today() # Pega o horário do sistema (imagino eu)\n",
    "print(data_hora)\n",
    "\n",
    "hora = dt.time(23, 59, 0) # 23h 59min 0s\n",
    "print(hora)\n",
    "\n",
    "#Fim da aula de introdução a datas"
   ]
  },
  {
   "cell_type": "code",
   "execution_count": 36,
   "id": "8abf3b36-4e76-4469-93cc-a2ac147f47d4",
   "metadata": {},
   "outputs": [
    {
     "name": "stdout",
     "output_type": "stream",
     "text": [
      "2023-07-19 13:45:00\n",
      "2023-07-26 13:45:00\n",
      "2023-07-19 13:45:00\n",
      "2023-07-26 13:45:00\n"
     ]
    }
   ],
   "source": [
    "# Início da aula sobre manipulação de datas com timedelta\n",
    "\n",
    "data = dt.datetime(2023, 7, 19, 13, 45) # 19 de julho de 2023 às 13h 45min\n",
    "print(data)\n",
    "\n",
    "data = data + dt.timedelta(weeks = 1) # Adicionou 7 dias na data\n",
    "print(data)\n",
    "\n",
    "data = data - dt.timedelta(weeks = 1) # subtraiu 7 dias na data\n",
    "print(data)\n",
    "\n",
    "data = data - dt.timedelta(weeks = -1) # subtraiu -7 dias na data (adicionou 7 dias)\n",
    "print(data)"
   ]
  },
  {
   "cell_type": "code",
   "execution_count": 50,
   "id": "d2566597-d46b-49f7-a94a-7cdd173de576",
   "metadata": {},
   "outputs": [
    {
     "name": "stdout",
     "output_type": "stream",
     "text": [
      "Data atual: 2024-10-12 17:29:59.263141, data estimada: 2024-10-14 17:29:59.263141\n"
     ]
    }
   ],
   "source": [
    "# Timedelta é um formato que permite operar datas\n",
    "# é possível criar timedelta de várias formas!\n",
    "\n",
    "tipo_carro = \"M\" # P, M, G\n",
    "tempo_pequeno = 12\n",
    "tempo_medio = 2\n",
    "tempo_grande = 3\n",
    "\n",
    "data_atual = dt.datetime.now() # Traz o timezone também, além de data e hora padrão\n",
    "#data_atual = dt.utcnow() # Esse permite fazer migração entre os timezones\n",
    "\n",
    "if tipo_carro == \"P\":\n",
    "    data_estimada = data_atual + dt.timedelta(hours = tempo_pequeno)\n",
    "    print(f\"Data atual: {data_atual}, data estimada: {data_estimada}\")\n",
    "elif tipo_carro == \"M\":\n",
    "    data_estimada = data_atual + dt.timedelta(days = tempo_medio)\n",
    "    print(f\"Data atual: {data_atual}, data estimada: {data_estimada}\")\n",
    "else:\n",
    "    data_estimada = data_atual + dt.timedelta(weeks = tempo_grande)\n",
    "    print(f\"Data atual: {data_atual}, data estimada: {data_estimada}\")\n",
    "\n",
    "# Esse foi um exemplo de utilização do timedelta com variáveis!"
   ]
  },
  {
   "cell_type": "code",
   "execution_count": 60,
   "id": "2defbcae-4cd7-4dc4-92bf-7c27595a1803",
   "metadata": {},
   "outputs": [
    {
     "name": "stdout",
     "output_type": "stream",
     "text": [
      "0001-01-01 14:33:42\n",
      "14:33:42\n"
     ]
    }
   ],
   "source": [
    "hora_teste = dt.datetime(1, 1, 1, 15, 33, 42) - dt.timedelta(hours=1)\n",
    "# hora_teste = dt.time(15, 33, 42) - dt.timedelta(hours=1)\n",
    "# Não funciona, porque o timedelta trata com datas,\n",
    "\n",
    "print(hora_teste) # printa a data completa (não existe ano antes de cristo?)\n",
    "print(hora_teste.time()) # printa apenas o horário\n",
    "\n",
    "#Fim da aula sobre manipulações com timedelta"
   ]
  },
  {
   "cell_type": "code",
   "execution_count": 74,
   "id": "2659eab8-27b0-41ef-9368-7eba5e8d2f98",
   "metadata": {},
   "outputs": [
    {
     "name": "stdout",
     "output_type": "stream",
     "text": [
      "12/10/2024 17:42\n",
      "0030-04-07 16:30:00\n"
     ]
    }
   ],
   "source": [
    "# Início da aula sobre formatação e conversão de datas com strftime e strptime\n",
    "# strftime = string format time\n",
    "# strptime = string parse time\n",
    "\n",
    "data = dt.datetime.now()\n",
    "\n",
    "print(data.strftime(\"%d/%m/%Y %H:%M\")) # dia/mes/ano hora:minuto\n",
    "# No caso acima, estamos convertendo de data para string\n",
    "\n",
    "# Foco que o ano precisa necessariamente ter 4 digitos nesse caso:\n",
    "# !@!@!@! Vamos ter que ajustar a biblioteca do datetime no ano 9999! Não esquecer! Senão vai dar BO\n",
    "data_string = \"07/04/0030 16:30\" # Crucificação de Jesus\n",
    "data_cruz = dt.datetime.strptime(data_string, \"%d/%m/%Y %H:%M\")\n",
    "# No caso acima, estamos convertendo de string para data\n",
    "print(data_cruz)"
   ]
  },
  {
   "cell_type": "code",
   "execution_count": 80,
   "id": "7e1fa849-2dbf-4bc7-beea-0f1206aa3c6d",
   "metadata": {},
   "outputs": [
    {
     "name": "stdout",
     "output_type": "stream",
     "text": [
      "12/10/2024 H 17\n",
      "2023-10-20 10:20:00\n"
     ]
    }
   ],
   "source": [
    "# %d = dia\n",
    "# %m = mês\n",
    "# %Y = ano\n",
    "# %H = hora\n",
    "# %M = minuto\n",
    "# %s = segundo\n",
    "\n",
    "# MAIÚSCULA E MINUSCULA FAZ DIFERENÇA! verificar tabela de tipos na documentação\n",
    "data_atual = dt.datetime.now()\n",
    "data_hora_str = \"2023-10-20 10:20\"\n",
    "mascara_ptbr = \"%d/%m/%Y H %H\"\n",
    "mascara_en = \"%Y-%m-%d %H:%M\"\n",
    "\n",
    "print(data_atual.strftime(mascara_ptbr))\n",
    "\n",
    "\n",
    "print(dt.datetime.strptime(data_hora_str, mascara_en)) # Nesse caso, nao faz diferença a mascara pq ja ta no formato\n",
    "# Fim da aula sobre formatação e conversão de datas."
   ]
  },
  {
   "cell_type": "code",
   "execution_count": 89,
   "id": "af24fc80-8947-4a6e-92ea-45d053de24de",
   "metadata": {},
   "outputs": [
    {
     "name": "stdout",
     "output_type": "stream",
     "text": [
      "2024-10-12 23:09:05.490073+02:00\n",
      "2024-10-12 18:09:05.490073-03:00\n",
      "2024-10-12 18:09:05.490073-03:00\n"
     ]
    }
   ],
   "source": [
    "# Início da aula sobre timezones\n",
    "\n",
    "import pytz # biblioteca de terceiros que ajuda nesse BO do timezone\n",
    "\n",
    "data_oslo = dt.datetime.now(pytz.timezone(\"Europe/Oslo\"))# Busca na rede!\n",
    "data_sp = dt.datetime.now(pytz.timezone(\"America/Sao_Paulo\"))# Busca na rede!\n",
    "print(data_oslo)\n",
    "print(data_sp)\n",
    "\n",
    "data_oslo_convertida = data_oslo.astimezone(pytz.timezone(\"America/Sao_Paulo\"))\n",
    "print(data_oslo_convertida)\n",
    "\n",
    "# Não foi comentado sobre as conversões na aula, convém verificar a documentação:\n",
    "# https://pypi.org/project/pytz/"
   ]
  },
  {
   "cell_type": "code",
   "execution_count": 91,
   "id": "a8b02afb-e4fb-4760-b465-1c5b26007718",
   "metadata": {},
   "outputs": [
    {
     "name": "stdout",
     "output_type": "stream",
     "text": [
      "2024-10-12 18:09:52.434169-03:00\n",
      "2024-10-12 21:09:52.434169+00:00\n"
     ]
    }
   ],
   "source": [
    "# De maneira nativa do Python, é dessa forma que cria uma data com UTC!\n",
    "data_teste = dt.datetime.now(dt.timezone(dt.timedelta(hours=-3), \"BRT\"))\n",
    "print(data_teste)\n",
    "\n",
    "d_utc = data_teste.astimezone(dt.timezone.utc)\n",
    "print(d_utc)\n",
    "\n",
    "# Final da aula sobre timezone\n",
    "# Final da aula sobre Datas em Python"
   ]
  },
  {
   "cell_type": "code",
   "execution_count": 96,
   "id": "29b1e6ce-3084-4d16-b3a1-699828281202",
   "metadata": {},
   "outputs": [
    {
     "name": "stdout",
     "output_type": "stream",
     "text": [
      "2023-01-05 00:00:00\n"
     ]
    }
   ],
   "source": [
    "# O questionário diz que esse código dá erro!\n",
    "date_string = \"2023-05-01\"\n",
    "date_obj = dt.datetime.strptime(date_string, \"%Y-%d-%m\")\n",
    "print(date_obj)"
   ]
  },
  {
   "cell_type": "code",
   "execution_count": null,
   "id": "ee32c878-1cdf-4617-9e41-280a66a8a7db",
   "metadata": {},
   "outputs": [],
   "source": []
  }
 ],
 "metadata": {
  "kernelspec": {
   "display_name": "Python 3 (ipykernel)",
   "language": "python",
   "name": "python3"
  },
  "language_info": {
   "codemirror_mode": {
    "name": "ipython",
    "version": 3
   },
   "file_extension": ".py",
   "mimetype": "text/x-python",
   "name": "python",
   "nbconvert_exporter": "python",
   "pygments_lexer": "ipython3",
   "version": "3.12.3"
  }
 },
 "nbformat": 4,
 "nbformat_minor": 5
}
