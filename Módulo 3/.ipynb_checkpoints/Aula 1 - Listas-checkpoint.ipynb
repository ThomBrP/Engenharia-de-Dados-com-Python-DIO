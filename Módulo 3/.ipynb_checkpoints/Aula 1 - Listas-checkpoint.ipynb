{
 "cells": [
  {
   "cell_type": "code",
   "execution_count": 243,
   "id": "5c53f015-e877-4654-bb60-d859af825325",
   "metadata": {},
   "outputs": [],
   "source": [
    "# Início da aula de introdução sobre listas\n",
    "# Listas se fala sobre estruturas de  sequencia de dados em variáveis\n",
    "# Também conhecidos como Array\n",
    "# Listas, Tuplas, Conjuntos, Dicionários, Funções"
   ]
  },
  {
   "cell_type": "code",
   "execution_count": 244,
   "id": "f167e35d-5698-41ae-afa9-f709dd880284",
   "metadata": {},
   "outputs": [
    {
     "name": "stdout",
     "output_type": "stream",
     "text": [
      "[]\n",
      "['Laranja', 'maçã', 'uva']\n",
      "['p', 'y', 't', 'h', 'o', 'n']\n",
      "[0, 1, 2, 3, 4, 5, 6, 7, 8, 9]\n",
      "['Ferrari', 'f8', 4200000, 2020, 2900, 'São Paulo', True]\n",
      "p\n",
      "y\n",
      "t\n",
      "True\n",
      "São Paulo\n",
      "2900\n"
     ]
    }
   ],
   "source": [
    "# Início da aula sobre criação e acesso aos dados\n",
    "frutas = [] # lista vazia\n",
    "print(frutas)\n",
    "\n",
    "frutas = [\"Laranja\", \"maçã\", \"uva\"] # mais convencional\n",
    "print(frutas)\n",
    "\n",
    "letras = list(\"python\") # Aqui, cada letra vai virar um índice da lista\n",
    "print(letras)\n",
    "\n",
    "numeros = list(range(10)) # Aqui ta criando uma lista com os 10 primeiros números\n",
    "print(numeros)\n",
    "\n",
    "carro = [\"Ferrari\", \"f8\", 4200000, 2020, 2900, \"São Paulo\", True] # Lista com valores distintos\n",
    "print(carro)\n",
    "# possível, porém tomar cuidado na hora de buscar a info, não se perder com esses tipos\n",
    "\n",
    "# LEMBRANDO QUE COMEÇA NO ÍNDICE 0\n",
    "print(letras[0])\n",
    "print(letras[1])\n",
    "print(letras[2])\n",
    "\n",
    "#índice negativo, pega de trás para frente\n",
    "print(carro[-1])\n",
    "print(carro[-2])\n",
    "print(carro[-3])"
   ]
  },
  {
   "cell_type": "code",
   "execution_count": 245,
   "id": "0074899f-7898-43cd-a97c-ce20c578e248",
   "metadata": {},
   "outputs": [
    {
     "name": "stdout",
     "output_type": "stream",
     "text": [
      "[1, 'a', 2]\n",
      "a\n",
      "4\n",
      "5\n",
      "5\n",
      "2\n",
      "[5, 'c', 6]\n",
      "[2, 'b', 4]\n",
      "[1, 'a', 2]\n"
     ]
    }
   ],
   "source": [
    "# Listas alinhadas = Matrizes\n",
    "\n",
    "matriz = [\n",
    "    [1, \"a\", 2],\n",
    "    [2, \"b\", 4],\n",
    "    [5, \"c\", 6]\n",
    "]\n",
    "\n",
    "print(matriz[0])\n",
    "print(matriz[0][1])\n",
    "print(matriz[1][2])\n",
    "print(matriz[2][0])\n",
    "print(matriz[2][0])\n",
    "\n",
    "print(matriz[0][-1])\n",
    "\n",
    "# Índices negativos são novidade para mim, e isso é sensacional!\n",
    "print(matriz[-1])\n",
    "print(matriz[-2])\n",
    "print(matriz[-3])"
   ]
  },
  {
   "cell_type": "code",
   "execution_count": 246,
   "id": "600b91db-6de2-4030-8047-312ffd9642c3",
   "metadata": {},
   "outputs": [
    {
     "name": "stdout",
     "output_type": "stream",
     "text": [
      "1: ['p', 'y', 't', 'h', 'o', 'n']\n",
      "2: ['p', 'y', 't', 'h', 'o']\n",
      "3: ['p', 'y', 't', 'h', 'o', 'n']\n",
      "4: ['p', 't', 'o']\n",
      "5: ['n', 'o', 'h', 't', 'y', 'p']\n",
      "6: ['n', 'h', 'y']\n",
      "7: ['n', 't']\n"
     ]
    }
   ],
   "source": [
    "print(\"1: \" + str(letras[0:])) # busca do índice 0, até o final\n",
    "print(\"2: \" + str(letras[:-1])) # Busca do início até (len-1)\n",
    "print(\"3: \" + str(letras[:])) # busca do início ao final\n",
    "print(\"4: \" + str(letras[0:6:2])) # busca da posição 0 até a 6, pulando de 2 em 2\n",
    "print(\"5: \" + str(letras[::-1])) # busca do início ao fim, reduzindo 1 posição por vez\n",
    "print(\"6: \" + str(letras[::-2])) # busca do início ao fim, reduzindo 2 posição por vez\n",
    "print(\"7: \" + str(letras[::-3])) # busca do início ao fim, reduzindo 3 posição por vez"
   ]
  },
  {
   "cell_type": "code",
   "execution_count": 247,
   "id": "12f438ed-68f2-4d39-9c26-bfdde0607498",
   "metadata": {},
   "outputs": [
    {
     "name": "stdout",
     "output_type": "stream",
     "text": [
      "Ferrari\n",
      "f8\n",
      "4200000\n",
      "2020\n",
      "2900\n",
      "São Paulo\n",
      "True\n"
     ]
    }
   ],
   "source": [
    "# mostrar item por item de uma lista\n",
    "for item in carro:\n",
    "    print(item)"
   ]
  },
  {
   "cell_type": "code",
   "execution_count": 248,
   "id": "cb8b45b4-8fae-4ef2-8efa-856df8c0cb52",
   "metadata": {},
   "outputs": [
    {
     "name": "stdout",
     "output_type": "stream",
     "text": [
      "0: Ferrari\n",
      "1: f8\n",
      "2: 4200000\n",
      "3: 2020\n",
      "4: 2900\n",
      "5: São Paulo\n",
      "6: True\n",
      "\n",
      "\n",
      "0: Ferrari\n",
      "1: f8\n",
      "2: 4200000\n",
      "3: 2020\n",
      "4: 2900\n",
      "5: São Paulo\n",
      "6: True\n"
     ]
    }
   ],
   "source": [
    "# Enumerate retorna o índice em questão\n",
    "# seria uma maneira diferente de fazer um cont\n",
    "for indice, item in enumerate(carro):\n",
    "    print(f\"{indice}: {item}\")\n",
    "\n",
    "print(\"\\n\")\n",
    "# isso é o equivalente a:\n",
    "cont = 0\n",
    "for cont in range(len(carro)):\n",
    "    print(f\"{cont}: {carro[cont]}\")\n",
    "    cont +=1"
   ]
  },
  {
   "cell_type": "code",
   "execution_count": 249,
   "id": "97ba4c4b-1baa-4d7f-9f04-78a26fd787cb",
   "metadata": {},
   "outputs": [
    {
     "name": "stdout",
     "output_type": "stream",
     "text": [
      "[0, 2, 4, 6, 8]\n",
      "[0, 2, 4, 6, 8]\n",
      "['Ferrari', 'f8', 4200000, 2020, 2900, 'São Paulo', True]\n",
      "[0, 1, 4, 9, 16, 25, 36, 49, 64, 81]\n",
      "[0, 1, 4, 9, 16, 25, 36, 49, 64, 81]\n",
      "[0, 1, 2, 3, 4, 5, 6, 7, 8, 9]\n"
     ]
    }
   ],
   "source": [
    "# Compressão de Listas\n",
    "# Criação de uma lista nova, baseada em uma lista existente.\n",
    "\n",
    "pares = []\n",
    "\n",
    "for numero in numeros:\n",
    "    if numero % 2 == 0:\n",
    "        pares.append(numero) # append é adicionar o item em um novo indice\n",
    "\n",
    "print(pares)\n",
    "\n",
    "# equivalente a\n",
    "pares = [numero for numero in numeros if numero % 2 == 0]\n",
    "print(pares)\n",
    "\n",
    "\n",
    "\n",
    "\n",
    "# Outro exemplo:\n",
    "itens = [item for item in carro] # nesse caso está apenas duplicando\n",
    "\n",
    "print(itens)\n",
    "\n",
    "\n",
    "\n",
    "quadrado = [] # Precisa declarar antes\n",
    "for numero in numeros:\n",
    "    quadrado.append(numero ** 2)\n",
    "\n",
    "print(quadrado)\n",
    "\n",
    "quadrado = []\n",
    "quadrado = [numero ** 2 for numero in numeros] # Lindo tá!\n",
    "print(quadrado)\n",
    "print(numeros)"
   ]
  },
  {
   "cell_type": "code",
   "execution_count": 250,
   "id": "fd27b30e-2229-4228-b66a-273ac681262c",
   "metadata": {},
   "outputs": [],
   "source": [
    "# Final da aula sobre criação e acesso aos dados!\n",
    "#Início da aula sobre métodos!"
   ]
  },
  {
   "cell_type": "code",
   "execution_count": 251,
   "id": "1c2371b8-1b3c-47df-a3d0-f9ad98717d12",
   "metadata": {},
   "outputs": [
    {
     "name": "stdout",
     "output_type": "stream",
     "text": [
      "[0, 1, 2, 3, 4, 5, 6, 7, 8, 9]\n",
      "[0, 1, 2, 3, 4, 5, 6, 7, 8, 9, 11]\n",
      "['Ferrari', 'f8', 4200000, 2020, 2900, 'São Paulo', True, 'Chevette']\n"
     ]
    }
   ],
   "source": [
    "print(numeros)\n",
    "\n",
    "#CUIDADO! A APPEND NÃO RETORNA NADA, SE TU FIZER ELE MECHE DIRETO NA MEMÓRIA\n",
    "#numeros = numeros.append(11) =--- isso não dá erro, mas vai bugar seu codigo todo!!\n",
    "\n",
    "numeros.append(11) #Assim é o correto\n",
    "print(numeros)\n",
    "\n",
    "carro.append(\"Chevette\")\n",
    "print(carro)"
   ]
  },
  {
   "cell_type": "code",
   "execution_count": 252,
   "id": "b9c18da9-3216-4904-a5a0-8b90e96df6bd",
   "metadata": {},
   "outputs": [
    {
     "name": "stdout",
     "output_type": "stream",
     "text": [
      "[]\n"
     ]
    }
   ],
   "source": [
    "numeros.clear() # LIMPA A LISTA\n",
    "print(numeros)"
   ]
  },
  {
   "cell_type": "code",
   "execution_count": 253,
   "id": "8ecb06fd-38c9-4361-9de6-73f903df7a30",
   "metadata": {},
   "outputs": [
    {
     "name": "stdout",
     "output_type": "stream",
     "text": [
      "['f8', 4200000, 2020, 2900, 'São Paulo', True, 'Ferrari']\n"
     ]
    }
   ],
   "source": [
    "carro_falso = carro.copy() # Fiz uma cópia do carro\n",
    "carro_falso[-1] = \"Ferrari\"\n",
    "carro_falso[0] = None\n",
    "carro_falso.pop(0) # Retira um índice específico da lista\n",
    "print(chevette_falso)\n",
    "\n"
   ]
  },
  {
   "cell_type": "code",
   "execution_count": 254,
   "id": "078c732f-0276-48bc-ac1f-637f832267f0",
   "metadata": {},
   "outputs": [
    {
     "name": "stdout",
     "output_type": "stream",
     "text": [
      "['p', 'y', 't', 'h', 'o', 'n']\n"
     ]
    },
    {
     "data": {
      "text/plain": [
       "2"
      ]
     },
     "execution_count": 254,
     "metadata": {},
     "output_type": "execute_result"
    }
   ],
   "source": [
    "print(letras)\n",
    "letras.count(\"y\") # Python\n",
    "letras.append(\"y\")\n",
    "letras.count(\"y\") # ELE DIFERENCIA MAIÚSCULAS E MINUSCULAS, CUIDADO!"
   ]
  },
  {
   "cell_type": "code",
   "execution_count": 255,
   "id": "959d4ec8-3f90-48c0-afcb-22c6c5a8a705",
   "metadata": {},
   "outputs": [
    {
     "name": "stdout",
     "output_type": "stream",
     "text": [
      "[1, 2, 3, 4, 5]\n",
      "[1, 2, 3, 4, 5, 7, 8, 9, 10]\n"
     ]
    }
   ],
   "source": [
    "numeros.extend([1,2,3,4,5])\n",
    "print(numeros)\n",
    "numeros.extend([7,8,9,10])\n",
    "print(numeros)"
   ]
  },
  {
   "cell_type": "code",
   "execution_count": 256,
   "id": "b0a5e9c6-3d73-4af6-b7ae-b2e3ac1780cc",
   "metadata": {},
   "outputs": [
    {
     "data": {
      "text/plain": [
       "5"
      ]
     },
     "execution_count": 256,
     "metadata": {},
     "output_type": "execute_result"
    }
   ],
   "source": [
    "#Index: linguagens.index(\"Java\") procura a primeira vez que \"java\" aparece\n",
    "numeros.index(7) # 7 está no índice 5 da lista"
   ]
  },
  {
   "cell_type": "code",
   "execution_count": 257,
   "id": "1fa873de-3378-43c2-b946-1aeb544f8f66",
   "metadata": {},
   "outputs": [],
   "source": [
    "# Listas são organizadas no formato de pilhas em python, ou seja\n",
    "# os indices estão um em cima do outro\n",
    "# então por exemplo var.pop() vai pegar o ultimo indice (em cima)\n",
    "\n",
    "\n",
    "# PS: se ele falar arvore, eu saio dessa aula!\n"
   ]
  },
  {
   "cell_type": "code",
   "execution_count": 258,
   "id": "d1a07cd8-8122-4695-b30a-8a2cbb29cefa",
   "metadata": {},
   "outputs": [
    {
     "name": "stdout",
     "output_type": "stream",
     "text": [
      "[1, 3, 4, 5, 7, 8, 9, 10]\n"
     ]
    }
   ],
   "source": [
    "# .remove -> passa um objeto e ele remove\n",
    "# equivalente a pssar o índice usando o index\n",
    "numeros.remove(2)\n",
    "print(numeros)"
   ]
  },
  {
   "cell_type": "code",
   "execution_count": 259,
   "id": "2f2c5afe-6eb4-4e41-9b36-0de70c7a3292",
   "metadata": {},
   "outputs": [
    {
     "name": "stdout",
     "output_type": "stream",
     "text": [
      "[10, 9, 8, 7, 5, 4, 3, 1]\n"
     ]
    }
   ],
   "source": [
    "# .reverse() -> inverte a lista\n",
    "numeros.reverse()\n",
    "print(numeros)"
   ]
  },
  {
   "cell_type": "code",
   "execution_count": 260,
   "id": "861edd26-8615-4840-b7f9-fe76fae96abc",
   "metadata": {},
   "outputs": [
    {
     "name": "stdout",
     "output_type": "stream",
     "text": [
      "[1, 3, 4, 5, 7, 8, 9, 10]\n",
      "[10, 9, 8, 7, 5, 4, 3, 1]\n",
      "['uva', 'maçã', 'Laranja']\n",
      "['Laranja', 'maçã', 'uva']\n"
     ]
    }
   ],
   "source": [
    "# .sort ( organizas a lista)\n",
    "# Função built-in (construída nativamente na linguagem python)\n",
    "# sorted(nome da variavel, key = len(x), reverse = True)\n",
    "numeros.sort() # Organiza\n",
    "print(numeros)\n",
    "\n",
    "numeros.sort(reverse = True) # Organiza ao contrario\n",
    "print(numeros)\n",
    "\n",
    "frutas.sort(key = lambda x: len(x)) # organiza de acordo com o critério \"len(x)\" (dá pra mudar)\n",
    "print(frutas)\n",
    "\n",
    "frutas.sort(key = lambda x: len(x), reverse = True) # organiza com o critério, ao contrário!\n",
    "print(frutas)"
   ]
  },
  {
   "cell_type": "code",
   "execution_count": 261,
   "id": "9d59ec9d-bd8a-45dd-80b9-d898a5fae295",
   "metadata": {},
   "outputs": [
    {
     "data": {
      "text/plain": [
       "8"
      ]
     },
     "execution_count": 261,
     "metadata": {},
     "output_type": "execute_result"
    }
   ],
   "source": [
    "len(numeros)"
   ]
  },
  {
   "cell_type": "code",
   "execution_count": 262,
   "id": "08b44fbd-a29d-40dc-842c-8aa61c293dff",
   "metadata": {},
   "outputs": [],
   "source": [
    "# Final da aula sobre listas"
   ]
  },
  {
   "cell_type": "code",
   "execution_count": 264,
   "id": "383c4cb4-4e1d-44b6-9d71-04c163890144",
   "metadata": {},
   "outputs": [],
   "source": [
    "# Na minha perspectiva, foi dito \"isso é isso, aquilo é aquilo\"\n",
    "# vamos passar por isso rápido, pq falando de engenharia de dados tu vai usar muito\n",
    "# então vamos logo com isso!"
   ]
  },
  {
   "cell_type": "code",
   "execution_count": 266,
   "id": "a9689ef2-7679-468c-acfa-9d1cd136ea2f",
   "metadata": {},
   "outputs": [
    {
     "name": "stdout",
     "output_type": "stream",
     "text": [
      "[0, 2, 4, 6, 64]\n"
     ]
    }
   ],
   "source": [
    "numeros = [n**2 if n>6 else n for n in range(10) if n % 2 == 0]\n",
    "print(numeros)"
   ]
  },
  {
   "cell_type": "code",
   "execution_count": null,
   "id": "96442e0e-e503-4686-92c0-7f97db4fa833",
   "metadata": {},
   "outputs": [],
   "source": []
  }
 ],
 "metadata": {
  "kernelspec": {
   "display_name": "Python 3 (ipykernel)",
   "language": "python",
   "name": "python3"
  },
  "language_info": {
   "codemirror_mode": {
    "name": "ipython",
    "version": 3
   },
   "file_extension": ".py",
   "mimetype": "text/x-python",
   "name": "python",
   "nbconvert_exporter": "python",
   "pygments_lexer": "ipython3",
   "version": "3.12.3"
  }
 },
 "nbformat": 4,
 "nbformat_minor": 5
}
