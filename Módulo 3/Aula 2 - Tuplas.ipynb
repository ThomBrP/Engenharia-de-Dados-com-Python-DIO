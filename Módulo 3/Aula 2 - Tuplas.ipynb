{
 "cells": [
  {
   "cell_type": "code",
   "execution_count": 2,
   "id": "5dcaa4f4-3ce8-430f-ba15-925bebbd1afb",
   "metadata": {},
   "outputs": [],
   "source": [
    "# Início da aula sobre Tuplas!\n",
    "# este eu estou curioso a respeito!"
   ]
  },
  {
   "cell_type": "code",
   "execution_count": 14,
   "id": "758b7fa9-b751-41dd-ac17-42416c1bd5c1",
   "metadata": {},
   "outputs": [
    {
     "name": "stdout",
     "output_type": "stream",
     "text": [
      "('laranja', 'uva', 'pera')\n",
      "('p', 'y', 't', 'h', 'o', 'n')\n",
      "(1, 2, 3, 4)\n",
      "('Brasil',)\n",
      "\n",
      "\n",
      "laranja\n",
      "pera\n",
      "\n",
      "\n",
      "((1, 'a', 2), (3, 'b', 4), (5, 'c', 6))\n",
      "(1, 'a', 2)\n",
      "2\n",
      "((1, 'a', 2), (3, 'b', 4))\n",
      "((1, 'a', 2), (3, 'b', 4))\n",
      "((5, 'c', 6), (3, 'b', 4), (1, 'a', 2))\n",
      "\n",
      "\n"
     ]
    }
   ],
   "source": [
    "# Tuplas são irmãs da lista\n",
    "# tuplas são imutáveis, enquanto listas são mutáveis ( tuplas = const dos arrays?)\n",
    "# classe tuple, ou se colocar valores separados por vírgulas e parênteses\n",
    "\n",
    "frutas = (\"laranja\", \"uva\", \"pera\",) # Se tirar parenteses e colocar chaves, vira uma lista\n",
    "letras = tuple(\"python\")\n",
    "numeros = tuple([1,2,3,4])\n",
    "pais=(\"Brasil\",) # se for assim, colocar a virgula no final diz para o compilador q é uma tupla\n",
    "\n",
    "print(frutas)\n",
    "print(letras)\n",
    "print(numeros)\n",
    "print(pais)\n",
    "\n",
    "print(\"\\n\")\n",
    "\n",
    "print(frutas[0]) # o acesso é idêntico às listas\n",
    "print(frutas[-1])\n",
    "\n",
    "matriz = (\n",
    "    (1, \"a\", 2),\n",
    "    (3, \"b\", 4),\n",
    "    (5, \"c\", 6), #Não esquecer da vírgula no final. Uma tupla ainda é um índice nesse caso\n",
    ")\n",
    "\n",
    "print(\"\\n\")\n",
    "\n",
    "print(matriz)\n",
    "print(matriz[0])\n",
    "print(matriz[0][2])\n",
    "print(matriz[:2])\n",
    "print(matriz[0:-1]) \n",
    "print(matriz[::-1]) \n",
    "\n",
    "print(\"\\n\")\n",
    "\n",
    "#Funciona enumerate, etc. Porém alguns métodos mudam:"
   ]
  },
  {
   "cell_type": "code",
   "execution_count": 19,
   "id": "0f618222-aa8c-4f5f-b9b3-f6a1aee45a39",
   "metadata": {},
   "outputs": [
    {
     "data": {
      "text/plain": [
       "1"
      ]
     },
     "execution_count": 19,
     "metadata": {},
     "output_type": "execute_result"
    }
   ],
   "source": [
    "frutas.count(\"uva\")\t"
   ]
  },
  {
   "cell_type": "code",
   "execution_count": 20,
   "id": "e14d9e22-074d-43a3-b664-7bea1962c208",
   "metadata": {},
   "outputs": [
    {
     "data": {
      "text/plain": [
       "2"
      ]
     },
     "execution_count": 20,
     "metadata": {},
     "output_type": "execute_result"
    }
   ],
   "source": [
    "letras.index(\"t\")"
   ]
  },
  {
   "cell_type": "code",
   "execution_count": 23,
   "id": "7cae81aa-a720-4b7f-9900-84a8215a5912",
   "metadata": {},
   "outputs": [
    {
     "name": "stdout",
     "output_type": "stream",
     "text": [
      "False\n"
     ]
    }
   ],
   "source": [
    "carros = (\"gol\")\n",
    "print(isinstance(carros, tuple)) # Verifica se a variável \"carros\" é uma tupla!"
   ]
  },
  {
   "cell_type": "code",
   "execution_count": null,
   "id": "c987110d-6a10-4a52-9361-eab617868d58",
   "metadata": {},
   "outputs": [],
   "source": []
  }
 ],
 "metadata": {
  "kernelspec": {
   "display_name": "Python 3 (ipykernel)",
   "language": "python",
   "name": "python3"
  },
  "language_info": {
   "codemirror_mode": {
    "name": "ipython",
    "version": 3
   },
   "file_extension": ".py",
   "mimetype": "text/x-python",
   "name": "python",
   "nbconvert_exporter": "python",
   "pygments_lexer": "ipython3",
   "version": "3.12.3"
  }
 },
 "nbformat": 4,
 "nbformat_minor": 5
}
