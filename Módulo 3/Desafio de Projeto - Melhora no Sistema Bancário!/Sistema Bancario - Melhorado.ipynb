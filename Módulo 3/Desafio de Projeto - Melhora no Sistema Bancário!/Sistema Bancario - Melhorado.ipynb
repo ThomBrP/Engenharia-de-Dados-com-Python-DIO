{
 "cells": [
  {
   "cell_type": "code",
   "execution_count": null,
   "id": "fa338fe7-6732-49ed-85b2-e90ba0c777ec",
   "metadata": {},
   "outputs": [],
   "source": [
    "# Otimizar o sistema Bancário com funções!\n",
    "\n",
    "# - Segundo o vídeo base, a ideia era pegar o arquivo do github e melhorar\n",
    "# utilizando duas funções: Cadastrar usuário e criar conta corrente (vinculando a conta com o usuário)\n",
    "\n",
    "\n",
    "#Alterações: \n",
    "\n",
    "# Saque: Keyword only: saldo, valor, extrato, limite, numero_saques e limite_saques ------ OK\n",
    "# retorno: sando e extrato\n",
    "\n",
    "# Depósito: Positional Only: saldo, valor, extrato ------ OK!\n",
    "# retorno: saldo e extrato\n",
    "\n",
    "# Extrato: Positional Only e Keyword Only: Saldo, nomeado = extrato ------ OK!\n",
    "\n",
    "\n",
    "# Novas funções:\n",
    "# Criar Usuário: armazenar os usuários em uma lista, composta por: nome, data_nascimento, cpf e endereco. ------- OK! \n",
    "# endereço = string; cpf = string que aceita apenas numeros (não aceita duplicatas)\n",
    "# Tentar implementar o valida_CPF\n",
    "\n",
    "\n",
    "\n",
    "# Criar Conta: Armazenar contas em uma lista, composta por: Agencia, numero da conta e usuario. ------- OK!\n",
    "# Numero da conta é sequencial, iniciando em 1. Numero da agencia é fixo (\"0001\")\n",
    "# um usuario pode ter várias contas, mas cada conta tem apenas 1 usuario (CPF, validar se existe)\n",
    "\n",
    "\n",
    "\n",
    "# Livre para adicionar novas funções"
   ]
  },
  {
   "cell_type": "code",
   "execution_count": 43,
   "id": "83e1ac34-7875-4bab-8441-5af1e3553c93",
   "metadata": {},
   "outputs": [
    {
     "name": "stdout",
     "output_type": "stream",
     "text": [
      "Seja bem vindo ao Santandesco!\n",
      "\n",
      "\n",
      "[1] Entrar\n",
      "[2] Cadastrar Usuário\n",
      "[3] Visualizar Usuários\n",
      "[0] Sair\n"
     ]
    },
    {
     "name": "stdin",
     "output_type": "stream",
     "text": [
      "Digite seu comando:  2\n",
      "Digite seu CPF:  123\n",
      "Digite seu nome:  nom\n",
      "Digite sua data de Nascimento:  dat\n",
      "Digite seu endereço:  end\n",
      "Digite sua senha:  sen\n"
     ]
    },
    {
     "name": "stdout",
     "output_type": "stream",
     "text": [
      "Usuário criado com sucesso!\n",
      "\n",
      "\n",
      "[1] Entrar\n",
      "[2] Cadastrar Usuário\n",
      "[3] Visualizar Usuários\n",
      "[0] Sair\n"
     ]
    },
    {
     "name": "stdin",
     "output_type": "stream",
     "text": [
      "Digite seu comando:  1\n",
      "Digite o seu CPF para login:  123\n",
      "Digite sua senha:  sen\n"
     ]
    },
    {
     "name": "stdout",
     "output_type": "stream",
     "text": [
      "Seja bem vindo nom! Seu saldo é de R$0.\n",
      "\n",
      "\n",
      "\n",
      "[1] Sacar\n",
      "[2] Depositar\n",
      "[3] Visualizar Extrato\n",
      "[4] Verificar infos pessoais\n",
      "[5] Alterar infos pessoais\n",
      "[0] Sair\n"
     ]
    },
    {
     "name": "stdin",
     "output_type": "stream",
     "text": [
      "Digite seu comando:  2\n",
      "Digite o valor a depositar: R$ 250\n"
     ]
    },
    {
     "name": "stdout",
     "output_type": "stream",
     "text": [
      "Depósito realizado com sucesso! Saldo atual: R$250.0\n",
      "\n",
      "\n",
      "[1] Sacar\n",
      "[2] Depositar\n",
      "[3] Visualizar Extrato\n",
      "[4] Verificar infos pessoais\n",
      "[5] Alterar infos pessoais\n",
      "[0] Sair\n"
     ]
    },
    {
     "name": "stdin",
     "output_type": "stream",
     "text": [
      "Digite seu comando:  1\n",
      "Digite o valor a sacar: R$ 25\n"
     ]
    },
    {
     "name": "stdout",
     "output_type": "stream",
     "text": [
      "Valor sacado com sucesso! Saldo atual: R$225.0\n",
      "\n",
      "\n",
      "[1] Sacar\n",
      "[2] Depositar\n",
      "[3] Visualizar Extrato\n",
      "[4] Verificar infos pessoais\n",
      "[5] Alterar infos pessoais\n",
      "[0] Sair\n"
     ]
    },
    {
     "name": "stdin",
     "output_type": "stream",
     "text": [
      "Digite seu comando:  0\n"
     ]
    },
    {
     "name": "stdout",
     "output_type": "stream",
     "text": [
      "Fazendo logoff\n",
      "\n",
      "\n",
      "[1] Entrar\n",
      "[2] Cadastrar Usuário\n",
      "[3] Visualizar Usuários\n",
      "[0] Sair\n"
     ]
    },
    {
     "name": "stdin",
     "output_type": "stream",
     "text": [
      "Digite seu comando:  2\n",
      "Digite seu CPF:  1234\n",
      "Digite seu nome:  nom2\n",
      "Digite sua data de Nascimento:  dat2\n",
      "Digite seu endereço:  end2\n",
      "Digite sua senha:  sen2\n"
     ]
    },
    {
     "name": "stdout",
     "output_type": "stream",
     "text": [
      "Usuário criado com sucesso!\n",
      "\n",
      "\n",
      "[1] Entrar\n",
      "[2] Cadastrar Usuário\n",
      "[3] Visualizar Usuários\n",
      "[0] Sair\n"
     ]
    },
    {
     "name": "stdin",
     "output_type": "stream",
     "text": [
      "Digite seu comando:  1\n",
      "Digite o seu CPF para login:  1234\n",
      "Digite sua senha:  sen2\n"
     ]
    },
    {
     "name": "stdout",
     "output_type": "stream",
     "text": [
      "Seja bem vindo nom2! Seu saldo é de R$0.\n",
      "\n",
      "\n",
      "\n",
      "[1] Sacar\n",
      "[2] Depositar\n",
      "[3] Visualizar Extrato\n",
      "[4] Verificar infos pessoais\n",
      "[5] Alterar infos pessoais\n",
      "[0] Sair\n"
     ]
    },
    {
     "name": "stdin",
     "output_type": "stream",
     "text": [
      "Digite seu comando:  4\n"
     ]
    },
    {
     "name": "stdout",
     "output_type": "stream",
     "text": [
      "nome: nom2\n",
      "data_nascimento: dat2\n",
      "cpf: 1234\n",
      "endereco: end2\n",
      "senha: sen2\n",
      "\n",
      "\n",
      "[1] Sacar\n",
      "[2] Depositar\n",
      "[3] Visualizar Extrato\n",
      "[4] Verificar infos pessoais\n",
      "[5] Alterar infos pessoais\n",
      "[0] Sair\n"
     ]
    },
    {
     "name": "stdin",
     "output_type": "stream",
     "text": [
      "Digite seu comando:  3\n"
     ]
    },
    {
     "name": "stdout",
     "output_type": "stream",
     "text": [
      "----- Extrato Santandesco -----\n",
      "|      Saldo atual = R$0       |\n",
      "|------------------------------|\n",
      "|    Operação        Valor     |\n",
      "-------------------------------\n",
      "\n",
      "\n",
      "[1] Sacar\n",
      "[2] Depositar\n",
      "[3] Visualizar Extrato\n",
      "[4] Verificar infos pessoais\n",
      "[5] Alterar infos pessoais\n",
      "[0] Sair\n"
     ]
    },
    {
     "name": "stdin",
     "output_type": "stream",
     "text": [
      "Digite seu comando:  2\n",
      "Digite o valor a depositar: R$ 300\n"
     ]
    },
    {
     "name": "stdout",
     "output_type": "stream",
     "text": [
      "Depósito realizado com sucesso! Saldo atual: R$300.0\n",
      "\n",
      "\n",
      "[1] Sacar\n",
      "[2] Depositar\n",
      "[3] Visualizar Extrato\n",
      "[4] Verificar infos pessoais\n",
      "[5] Alterar infos pessoais\n",
      "[0] Sair\n"
     ]
    },
    {
     "name": "stdin",
     "output_type": "stream",
     "text": [
      "Digite seu comando:  1\n",
      "Digite o valor a sacar: R$ 50\n"
     ]
    },
    {
     "name": "stdout",
     "output_type": "stream",
     "text": [
      "Valor sacado com sucesso! Saldo atual: R$250.0\n",
      "\n",
      "\n",
      "[1] Sacar\n",
      "[2] Depositar\n",
      "[3] Visualizar Extrato\n",
      "[4] Verificar infos pessoais\n",
      "[5] Alterar infos pessoais\n",
      "[0] Sair\n"
     ]
    },
    {
     "name": "stdin",
     "output_type": "stream",
     "text": [
      "Digite seu comando:  3\n"
     ]
    },
    {
     "name": "stdout",
     "output_type": "stream",
     "text": [
      "----- Extrato Santandesco -----\n",
      "|    Saldo atual = R$250.0     |\n",
      "|------------------------------|\n",
      "|    Operação        Valor     |\n",
      "| Depósito          R$300.0    |\n",
      "| Saque             R$50.0     |\n",
      "-------------------------------\n",
      "\n",
      "\n",
      "[1] Sacar\n",
      "[2] Depositar\n",
      "[3] Visualizar Extrato\n",
      "[4] Verificar infos pessoais\n",
      "[5] Alterar infos pessoais\n",
      "[0] Sair\n"
     ]
    },
    {
     "name": "stdin",
     "output_type": "stream",
     "text": [
      "Digite seu comando:  0\n"
     ]
    },
    {
     "name": "stdout",
     "output_type": "stream",
     "text": [
      "Fazendo logoff\n",
      "\n",
      "\n",
      "[1] Entrar\n",
      "[2] Cadastrar Usuário\n",
      "[3] Visualizar Usuários\n",
      "[0] Sair\n"
     ]
    },
    {
     "name": "stdin",
     "output_type": "stream",
     "text": [
      "Digite seu comando:  1\n",
      "Digite o seu CPF para login:  123\n",
      "Digite sua senha:  sen\n"
     ]
    },
    {
     "name": "stdout",
     "output_type": "stream",
     "text": [
      "Seja bem vindo nom! Seu saldo é de R$225.0.\n",
      "\n",
      "\n",
      "\n",
      "[1] Sacar\n",
      "[2] Depositar\n",
      "[3] Visualizar Extrato\n",
      "[4] Verificar infos pessoais\n",
      "[5] Alterar infos pessoais\n",
      "[0] Sair\n"
     ]
    },
    {
     "name": "stdin",
     "output_type": "stream",
     "text": [
      "Digite seu comando:  3\n"
     ]
    },
    {
     "name": "stdout",
     "output_type": "stream",
     "text": [
      "----- Extrato Santandesco -----\n",
      "|    Saldo atual = R$225.0     |\n",
      "|------------------------------|\n",
      "|    Operação        Valor     |\n",
      "| Depósito          R$250.0    |\n",
      "| Saque             R$25.0     |\n",
      "-------------------------------\n",
      "\n",
      "\n",
      "[1] Sacar\n",
      "[2] Depositar\n",
      "[3] Visualizar Extrato\n",
      "[4] Verificar infos pessoais\n",
      "[5] Alterar infos pessoais\n",
      "[0] Sair\n"
     ]
    },
    {
     "name": "stdin",
     "output_type": "stream",
     "text": [
      "Digite seu comando:  4\n"
     ]
    },
    {
     "name": "stdout",
     "output_type": "stream",
     "text": [
      "nome: nom\n",
      "data_nascimento: dat\n",
      "cpf: 123\n",
      "endereco: end\n",
      "senha: sen\n",
      "\n",
      "\n",
      "[1] Sacar\n",
      "[2] Depositar\n",
      "[3] Visualizar Extrato\n",
      "[4] Verificar infos pessoais\n",
      "[5] Alterar infos pessoais\n",
      "[0] Sair\n"
     ]
    },
    {
     "name": "stdin",
     "output_type": "stream",
     "text": [
      "Digite seu comando:  0\n"
     ]
    },
    {
     "name": "stdout",
     "output_type": "stream",
     "text": [
      "Fazendo logoff\n",
      "\n",
      "\n",
      "[1] Entrar\n",
      "[2] Cadastrar Usuário\n",
      "[3] Visualizar Usuários\n",
      "[0] Sair\n"
     ]
    },
    {
     "name": "stdin",
     "output_type": "stream",
     "text": [
      "Digite seu comando:  3\n"
     ]
    },
    {
     "name": "stdout",
     "output_type": "stream",
     "text": [
      "----- Lista de Usuários Santandesco -----\n",
      "|                                        |\n",
      "|         Usuário               CPF      |\n",
      "| nom                          123       |\n",
      "| nom2                         1234      |\n",
      "-----------------------------------------\n",
      "\n",
      "\n",
      "[1] Entrar\n",
      "[2] Cadastrar Usuário\n",
      "[3] Visualizar Usuários\n",
      "[0] Sair\n"
     ]
    },
    {
     "name": "stdin",
     "output_type": "stream",
     "text": [
      "Digite seu comando:  1\n",
      "Digite o seu CPF para login:  1234\n",
      "Digite sua senha:  sen2\n"
     ]
    },
    {
     "name": "stdout",
     "output_type": "stream",
     "text": [
      "Seja bem vindo nom2! Seu saldo é de R$250.0.\n",
      "\n",
      "\n",
      "\n",
      "[1] Sacar\n",
      "[2] Depositar\n",
      "[3] Visualizar Extrato\n",
      "[4] Verificar infos pessoais\n",
      "[5] Alterar infos pessoais\n",
      "[0] Sair\n"
     ]
    },
    {
     "name": "stdin",
     "output_type": "stream",
     "text": [
      "Digite seu comando:  4\n"
     ]
    },
    {
     "name": "stdout",
     "output_type": "stream",
     "text": [
      "nome: nom2\n",
      "data_nascimento: dat2\n",
      "cpf: 1234\n",
      "endereco: end2\n",
      "senha: sen2\n",
      "\n",
      "\n",
      "[1] Sacar\n",
      "[2] Depositar\n",
      "[3] Visualizar Extrato\n",
      "[4] Verificar infos pessoais\n",
      "[5] Alterar infos pessoais\n",
      "[0] Sair\n"
     ]
    },
    {
     "name": "stdin",
     "output_type": "stream",
     "text": [
      "Digite seu comando:  3\n"
     ]
    },
    {
     "name": "stdout",
     "output_type": "stream",
     "text": [
      "----- Extrato Santandesco -----\n",
      "|    Saldo atual = R$250.0     |\n",
      "|------------------------------|\n",
      "|    Operação        Valor     |\n",
      "| Depósito          R$300.0    |\n",
      "| Saque             R$50.0     |\n",
      "-------------------------------\n",
      "\n",
      "\n",
      "[1] Sacar\n",
      "[2] Depositar\n",
      "[3] Visualizar Extrato\n",
      "[4] Verificar infos pessoais\n",
      "[5] Alterar infos pessoais\n",
      "[0] Sair\n"
     ]
    },
    {
     "name": "stdin",
     "output_type": "stream",
     "text": [
      "Digite seu comando:  1\n",
      "Digite o valor a sacar: R$ 200\n"
     ]
    },
    {
     "name": "stdout",
     "output_type": "stream",
     "text": [
      "Valor sacado com sucesso! Saldo atual: R$50.0\n",
      "\n",
      "\n",
      "[1] Sacar\n",
      "[2] Depositar\n",
      "[3] Visualizar Extrato\n",
      "[4] Verificar infos pessoais\n",
      "[5] Alterar infos pessoais\n",
      "[0] Sair\n"
     ]
    },
    {
     "name": "stdin",
     "output_type": "stream",
     "text": [
      "Digite seu comando:  3\n"
     ]
    },
    {
     "name": "stdout",
     "output_type": "stream",
     "text": [
      "----- Extrato Santandesco -----\n",
      "|     Saldo atual = R$50.0     |\n",
      "|------------------------------|\n",
      "|    Operação        Valor     |\n",
      "| Depósito          R$300.0    |\n",
      "| Saque             R$50.0     |\n",
      "| Saque             R$200.0    |\n",
      "-------------------------------\n",
      "\n",
      "\n",
      "[1] Sacar\n",
      "[2] Depositar\n",
      "[3] Visualizar Extrato\n",
      "[4] Verificar infos pessoais\n",
      "[5] Alterar infos pessoais\n",
      "[0] Sair\n"
     ]
    },
    {
     "name": "stdin",
     "output_type": "stream",
     "text": [
      "Digite seu comando:  0\n"
     ]
    },
    {
     "name": "stdout",
     "output_type": "stream",
     "text": [
      "Fazendo logoff\n",
      "\n",
      "\n",
      "[1] Entrar\n",
      "[2] Cadastrar Usuário\n",
      "[3] Visualizar Usuários\n",
      "[0] Sair\n"
     ]
    },
    {
     "name": "stdin",
     "output_type": "stream",
     "text": [
      "Digite seu comando:  1\n",
      "Digite o seu CPF para login:  123\n",
      "Digite sua senha:  sen\n"
     ]
    },
    {
     "name": "stdout",
     "output_type": "stream",
     "text": [
      "Seja bem vindo nom! Seu saldo é de R$225.0.\n",
      "\n",
      "\n",
      "\n",
      "[1] Sacar\n",
      "[2] Depositar\n",
      "[3] Visualizar Extrato\n",
      "[4] Verificar infos pessoais\n",
      "[5] Alterar infos pessoais\n",
      "[0] Sair\n"
     ]
    },
    {
     "name": "stdin",
     "output_type": "stream",
     "text": [
      "Digite seu comando:  3\n"
     ]
    },
    {
     "name": "stdout",
     "output_type": "stream",
     "text": [
      "----- Extrato Santandesco -----\n",
      "|    Saldo atual = R$225.0     |\n",
      "|------------------------------|\n",
      "|    Operação        Valor     |\n",
      "| Depósito          R$250.0    |\n",
      "| Saque             R$25.0     |\n",
      "-------------------------------\n",
      "\n",
      "\n",
      "[1] Sacar\n",
      "[2] Depositar\n",
      "[3] Visualizar Extrato\n",
      "[4] Verificar infos pessoais\n",
      "[5] Alterar infos pessoais\n",
      "[0] Sair\n"
     ]
    },
    {
     "name": "stdin",
     "output_type": "stream",
     "text": [
      "Digite seu comando:  5\n"
     ]
    },
    {
     "name": "stdout",
     "output_type": "stream",
     "text": [
      "\n",
      "Qual informação você deseja alterar:\n",
      "[1] Nome\n",
      "[2] Data de Nascimento\n",
      "[3] CPF\n",
      "[4] Endereço\n",
      "[5] Senha\n",
      "[0] Sair\n"
     ]
    },
    {
     "name": "stdin",
     "output_type": "stream",
     "text": [
      "Digite seu comando:  3\n",
      "Digite seu novo CPF:  1234\n"
     ]
    },
    {
     "name": "stdout",
     "output_type": "stream",
     "text": [
      "CPF já utilizado, impossível fazer a troca!\n",
      "\n",
      "\n",
      "[1] Sacar\n",
      "[2] Depositar\n",
      "[3] Visualizar Extrato\n",
      "[4] Verificar infos pessoais\n",
      "[5] Alterar infos pessoais\n",
      "[0] Sair\n"
     ]
    },
    {
     "name": "stdin",
     "output_type": "stream",
     "text": [
      "Digite seu comando:  5\n"
     ]
    },
    {
     "name": "stdout",
     "output_type": "stream",
     "text": [
      "\n",
      "Qual informação você deseja alterar:\n",
      "[1] Nome\n",
      "[2] Data de Nascimento\n",
      "[3] CPF\n",
      "[4] Endereço\n",
      "[5] Senha\n",
      "[0] Sair\n"
     ]
    },
    {
     "name": "stdin",
     "output_type": "stream",
     "text": [
      "Digite seu comando:  1\n",
      "Digite o nome alterado:  Thom\n"
     ]
    },
    {
     "name": "stdout",
     "output_type": "stream",
     "text": [
      "Nome alterado com sucesso!\n",
      "\n",
      "\n",
      "[1] Sacar\n",
      "[2] Depositar\n",
      "[3] Visualizar Extrato\n",
      "[4] Verificar infos pessoais\n",
      "[5] Alterar infos pessoais\n",
      "[0] Sair\n"
     ]
    },
    {
     "name": "stdin",
     "output_type": "stream",
     "text": [
      "Digite seu comando:  5\n"
     ]
    },
    {
     "name": "stdout",
     "output_type": "stream",
     "text": [
      "\n",
      "Qual informação você deseja alterar:\n",
      "[1] Nome\n",
      "[2] Data de Nascimento\n",
      "[3] CPF\n",
      "[4] Endereço\n",
      "[5] Senha\n",
      "[0] Sair\n"
     ]
    },
    {
     "name": "stdin",
     "output_type": "stream",
     "text": [
      "Digite seu comando:  5\n",
      "Digite o senha alterado:  abacate\n"
     ]
    },
    {
     "name": "stdout",
     "output_type": "stream",
     "text": [
      "Senha alterada com sucesso!\n",
      "\n",
      "\n",
      "[1] Sacar\n",
      "[2] Depositar\n",
      "[3] Visualizar Extrato\n",
      "[4] Verificar infos pessoais\n",
      "[5] Alterar infos pessoais\n",
      "[0] Sair\n"
     ]
    },
    {
     "name": "stdin",
     "output_type": "stream",
     "text": [
      "Digite seu comando:  0\n"
     ]
    },
    {
     "name": "stdout",
     "output_type": "stream",
     "text": [
      "Fazendo logoff\n",
      "\n",
      "\n",
      "[1] Entrar\n",
      "[2] Cadastrar Usuário\n",
      "[3] Visualizar Usuários\n",
      "[0] Sair\n"
     ]
    },
    {
     "name": "stdin",
     "output_type": "stream",
     "text": [
      "Digite seu comando:  1\n",
      "Digite o seu CPF para login:  3\n"
     ]
    },
    {
     "name": "stdout",
     "output_type": "stream",
     "text": [
      "CPF não encontrado!\n",
      "\n",
      "\n",
      "\n",
      "[1] Entrar\n",
      "[2] Cadastrar Usuário\n",
      "[3] Visualizar Usuários\n",
      "[0] Sair\n"
     ]
    },
    {
     "name": "stdin",
     "output_type": "stream",
     "text": [
      "Digite seu comando:  3\n"
     ]
    },
    {
     "name": "stdout",
     "output_type": "stream",
     "text": [
      "----- Lista de Usuários Santandesco -----\n",
      "|                                        |\n",
      "|         Usuário               CPF      |\n",
      "| Thom                         123       |\n",
      "| nom2                         1234      |\n",
      "-----------------------------------------\n",
      "\n",
      "\n",
      "[1] Entrar\n",
      "[2] Cadastrar Usuário\n",
      "[3] Visualizar Usuários\n",
      "[0] Sair\n"
     ]
    },
    {
     "name": "stdin",
     "output_type": "stream",
     "text": [
      "Digite seu comando:  123\n"
     ]
    },
    {
     "name": "stdout",
     "output_type": "stream",
     "text": [
      "Favor inserir uma entrada válida!\n",
      "\n",
      "\n",
      "[1] Entrar\n",
      "[2] Cadastrar Usuário\n",
      "[3] Visualizar Usuários\n",
      "[0] Sair\n"
     ]
    },
    {
     "name": "stdin",
     "output_type": "stream",
     "text": [
      "Digite seu comando:  1\n",
      "Digite o seu CPF para login:  123\n",
      "Digite sua senha:  abacate\n"
     ]
    },
    {
     "name": "stdout",
     "output_type": "stream",
     "text": [
      "Seja bem vindo Thom! Seu saldo é de R$225.0.\n",
      "\n",
      "\n",
      "\n",
      "[1] Sacar\n",
      "[2] Depositar\n",
      "[3] Visualizar Extrato\n",
      "[4] Verificar infos pessoais\n",
      "[5] Alterar infos pessoais\n",
      "[0] Sair\n"
     ]
    },
    {
     "name": "stdin",
     "output_type": "stream",
     "text": [
      "Digite seu comando:  3\n"
     ]
    },
    {
     "name": "stdout",
     "output_type": "stream",
     "text": [
      "----- Extrato Santandesco -----\n",
      "|    Saldo atual = R$225.0     |\n",
      "|------------------------------|\n",
      "|    Operação        Valor     |\n",
      "| Depósito          R$250.0    |\n",
      "| Saque             R$25.0     |\n",
      "-------------------------------\n",
      "\n",
      "\n",
      "[1] Sacar\n",
      "[2] Depositar\n",
      "[3] Visualizar Extrato\n",
      "[4] Verificar infos pessoais\n",
      "[5] Alterar infos pessoais\n",
      "[0] Sair\n"
     ]
    },
    {
     "name": "stdin",
     "output_type": "stream",
     "text": [
      "Digite seu comando:  0\n"
     ]
    },
    {
     "name": "stdout",
     "output_type": "stream",
     "text": [
      "Fazendo logoff\n",
      "\n",
      "\n",
      "[1] Entrar\n",
      "[2] Cadastrar Usuário\n",
      "[3] Visualizar Usuários\n",
      "[0] Sair\n"
     ]
    },
    {
     "name": "stdin",
     "output_type": "stream",
     "text": [
      "Digite seu comando:  0\n"
     ]
    },
    {
     "name": "stdout",
     "output_type": "stream",
     "text": [
      "Desligando o sistema\n"
     ]
    }
   ],
   "source": [
    "def sacar(*, saldo, extrato, cont):\n",
    "    saque = float(input(\"Digite o valor a sacar: R$\"))\n",
    "    limite = 500.0\n",
    "    if(saque < 0):\n",
    "        print(\"Impossível sacar um valor negativo! Reiniciando operação\")\n",
    "        return saldo, cont\n",
    "    elif(saque > 500):\n",
    "        print(\"Valor de saque acima do limite! Reiniciando operação\")\n",
    "        return saldo, cont\n",
    "    elif(saque == 0):\n",
    "        print(f\"Saque de R$0.00 realizado! Saldo atual: R${saldo}\")\n",
    "        return saldo, cont+1\n",
    "    elif(saque <= saldo):\n",
    "        print(f\"Valor sacado com sucesso! Saldo atual: R${saldo-saque}\")\n",
    "        extrato.append([\"Saque\", saque])\n",
    "        return saldo-saque, cont+1\n",
    "    else:\n",
    "        print(\"Valor de saque inválido. Reiniciando operação\")\n",
    "        return saldo, cont\n",
    "\n",
    "def depositar(saldo, extrato, /):\n",
    "    deposito = float(input(\"Digite o valor a depositar: R$\"))\n",
    "    if(deposito<0):\n",
    "        print(\"Valor inválido, favor inserir um valor positivo\")\n",
    "        return saldo\n",
    "    elif(deposito == 0):\n",
    "        print(f\"Depósito de R$0.00 realizado com sucesso, saldo atual: R${saldo}\")\n",
    "        extrato.append([\"Depósito\", deposito])\n",
    "        return saldo\n",
    "    else:\n",
    "        print(f\"Depósito realizado com sucesso! Saldo atual: R${saldo+deposito}\")\n",
    "        extrato.append([\"Depósito\", deposito])\n",
    "        return saldo + deposito\n",
    "\n",
    "def insere_espacos_direita(string, quantidade):\n",
    "    string = str(string)\n",
    "    if(len(string) >= quantidade):\n",
    "        return string\n",
    "    else:\n",
    "        while(len(string) < quantidade):\n",
    "            string += \" \" \n",
    "        return string\n",
    "\n",
    "def mostra_extrato(saldo, /, *, extratoo):\n",
    "    print(\" Extrato Santandesco \".center(31,\"-\"))\n",
    "    print(\"|\"+ (\"Saldo atual = R$\" + str(saldo)).center(30,\" \") + \"|\")\n",
    "    print(\"|\" + \"-\".center(30,\"-\") + \"|\")\n",
    "    print(\"|\" + \"Operação\".center(15,\" \"),end=\"\")\n",
    "    print(\"Valor\".center(15,\" \") + \"|\")\n",
    "    for operacao, valor in extratoo:\n",
    "        print(\"| \" + insere_espacos_direita(operacao, 18) + \"R$\" + insere_espacos_direita(str(valor),9) + \"|\")\n",
    "    print(\"-\".center(31,\"-\"))\n",
    "\n",
    "\n",
    "\n",
    "\n",
    "\n",
    "def verifica_existencia_cpf(lista_usuarios, cpf):\n",
    "    for usuario in lista_usuarios:\n",
    "        if(usuario[0][\"cpf\"] == cpf):\n",
    "            return True\n",
    "    return False\n",
    "\n",
    "\n",
    "def cadastra_usuario(lista_usuarios):\n",
    "    cpf = int(input(\"Digite seu CPF: \"))\n",
    "    if(verifica_existencia_cpf(lista_usuarios, cpf) == True):\n",
    "        print(\"Usuário já criado, favor fazer login para alterar os dados ou cadastrar novo usuário!\")\n",
    "        return None\n",
    "    else:\n",
    "        nome = input(\"Digite seu nome: \")\n",
    "        data_nascimento = input(\"Digite sua data de Nascimento: \")\n",
    "        endereco = input(\"Digite seu endereço: \")\n",
    "        senha = input(\"Digite sua senha: \")\n",
    "        return {\"nome\": nome, \"data_nascimento\": data_nascimento, \"cpf\": cpf, \"endereco\": endereco, \"senha\": senha}\n",
    "    \n",
    "    \n",
    "def valida_login(lista_usuarios):\n",
    "    index_usuario = -1\n",
    "    cpf = int(input(\"Digite o seu CPF para login: \"))\n",
    "    senha = \"\"\n",
    "    if(verifica_existencia_cpf(lista_usuarios, cpf) == True):\n",
    "        senha = input(\"Digite sua senha: \")\n",
    "    else:\n",
    "        print(\"CPF não encontrado!\")\n",
    "        return index_usuario\n",
    "\n",
    "    index_usuario = 0\n",
    "    for usuario in lista_usuarios:\n",
    "        if usuario[0][\"cpf\"] == cpf:\n",
    "            if usuario[0][\"senha\"] == senha:\n",
    "                print(f\"Seja bem vindo {usuario[0][\"nome\"]}! Seu saldo é de R${usuario[2]}.\")\n",
    "                return index_usuario\n",
    "            else:\n",
    "                print(\"Senha incorreta, tente novamente!\")\n",
    "                return -1\n",
    "        else:\n",
    "            index_usuario += 1\n",
    "    \n",
    "def mostra_usuarios(lista_usuarios):\n",
    "    print(\" Lista de Usuários Santandesco \".center(41,\"-\"))\n",
    "    print(\"|\" + \" \".center(40,\" \") + \"|\")\n",
    "    print(\"|\" + \"Usuário\".center(25,\" \"),end=\"\")\n",
    "    print(\"CPF\".center(15,\" \") + \"|\")\n",
    "    for usuario in lista_usuarios:\n",
    "        print(\"| \" + insere_espacos_direita(usuario[0][\"nome\"], 29) + insere_espacos_direita(usuario[0][\"cpf\"],10) + \"|\")\n",
    "    print(\"-\".center(41,\"-\"))\n",
    "\n",
    "def mostra_atributos_usuario(usuario):\n",
    "    for atributo, valor in usuario.items():\n",
    "        print(f\"{atributo}: {valor}\")\n",
    "\n",
    "def altera_atributos_usuario(lista_usuarios, usuario):\n",
    "    print(\"\\nQual informação você deseja alterar:\\n\",end=\"\")\n",
    "    print(\"[1] Nome\\n\",end=\"\")\n",
    "    print(\"[2] Data de Nascimento\\n\",end=\"\")\n",
    "    print(\"[3] CPF\\n\",end=\"\")\n",
    "    print(\"[4] Endereço\\n\",end=\"\")\n",
    "    print(\"[5] Senha\\n\",end=\"\")\n",
    "    print(\"[0] Sair\\n\",end=\"\")\n",
    "    info = int(input(\"Digite seu comando: \"))\n",
    "\n",
    "    if(info == 1): # Nome\n",
    "        nome = input(\"Digite o nome alterado: \")\n",
    "        usuario[\"nome\"] = nome\n",
    "        print(\"Nome alterado com sucesso!\")\n",
    "        return usuario\n",
    "\n",
    "    elif(info == 2): # Data Nascimento\n",
    "        data_nascimento = input(\"Digite o data de nascimento alterada: \")\n",
    "        usuario[\"data_nascimento\"] = data_nascimento\n",
    "        print(\"Data de nascimento alterado com sucesso!\")\n",
    "        return usuario\n",
    "        \n",
    "    elif(info == 3): # CPF\n",
    "        cpf = int(input(\"Digite seu novo CPF: \"))\n",
    "        if(cpf == usuario[\"cpf\"]):\n",
    "            print(\"Número de CPF inalterado!\")\n",
    "            return usuario\n",
    "        elif(verifica_existencia_cpf(lista_usuarios, cpf) == True):\n",
    "            print(\"CPF já utilizado, impossível fazer a troca!\")\n",
    "            return usuario\n",
    "        else:\n",
    "            usuario[\"cpf\"] = cpf\n",
    "            print(\"CPF alterado com sucesso!\")\n",
    "            return usuario\n",
    "            \n",
    "    elif(info == 4): # Endereço\n",
    "        endereco = input(\"Digite o endereço alterado: \")\n",
    "        usuario[\"endereco\"] = endereco\n",
    "        print(\"Endereço alterado com sucesso!\")\n",
    "        return usuario\n",
    "        \n",
    "    elif(info == 5): # Senha\n",
    "        senha = input(\"Digite o senha alterado: \")\n",
    "        usuario[\"senha\"] = senha\n",
    "        print(\"Senha alterada com sucesso!\")\n",
    "        return usuario\n",
    "        \n",
    "    elif(info == 0): # Sair\n",
    "        print(\"Saindo!\")\n",
    "        return usuario\n",
    "    else:\n",
    "        print(\"Não foi possível identificar o atributo que você deseja alterar!\")\n",
    "        return usuario\n",
    "\n",
    "\n",
    "\n",
    "\n",
    "def menu_inicial():\n",
    "    print(\"\\n\")\n",
    "    print(\"[1] Entrar\\n[2] Cadastrar Usuário\\n[3] Visualizar Usuários\\n[0] Sair\")\n",
    "    return int(input(\"Digite seu comando: \"))\n",
    "    \n",
    "\n",
    "def menu_usuario():\n",
    "    print(\"\\n\")\n",
    "    print(\"[1] Sacar\\n[2] Depositar\\n[3] Visualizar Extrato\\n[4] Verificar infos pessoais\\n[5] Alterar infos pessoais\\n[0] Sair\")\n",
    "    return int(input(\"Digite seu comando: \"))\n",
    "\n",
    "\n",
    "\n",
    "\n",
    "\n",
    "def main():\n",
    "    menu = 0 # 0 = inicial, 1 = usuario\n",
    "    \n",
    "    entrada = -1\n",
    "    saldo = 0.0\n",
    "    cont_saque = 0\n",
    "\n",
    "    index_usuario = -1\n",
    "    usuario = {\"nome\": None, \"data_nascimento\": None, \"cpf\": None, \"endereco\": None, \"senha\": None}\n",
    "    extrato = []\n",
    "    lista_usuarios = [] # {atributos_usuario, extrato, saldo_atual}\n",
    "    \n",
    "    \n",
    "    print(\"Seja bem vindo ao Santandesco!\")\n",
    "    while(menu != -1):\n",
    "\n",
    "        # Faz o gerenciamento das opções do usuário\n",
    "        if(menu == 0): # se estiver no menu Inicial:\n",
    "            entrada = menu_inicial()\n",
    "            if(entrada == 1): # Fazer Login\n",
    "                index_usuario = valida_login(lista_usuarios)\n",
    "\n",
    "                if(index_usuario != -1): # Validou o usuário!\n",
    "                    saldo = 0.0\n",
    "                    extrato = []\n",
    "\n",
    "                    \n",
    "                    usuario = lista_usuarios[index_usuario][0]\n",
    "                    extrato = lista_usuarios[index_usuario][1].copy()\n",
    "                    saldo = lista_usuarios[index_usuario][2]\n",
    "                    cont_saque = 0\n",
    "                    menu = 1\n",
    "                print(\"\")\n",
    "                \n",
    "            elif(entrada == 2): # Cadastrar novo usuário\n",
    "                novo_usuario = cadastra_usuario(lista_usuarios)\n",
    "                if(novo_usuario != None):\n",
    "                    lista_usuarios.append([novo_usuario,[],0])\n",
    "                    print(\"Usuário criado com sucesso!\")\n",
    "                \n",
    "            elif(entrada == 3): # Visualizar usuários\n",
    "                mostra_usuarios(lista_usuarios)\n",
    "                \n",
    "            elif(entrada == 0): # Sair do sistema\n",
    "                menu = -1\n",
    "                print(\"Desligando o sistema\")\n",
    "            else: # Erro\n",
    "                print(\"Favor inserir uma entrada válida!\")\n",
    "                \n",
    "            \n",
    "        elif(menu == 1): # se estiver no menu do usuário:\n",
    "            entrada = menu_usuario()\n",
    "            if(entrada == 1): # \n",
    "                if(cont_saque>=3):\n",
    "                    print(\"Operação bloqueada devido ao limite de saques diários!\")\n",
    "                else:\n",
    "                    saldo, cont_saque = sacar(saldo = saldo, extrato = extrato, cont = cont_saque)\n",
    "           \n",
    "            elif(entrada == 2): # \n",
    "                saldo = depositar(saldo, extrato)\n",
    "                \n",
    "            elif(entrada == 3): # \n",
    "                mostra_extrato(saldo, extratoo = extrato)\n",
    "\n",
    "            elif(entrada == 4): # Verificar infos pessoais\n",
    "                mostra_atributos_usuario(usuario)\n",
    "\n",
    "            elif(entrada == 5): # Alterar infos pessoais\n",
    "                usuario = altera_atributos_usuario(lista_usuarios, usuario)\n",
    "\n",
    "            elif(entrada == 0): # \n",
    "                print(\"Fazendo logoff\")\n",
    "                menu = 0 # Volta para o menu inicial\n",
    "\n",
    "                # Sobe as alterações para a lista de usuarios\n",
    "                lista_usuarios[index_usuario][0] = usuario\n",
    "                lista_usuarios[index_usuario][1] = extrato.copy()\n",
    "                lista_usuarios[index_usuario][2] = saldo\n",
    "\n",
    "                # Reseta as variáveis de usuário\n",
    "                cont_saque = 0 # Se o usuário deslogar e logar em seguida, a contagem de saque reseta! Usuário safadinho!\n",
    "                index_usuario = -1\n",
    "                usuario = {\"nome\": None, \"data_nascimento\": None, \"cpf\": None, \"endereco\": None, \"senha\": None}\n",
    "                extrato = []\n",
    "                saldo = 0\n",
    "                \n",
    "                # Subir todas as alterações do usuario na lista de usuarios\n",
    "            else:\n",
    "                print(\"Favor inserir uma entrada válida!\")\n",
    "                \n",
    "        else:\n",
    "            raise Exception(\"ID do Menu inválido, revisar e corrigir!\")\n",
    "\n",
    "main()"
   ]
  },
  {
   "cell_type": "code",
   "execution_count": null,
   "id": "832bdfe9-9cef-498a-98f1-3f9f22a47c3c",
   "metadata": {},
   "outputs": [],
   "source": []
  }
 ],
 "metadata": {
  "kernelspec": {
   "display_name": "Python 3 (ipykernel)",
   "language": "python",
   "name": "python3"
  },
  "language_info": {
   "codemirror_mode": {
    "name": "ipython",
    "version": 3
   },
   "file_extension": ".py",
   "mimetype": "text/x-python",
   "name": "python",
   "nbconvert_exporter": "python",
   "pygments_lexer": "ipython3",
   "version": "3.12.3"
  }
 },
 "nbformat": 4,
 "nbformat_minor": 5
}
