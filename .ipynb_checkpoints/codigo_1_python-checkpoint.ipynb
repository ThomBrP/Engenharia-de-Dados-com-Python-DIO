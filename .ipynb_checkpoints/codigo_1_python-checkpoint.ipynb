{
 "cells": [
  {
   "cell_type": "code",
   "execution_count": 1,
   "id": "7832d243-0e02-4530-b582-42449c5565d2",
   "metadata": {},
   "outputs": [
    {
     "name": "stdout",
     "output_type": "stream",
     "text": [
      "Olá Mundo!\n"
     ]
    }
   ],
   "source": [
    "print(\"Olá Mundo!\")"
   ]
  },
  {
   "cell_type": "code",
   "execution_count": 2,
   "id": "d8c35c83-135a-4883-a56d-af5ec894dd36",
   "metadata": {},
   "outputs": [
    {
     "name": "stdout",
     "output_type": "stream",
     "text": [
      "Essa é um exemplo de print com Python, isso me lembra do 1º ano do médio\n"
     ]
    }
   ],
   "source": [
    "print(\"Essa é um exemplo de print com Python, isso me lembra do 1º ano do médio\")"
   ]
  },
  {
   "cell_type": "code",
   "execution_count": 3,
   "id": "940a10b2-89f9-493a-8b1d-f772ff5b433c",
   "metadata": {},
   "outputs": [
    {
     "name": "stdout",
     "output_type": "stream",
     "text": [
      "\n",
      "Introdução à algoritmos, fazer um algoritmo de uma galinha atravessando a rua (esse era o primeiro algoritmo que eu criei na vida\n"
     ]
    }
   ],
   "source": [
    "print(\"\\nIntrodução à algoritmos, fazer um algoritmo de uma galinha atravessando a rua (esse era o primeiro algoritmo que eu criei na vida)\")"
   ]
  },
  {
   "cell_type": "code",
   "execution_count": 8,
   "id": "e6604811-e992-4880-b681-2390bafe0aac",
   "metadata": {},
   "outputs": [
    {
     "name": "stdout",
     "output_type": "stream",
     "text": [
      "A galinha pode atravessar\n"
     ]
    }
   ],
   "source": [
    "carro = 0 #1 se tiver vindo, 0 se tiver livre\n",
    "atravessar = 0 #1 Se for atravessar, 0 se for esperar\n",
    "\n",
    "if(carro == 0):\n",
    "    atravessar = 1\n",
    "\n",
    "if(atravessar == 1):\n",
    "    print(\"A galinha pode atravessar\")\n",
    "else:\n",
    "    print(\"A galinha deve esperar\")"
   ]
  },
  {
   "cell_type": "code",
   "execution_count": null,
   "id": "49bbc771-813f-404a-b468-56f8dbbaeea6",
   "metadata": {},
   "outputs": [],
   "source": []
  }
 ],
 "metadata": {
  "kernelspec": {
   "display_name": "Python 3 (ipykernel)",
   "language": "python",
   "name": "python3"
  },
  "language_info": {
   "codemirror_mode": {
    "name": "ipython",
    "version": 3
   },
   "file_extension": ".py",
   "mimetype": "text/x-python",
   "name": "python",
   "nbconvert_exporter": "python",
   "pygments_lexer": "ipython3",
   "version": "3.12.3"
  }
 },
 "nbformat": 4,
 "nbformat_minor": 5
}
