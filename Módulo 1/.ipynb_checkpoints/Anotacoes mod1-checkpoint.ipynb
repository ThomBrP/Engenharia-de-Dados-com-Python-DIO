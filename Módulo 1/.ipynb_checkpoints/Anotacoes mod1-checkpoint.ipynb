{
 "cells": [
  {
   "cell_type": "code",
   "execution_count": 1,
   "id": "da26d075-8dde-4445-a86a-aef3ed518a27",
   "metadata": {},
   "outputs": [
    {
     "name": "stdout",
     "output_type": "stream",
     "text": [
      "11\n"
     ]
    }
   ],
   "source": [
    "print(1+10)"
   ]
  },
  {
   "cell_type": "code",
   "execution_count": 3,
   "id": "bf506fb7-e3c0-4059-be7e-9f21fb535198",
   "metadata": {},
   "outputs": [
    {
     "name": "stdout",
     "output_type": "stream",
     "text": [
      "3.0\n"
     ]
    }
   ],
   "source": [
    "print(1.5+1+0.5)"
   ]
  },
  {
   "cell_type": "code",
   "execution_count": 4,
   "id": "e891d570-a61e-4fdf-a3af-f7fe80a9c124",
   "metadata": {},
   "outputs": [
    {
     "name": "stdout",
     "output_type": "stream",
     "text": [
      "True\n"
     ]
    }
   ],
   "source": [
    "print(True)"
   ]
  },
  {
   "cell_type": "code",
   "execution_count": 5,
   "id": "57f37710-f0ba-4458-9de4-1cf7a5d57021",
   "metadata": {},
   "outputs": [
    {
     "name": "stdout",
     "output_type": "stream",
     "text": [
      "False\n"
     ]
    }
   ],
   "source": [
    "print(False)"
   ]
  },
  {
   "cell_type": "code",
   "execution_count": 6,
   "id": "b06f386d-9296-422b-8460-7d96452214c7",
   "metadata": {},
   "outputs": [
    {
     "name": "stdout",
     "output_type": "stream",
     "text": [
      "Python\n"
     ]
    }
   ],
   "source": [
    "print(\"Python\")"
   ]
  },
  {
   "cell_type": "code",
   "execution_count": 10,
   "id": "72892923-b6eb-41ab-b60b-2d172b39ccb0",
   "metadata": {},
   "outputs": [],
   "source": [
    "# int()\n",
    "# float()\n",
    "# str()\n",
    "# bool()"
   ]
  },
  {
   "cell_type": "code",
   "execution_count": 12,
   "id": "16aa42e9-2402-495b-aaac-8fc2122a7c3f",
   "metadata": {},
   "outputs": [],
   "source": [
    "# Até aqui estamos falando da aula de tipos de dados"
   ]
  },
  {
   "cell_type": "code",
   "execution_count": 13,
   "id": "fd02dd6a-3ee7-418f-bfcb-a5aa70b3477e",
   "metadata": {},
   "outputs": [],
   "source": [
    "#iniciando a aula sobre variáveis"
   ]
  },
  {
   "cell_type": "code",
   "execution_count": 15,
   "id": "7958319d-1370-410c-8e0d-0b22852e3dc5",
   "metadata": {},
   "outputs": [],
   "source": [
    "# Não existe CONST em python\n",
    "\n",
    "# Boas práticas da programação em Python:\n",
    "# Devemos sempre utilizar o nome em snake case (nome_da_variavel e não \"nome da variável\")\n",
    "# colocar nomes de variáveis decentes (evitar \"aux\" \"a\" \"a1\" \"a2\")\n",
    "# tentar colocar os nomes das constantes em maiúsculo (não é obrigatório, mas é uma boa prática)"
   ]
  },
  {
   "cell_type": "code",
   "execution_count": 20,
   "id": "9e50d384-916f-45e4-8e14-dd652c612b60",
   "metadata": {},
   "outputs": [
    {
     "name": "stdout",
     "output_type": "stream",
     "text": [
      "\n",
      " Thomas BrP 26\n",
      "\n",
      "\n",
      "\n",
      "['SP', 'RJ', 'PR', 'SC']\n"
     ]
    }
   ],
   "source": [
    "nome = \"seu nome\"\n",
    "idade = 26\n",
    "\n",
    "nome = \"Thomas BrP\"\n",
    "\n",
    "print(\"\\n\",nome,idade)\n",
    "\n",
    "limite_saque = 1000\n",
    "limiteSaqueDiario = 1000 # Evitar!!!!! Prática ruim\n",
    "limSaqDi = 1000 # Evitar também!!! Prática ruim\n",
    "\n",
    "ESTADOS = [\"SP\",\"RJ\",\"PR\",\"SC\"] # SE TIVER VARIOS NOMES, LEMBRAR DE SNAKE CASE (ESTADOS_BRASIL)\n",
    "print(\"\\n\\n\")\n",
    "print(ESTADOS)"
   ]
  },
  {
   "cell_type": "code",
   "execution_count": 21,
   "id": "c45a516d-9545-4548-a6f5-e4c6f91ca98e",
   "metadata": {},
   "outputs": [],
   "source": [
    "# FINAL DA AULA SOBRE VARIÁVEIS!!!\n",
    "\n",
    "# INÍCIO DA AULA SOBRE CONVERSÃO DE TIPOS"
   ]
  },
  {
   "cell_type": "code",
   "execution_count": 35,
   "id": "931612f8-def6-47f7-9491-1821f6dc499e",
   "metadata": {},
   "outputs": [
    {
     "name": "stdout",
     "output_type": "stream",
     "text": [
      "10\n",
      "10.0\n",
      "5.0\n",
      "5\n",
      "3.3333333333333335\n",
      "3\n",
      "10\n",
      "10\n",
      "idade 26 preco 10\n",
      "preco float: 10.0\n"
     ]
    }
   ],
   "source": [
    "preco = 10\n",
    "print(preco)\n",
    "\n",
    "preco = float(preco)\n",
    "print(preco)\n",
    "\n",
    "preco = 10\n",
    "\n",
    "print(preco/2)\n",
    "print(preco//2)\n",
    "print(preco/3)\n",
    "print(preco//3)\n",
    "\n",
    "print(str(preco))\n",
    "preco = str(preco)\n",
    "print(preco)\n",
    "\n",
    "print(f\"idade {idade} preco {preco}\") #idade foi definido na aula anterior!\n",
    "\n",
    "preco = float(preco)\n",
    "print(f\"preco float: {preco}\")"
   ]
  },
  {
   "cell_type": "code",
   "execution_count": 36,
   "id": "b402e8cd-0d9b-4420-864e-51f06a9f339e",
   "metadata": {},
   "outputs": [
    {
     "name": "stdout",
     "output_type": "stream",
     "text": [
      "1\n",
      "10\n",
      "10.1\n",
      "100.0\n",
      "<class 'int'>\n",
      "<class 'str'>\n",
      "50.0\n",
      "50\n"
     ]
    }
   ],
   "source": [
    "# Exemplos da aula\n",
    "print(int(1.97348728))\n",
    "print(int(\"10\"))\n",
    "print(float(\"10.10\"))\n",
    "print(float(100))\n",
    "\n",
    "valor = 10\n",
    "valor_str = str(valor)\n",
    "print(type(valor))\n",
    "print(type(valor_str))\n",
    "\n",
    "print(100/2)\n",
    "print(100//2)"
   ]
  },
  {
   "cell_type": "code",
   "execution_count": 37,
   "id": "d4304b6a-9c3a-4b24-86c0-b4bd7c2194ad",
   "metadata": {},
   "outputs": [],
   "source": [
    "# final da aula sobre conversão"
   ]
  },
  {
   "cell_type": "code",
   "execution_count": 38,
   "id": "5fe739d2-364d-4f0b-84c3-11e0a6473346",
   "metadata": {},
   "outputs": [],
   "source": [
    "# aula sobre Funções de entrada e saída"
   ]
  },
  {
   "cell_type": "code",
   "execution_count": 50,
   "id": "47796fa5-8f63-44e8-a65e-2bfb7a55196d",
   "metadata": {},
   "outputs": [
    {
     "name": "stdout",
     "output_type": "stream",
     "text": [
      "Informe seu nome:\n"
     ]
    },
    {
     "name": "stdin",
     "output_type": "stream",
     "text": [
      " Thomas BrP\n"
     ]
    },
    {
     "name": "stdout",
     "output_type": "stream",
     "text": [
      "Informe sua idade:\n"
     ]
    },
    {
     "name": "stdin",
     "output_type": "stream",
     "text": [
      " 200\n"
     ]
    },
    {
     "name": "stdout",
     "output_type": "stream",
     "text": [
      "1º print:  Thomas BrP , 200\n",
      "2º print:  Thomas BrP , 200 3º print:  Thomas BrP , 200\n",
      "Teste\n",
      "\n",
      "\n",
      "\n",
      "1º print:  Thomas BrP , 200\n",
      "2º print: |Thomas BrP|,|200\n",
      "3º print: -Thomas BrP-,-200 Teste\n",
      "Teste2\n"
     ]
    }
   ],
   "source": [
    "# input(\"Informe o seu nome: \") # Acho dessa forma feio!\n",
    "\n",
    "print(\"Informe seu nome:\")\n",
    "nome = input()\n",
    "\n",
    "print(\"Informe sua idade:\")\n",
    "idade = input()\n",
    "\n",
    "print(\"1º print: \",nome,\",\",idade)\n",
    "print(\"2º print: \",nome,\",\",idade,end=\" \")\n",
    "print(\"3º print: \",nome,\",\",idade)\n",
    "print(\"Teste\") #o end não fica padrão, se quiser deixar como \" \", tem que colocar em todos os prints \n",
    "\n",
    "print(\"\\n\\n\")\n",
    "print(\"1º print: \",nome,\",\",idade)\n",
    "print(\"2º print: \",nome,\",\",idade,sep=\"|\")\n",
    "print(\"3º print: \",nome,\",\",idade,sep=\"-\",end=\" \")# \"Thom BrP\" é a variável, o espaço não vai ser modificado pelo separador.\n",
    "print(\"Teste\")\n",
    "print(\"Teste2\")"
   ]
  },
  {
   "cell_type": "code",
   "execution_count": 51,
   "id": "fe48bd72-dcfb-493f-939e-d35a0c851f83",
   "metadata": {},
   "outputs": [],
   "source": [
    "# Final da aula \n",
    "# OBS: Senti falta de falar sobre comentários nessa aula introdutória!"
   ]
  },
  {
   "cell_type": "code",
   "execution_count": null,
   "id": "c109ab19-7d69-4a7c-b074-19a55724bc0a",
   "metadata": {},
   "outputs": [],
   "source": []
  }
 ],
 "metadata": {
  "kernelspec": {
   "display_name": "Python 3 (ipykernel)",
   "language": "python",
   "name": "python3"
  },
  "language_info": {
   "codemirror_mode": {
    "name": "ipython",
    "version": 3
   },
   "file_extension": ".py",
   "mimetype": "text/x-python",
   "name": "python",
   "nbconvert_exporter": "python",
   "pygments_lexer": "ipython3",
   "version": "3.12.3"
  }
 },
 "nbformat": 4,
 "nbformat_minor": 5
}
