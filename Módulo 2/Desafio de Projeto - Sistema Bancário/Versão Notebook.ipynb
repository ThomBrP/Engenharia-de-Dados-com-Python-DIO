{
 "cells": [
  {
   "cell_type": "code",
   "execution_count": 6,
   "id": "62086889-7f36-4b95-87ea-075f1aa7afde",
   "metadata": {},
   "outputs": [
    {
     "name": "stdout",
     "output_type": "stream",
     "text": [
      "Seja bem vindo ao Santandesco! Seu saldo inicial é de R$0.00\n",
      "\n",
      "\n",
      "[1] Sacar\n",
      "[2] Depositar\n",
      "[3] Visualizar Saldo\n",
      "[0] Sair\n"
     ]
    },
    {
     "name": "stdin",
     "output_type": "stream",
     "text": [
      "Digite seu comando:  2\n",
      "Digite o valor a depositar: R$ 100\n"
     ]
    },
    {
     "name": "stdout",
     "output_type": "stream",
     "text": [
      "Depósito realizado com sucesso! Saldo atual: R$100.0\n",
      "\n",
      "\n",
      "[1] Sacar\n",
      "[2] Depositar\n",
      "[3] Visualizar Saldo\n",
      "[0] Sair\n"
     ]
    },
    {
     "name": "stdin",
     "output_type": "stream",
     "text": [
      "Digite seu comando:  1\n",
      "Digite o valor a sacar: R$ 50\n"
     ]
    },
    {
     "name": "stdout",
     "output_type": "stream",
     "text": [
      "Valor sacado com sucesso! Saldo atual: R$50.0\n",
      "\n",
      "\n",
      "[1] Sacar\n",
      "[2] Depositar\n",
      "[3] Visualizar Saldo\n",
      "[0] Sair\n"
     ]
    },
    {
     "name": "stdin",
     "output_type": "stream",
     "text": [
      "Digite seu comando:  1\n",
      "Digite o valor a sacar: R$ 25\n"
     ]
    },
    {
     "name": "stdout",
     "output_type": "stream",
     "text": [
      "Valor sacado com sucesso! Saldo atual: R$25.0\n",
      "\n",
      "\n",
      "[1] Sacar\n",
      "[2] Depositar\n",
      "[3] Visualizar Saldo\n",
      "[0] Sair\n"
     ]
    },
    {
     "name": "stdin",
     "output_type": "stream",
     "text": [
      "Digite seu comando:  2\n",
      "Digite o valor a depositar: R$ 15\n"
     ]
    },
    {
     "name": "stdout",
     "output_type": "stream",
     "text": [
      "Depósito realizado com sucesso! Saldo atual: R$40.0\n",
      "\n",
      "\n",
      "[1] Sacar\n",
      "[2] Depositar\n",
      "[3] Visualizar Saldo\n",
      "[0] Sair\n"
     ]
    },
    {
     "name": "stdin",
     "output_type": "stream",
     "text": [
      "Digite seu comando:  3\n"
     ]
    },
    {
     "name": "stdout",
     "output_type": "stream",
     "text": [
      "----- Extrato Santandesco -----\n",
      "|     Saldo atual = R$40.0     |\n",
      "|------------------------------|\n",
      "|    Operação        Valor     |\n",
      "| Depósito          R$100.0    |\n",
      "| Saque             R$50.0     |\n",
      "| Saque             R$25.0     |\n",
      "| Depósito          R$15.0     |\n",
      "-------------------------------\n",
      "\n",
      "\n",
      "[1] Sacar\n",
      "[2] Depositar\n",
      "[3] Visualizar Saldo\n",
      "[0] Sair\n"
     ]
    },
    {
     "name": "stdin",
     "output_type": "stream",
     "text": [
      "Digite seu comando:  2\n",
      "Digite o valor a depositar: R$ 15\n"
     ]
    },
    {
     "name": "stdout",
     "output_type": "stream",
     "text": [
      "Depósito realizado com sucesso! Saldo atual: R$55.0\n",
      "\n",
      "\n",
      "[1] Sacar\n",
      "[2] Depositar\n",
      "[3] Visualizar Saldo\n",
      "[0] Sair\n"
     ]
    },
    {
     "name": "stdin",
     "output_type": "stream",
     "text": [
      "Digite seu comando:  3\n"
     ]
    },
    {
     "name": "stdout",
     "output_type": "stream",
     "text": [
      "----- Extrato Santandesco -----\n",
      "|     Saldo atual = R$55.0     |\n",
      "|------------------------------|\n",
      "|    Operação        Valor     |\n",
      "| Depósito          R$100.0    |\n",
      "| Saque             R$50.0     |\n",
      "| Saque             R$25.0     |\n",
      "| Depósito          R$15.0     |\n",
      "| Depósito          R$15.0     |\n",
      "-------------------------------\n",
      "\n",
      "\n",
      "[1] Sacar\n",
      "[2] Depositar\n",
      "[3] Visualizar Saldo\n",
      "[0] Sair\n"
     ]
    },
    {
     "name": "stdin",
     "output_type": "stream",
     "text": [
      "Digite seu comando:  0\n"
     ]
    },
    {
     "name": "stdout",
     "output_type": "stream",
     "text": [
      "Desligando o sistema!\n"
     ]
    }
   ],
   "source": [
    "def sacar(saldo, extrato):\n",
    "    saque = float(input(\"Digite o valor a sacar: R$\"))\n",
    "    if(saque < 0):\n",
    "        print(\"Impossível sacar um valor negativo! Reiniciando operação\")\n",
    "    elif(saque == 0):\n",
    "        print(f\"Saque de R$0.00 realizado! Saldo atual: R${saldo}\")\n",
    "    elif(saque <= saldo):\n",
    "        print(f\"Valor sacado com sucesso! Saldo atual: R${saldo-saque}\")\n",
    "        extrato.append([\"Saque\", saque])\n",
    "        return saldo-saque\n",
    "    else:\n",
    "        print(\"Valor de saque inválido. Reiniciando operação\")\n",
    "        return saldo\n",
    "\n",
    "def depositar(saldo, extrato):\n",
    "    deposito = float(input(\"Digite o valor a depositar: R$\"))\n",
    "    if(deposito<0):\n",
    "        print(\"Valor inválido, favor inserir um valor positivo\")\n",
    "        return saldo\n",
    "    elif(deposito == 0):\n",
    "        print(f\"Depósito de R$0.00 realizado com sucesso, saldo atual: R${saldo}\")\n",
    "        extrato.append([\"Depósito\", deposito])\n",
    "        return saldo\n",
    "    else:\n",
    "        print(f\"Depósito realizado com sucesso! Saldo atual: R${saldo+deposito}\")\n",
    "        extrato.append([\"Depósito\", deposito])\n",
    "        return saldo + deposito\n",
    "\n",
    "def insere_espacos_direita(string,quantidade):\n",
    "    if(len(string) >= quantidade):\n",
    "        return string\n",
    "    else:\n",
    "        while(len(string) < quantidade):\n",
    "            string += \" \" \n",
    "        return string\n",
    "\n",
    "def mostra_extrato(saldo, extrato):\n",
    "    print(\" Extrato Santandesco \".center(31,\"-\"))\n",
    "    print(\"|\"+ (\"Saldo atual = R$\" + str(saldo)).center(30,\" \") + \"|\")\n",
    "    print(\"|\" + \"-\".center(30,\"-\") + \"|\")\n",
    "    print(\"|\" + \"Operação\".center(15,\" \"),end=\"\")\n",
    "    print(\"Valor\".center(15,\" \") + \"|\")\n",
    "    for operacao, valor in extrato:\n",
    "        print(\"| \" + insere_espacos_direita(operacao, 18) + \"R$\" + insere_espacos_direita(str(valor),9) + \"|\")\n",
    "    print(\"-\".center(31,\"-\"))\n",
    "    \n",
    "\n",
    "def main():\n",
    "    entrada = -1\n",
    "    saldo = 0.0\n",
    "    extrato = []\n",
    "    print(\"Seja bem vindo ao Santandesco! Seu saldo inicial é de R$0.00\")\n",
    "    while(entrada!=0):\n",
    "        print(\"\\n\")\n",
    "        print(\"[1] Sacar\\n[2] Depositar\\n[3] Visualizar Saldo\\n[0] Sair\")\n",
    "        entrada = int(input(\"Digite seu comando: \"))\n",
    "        \n",
    "        if(entrada == 1):\n",
    "            saldo = sacar(saldo, extrato)\n",
    "        elif(entrada == 2):\n",
    "            saldo = depositar(saldo, extrato)\n",
    "        elif(entrada == 3):\n",
    "            mostra_extrato(saldo, extrato)\n",
    "        elif(entrada == 0):\n",
    "            print(\"Desligando o sistema!\")\n",
    "        else:\n",
    "            print(\"Favor inserir uma entrada válida!\")\n",
    "\n",
    "main()"
   ]
  },
  {
   "cell_type": "code",
   "execution_count": null,
   "id": "10d8d77a-e1ab-41a9-82a5-3d79f4bd2749",
   "metadata": {},
   "outputs": [],
   "source": []
  }
 ],
 "metadata": {
  "kernelspec": {
   "display_name": "Python 3 (ipykernel)",
   "language": "python",
   "name": "python3"
  },
  "language_info": {
   "codemirror_mode": {
    "name": "ipython",
    "version": 3
   },
   "file_extension": ".py",
   "mimetype": "text/x-python",
   "name": "python",
   "nbconvert_exporter": "python",
   "pygments_lexer": "ipython3",
   "version": "3.12.3"
  }
 },
 "nbformat": 4,
 "nbformat_minor": 5
}
