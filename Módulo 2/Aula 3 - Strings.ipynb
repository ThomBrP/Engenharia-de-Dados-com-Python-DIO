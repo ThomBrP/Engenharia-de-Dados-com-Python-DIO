{
 "cells": [
  {
   "cell_type": "code",
   "execution_count": 3,
   "id": "24061063-3d61-4655-b4c8-fcf9a44bc718",
   "metadata": {},
   "outputs": [],
   "source": [
    "# Início da aula 3 do módulo 2\n",
    "# Strings"
   ]
  },
  {
   "cell_type": "code",
   "execution_count": 16,
   "id": "e1ad685d-2d66-4b0c-8841-2f0a2ab14414",
   "metadata": {},
   "outputs": [
    {
     "name": "stdout",
     "output_type": "stream",
     "text": [
      "PYTHON\n",
      "python\n",
      "Python\n",
      "Python\n",
      "Python  \n",
      "  Python\n",
      "##Python#\n",
      "P.y.t.h.o.n\n",
      ".Python.Python.\n"
     ]
    }
   ],
   "source": [
    "# Conhecendo métodos úteis!!\n",
    "curso = \"PytHOn\"\n",
    "\n",
    "print(curso.upper()) # Maiúscula\n",
    "print(curso.lower()) # Minúscula\n",
    "print(curso.title()) # 1ª Maiúscula\n",
    "\n",
    "curso = \"  Python  \"\n",
    "\n",
    "print(curso.strip()) #Tira espaços direita e esquerda\n",
    "print(curso.lstrip()) #Tira espaços da esquerda apenas\n",
    "print(curso.rstrip()) # Tira espaços da direita apenas\n",
    "\n",
    "curso = \"Python\"\n",
    "\n",
    "print(curso.center(9,\"#\")) # Centraliza a variável curso em 10 caracteres com o # (Cuidar com nº ímpar de char)\n",
    "print(\".\".join(curso)) # Coloca um \".\" entre cada letra\n",
    "print(curso.join(\"...\")) # Coloca um curso entre cada 2 pontos\n",
    "\n",
    "#Fim da aula sobre métodos"
   ]
  },
  {
   "cell_type": "code",
   "execution_count": 25,
   "id": "3656905c-15d5-4082-890f-0ca7367aaebc",
   "metadata": {},
   "outputs": [
    {
     "name": "stdout",
     "output_type": "stream",
     "text": [
      "Olá, eu sou Thom, tenho 26 anos e trabalho como Analista de Dados. Estou desenvolvendo esse código na linguagem Python.\n",
      "Olá, eu sou Thom, tenho  26 anos e trabalho como Analista de Dados. Estou desenvolvendo esse código na linguagem Python.\n",
      "Olá, eu sou Python, tenho  Analista de Dados anos e trabalho como 26. Estou desenvolvendo esse código na linguagem Thom.\n",
      "Olá, eu sou Thom, tenho  26 anos e trabalho como Analista de Dados. Estou desenvolvendo esse código na linguagem Python.\n",
      "Olá, eu sou Thom, tenho 26 anos e trabalho como Analista de Dados. Estou desenvolvendo esse código na linguagem Python.\n",
      "Valor de PI: 3.14\n",
      "Valor de PI:       3.14\n"
     ]
    }
   ],
   "source": [
    "#Interpolação de Variáveis\n",
    "# Interpolação é colocar as variáveis junto (?)\n",
    "# Exemplo:\n",
    "\n",
    "nome = \"Thom\"\n",
    "idade = 26\n",
    "profissao = \"Analista de Dados\"\n",
    "linguagem = \"Python\"\n",
    "\n",
    "print(\"Olá, eu sou %s, tenho %i anos e trabalho como %s. Estou desenvolvendo esse código na linguagem %s.\" \n",
    "      % (nome, idade, profissao, linguagem)) # a ordem das variáveis altera o produto\n",
    "\n",
    "print(\"Olá, eu sou {}, tenho  {} anos e trabalho como {}. Estou desenvolvendo esse código na linguagem {}.\"\n",
    "      .format(nome, idade, profissao, linguagem))\n",
    "\n",
    "print(\"Olá, eu sou {3}, tenho  {2} anos e trabalho como {1}. Estou desenvolvendo esse código na linguagem {0}.\"\n",
    "      .format(nome, idade, profissao, linguagem))\n",
    "\n",
    "print(\"Olá, eu sou {nom}, tenho  {idade} anos e trabalho como {profissao}. Estou desenvolvendo esse código na linguagem {linguagem}.\"\n",
    "      .format(nom=nome, idade=idade, profissao=profissao, linguagem=linguagem))\n",
    "\n",
    "\n",
    "print(f\"Olá, eu sou {nome}, tenho {idade} anos e trabalho como {profissao}. Estou desenvolvendo esse código na linguagem {linguagem}.\")\n",
    "\n",
    "PI = 3.14159\n",
    "print(f\"Valor de PI: {PI:.2f}\")\n",
    "\n",
    "print(f\"Valor de PI: {PI:10.2f}\")"
   ]
  },
  {
   "cell_type": "code",
   "execution_count": 26,
   "id": "71b6b179-026a-4b27-99d1-81f6ddbf5a39",
   "metadata": {},
   "outputs": [],
   "source": [
    "# Fim da aula de interpolação de variáveis"
   ]
  },
  {
   "cell_type": "code",
   "execution_count": 32,
   "id": "54fc9b42-fb76-4eda-a0d7-8091a2effbe8",
   "metadata": {},
   "outputs": [
    {
     "name": "stdout",
     "output_type": "stream",
     "text": [
      "E\n",
      "Esse é um\n",
      "texto de teste\n",
      "txo\n",
      "Esse é um texto de teste\n",
      "etset ed otxet mu é essE\n"
     ]
    }
   ],
   "source": [
    "# Início da aula de Fatiamento de string (substring)\n",
    "variavel = \"Esse é um texto de teste\"\n",
    "  #         0123456789             23\n",
    "\n",
    "print(variavel[0]) #Primeira Letra\n",
    "print(variavel[:9]) #Até a 9ª index\n",
    "print(variavel[10:]) #Pega os 10 últimos index\n",
    "print(variavel[10:16:2]) #pega dentro daqueles index, a cada 2 carcteres\n",
    "print(variavel[:]) # Pega toda a string\n",
    "print(variavel[::-1]) #Espelha a string\n",
    "\n",
    "# OBS: A regra do index de for segue aqui, ou seja [10:16:2] não pega o 16\n",
    "# Se eu quisesse que pegasse o \"d\" do \"de teste\", teria que colocar [10:17:2]"
   ]
  },
  {
   "cell_type": "code",
   "execution_count": 33,
   "id": "05de197c-004e-4fd3-94a0-a5b9b2ba1eb8",
   "metadata": {},
   "outputs": [],
   "source": [
    "#Fim da aula sobre fatiamento de string\n",
    "#Inicio da aula de string de múltiplas linhas"
   ]
  },
  {
   "cell_type": "code",
   "execution_count": 40,
   "id": "67e81968-fe6d-4b69-b447-ad9ddc8c7fa9",
   "metadata": {},
   "outputs": [
    {
     "name": "stdout",
     "output_type": "stream",
     "text": [
      "\n",
      "  Olá, meu nome é Thom\n",
      "      Eu estou testando códigos\n",
      "      Lembrando que ele formata na identação que eu colocar\n",
      " agora vou testar como é o print aqui\n",
      "|\n",
      "\n",
      "\n",
      " Para fazer mensagens de múltiplas linhas\n",
      "basta colocar três aspas (simples ou duplas)\n",
      "   para fechar também basta fechar com três aspas \n",
      "\n",
      "\n",
      " Para fazer mensagens de múltiplas linhas\n",
      "basta colocar três aspas (simples ou duplas)\n",
      "   para fechar também basta fechar com três aspas \n"
     ]
    }
   ],
   "source": [
    "nome = \"Thom\"\n",
    "\n",
    "mensagem = f\"\"\"\n",
    "  Olá, meu nome é {nome}\n",
    "      Eu estou testando códigos\n",
    "      Lembrando que ele formata na identação que eu colocar\n",
    " agora vou testar como é o print aqui\n",
    "|\n",
    "\"\"\" # o \"enter\" entre a última linha (|) e a linha que fechei a variável faz diferença!!!!\n",
    "#Apesar de ficar mais bonito assim, faz diferença no produto\n",
    "print(mensagem)\n",
    "\n",
    "mensagem_2 = \"\"\"\n",
    " Para fazer mensagens de múltiplas linhas\n",
    "basta colocar três aspas (simples ou duplas)\n",
    "   para fechar também basta fechar com três aspas \"\"\" #Tomar cuidado com onde fecha a variável\n",
    "\n",
    "\n",
    "\n",
    "mensagem_equivalente = \" Para fazer mensagens de múltiplas linhas\\nbasta colocar três aspas (simples ou duplas)\\n   para fechar também basta fechar com três aspas \"\n",
    "print(mensagem_2)\n",
    "print(\"\\n\")\n",
    "print(mensagem_equivalente)"
   ]
  },
  {
   "cell_type": "code",
   "execution_count": 41,
   "id": "9429059b-11a1-4c8f-853b-7ea750f08c8d",
   "metadata": {},
   "outputs": [],
   "source": [
    "#Fim da aula sobre string de múltiplas linhas"
   ]
  },
  {
   "cell_type": "code",
   "execution_count": null,
   "id": "cd804bd0-04f5-4a08-b45c-58fa5605e384",
   "metadata": {},
   "outputs": [],
   "source": []
  }
 ],
 "metadata": {
  "kernelspec": {
   "display_name": "Python 3 (ipykernel)",
   "language": "python",
   "name": "python3"
  },
  "language_info": {
   "codemirror_mode": {
    "name": "ipython",
    "version": 3
   },
   "file_extension": ".py",
   "mimetype": "text/x-python",
   "name": "python",
   "nbconvert_exporter": "python",
   "pygments_lexer": "ipython3",
   "version": "3.12.3"
  }
 },
 "nbformat": 4,
 "nbformat_minor": 5
}
