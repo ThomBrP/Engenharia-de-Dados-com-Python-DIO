{
 "cells": [
  {
   "cell_type": "code",
   "execution_count": 1,
   "id": "67471df0-0a5b-49ea-916d-5af5e2c1374f",
   "metadata": {},
   "outputs": [],
   "source": [
    "#Início da aula 4 sobre funções em python!"
   ]
  },
  {
   "cell_type": "code",
   "execution_count": 8,
   "id": "0e3b87a4-c262-420a-aa51-64ea2b264f5f",
   "metadata": {},
   "outputs": [
    {
     "name": "stdout",
     "output_type": "stream",
     "text": [
      "Olá Mundo!\n",
      "Seja bem vindo Thom!\n",
      "Seja bem vindo Thom!\n",
      "Seja bem vindo Anônimo!\n"
     ]
    }
   ],
   "source": [
    "#Funções são blocos de código que você pode chamar ele posteriormente\n",
    "# o Nome da função é um identificador\n",
    "# a função pode (ou não) possuir parâmetros (variáveis de entrada)\n",
    "# a função pode (ou não) retornar parâmetros (variáveis de saída). \n",
    "# Porém se não retornar nada, ele retorna None obrigatoriamente\n",
    "# None = nulo do python\n",
    "\n",
    "def exibir_mensagem():\n",
    "    print(\"Olá Mundo!\")\n",
    "\n",
    "def exibir_mensagem_2(nome):\n",
    "    print(f\"Seja bem vindo {nome}!\")\n",
    "\n",
    "def exibir_mensagem_3(nome=\"Anônimo\"):# O padrão é \"Anônimo\" mas se tiver uma outra entrada, vai substituir\n",
    "    print(f\"Seja bem vindo {nome}!\")\n",
    "\n",
    "exibir_mensagem()\n",
    "exibir_mensagem_2(\"Thom\")\n",
    "# exibir_mensagem_2() #Isso dá erro!!!\n",
    "exibir_mensagem_3(\"Thom\")\n",
    "exibir_mensagem_3() # Isso não dá erro!!!"
   ]
  },
  {
   "cell_type": "code",
   "execution_count": 13,
   "id": "02677a23-f902-4cce-a3e8-fe4d95105f8c",
   "metadata": {},
   "outputs": [
    {
     "name": "stdout",
     "output_type": "stream",
     "text": [
      "15\n",
      "(2, 4)\n",
      "None\n"
     ]
    }
   ],
   "source": [
    "def calcular_total(numeros):\n",
    "    return sum(numeros)\n",
    "\n",
    "def antecessor_e_sucessor(numero): #vários retornos\n",
    "    antecessor = numero - 1\n",
    "    sucessor = numero + 1\n",
    "    return antecessor, sucessor\n",
    "\n",
    "def func3():\n",
    "    print(\"\",end=\"\")\n",
    "\n",
    "print(calcular_total([1,2,3,4,5]))\n",
    "print(antecessor_e_sucessor(3))\n",
    "print(func3())"
   ]
  },
  {
   "cell_type": "code",
   "execution_count": 14,
   "id": "e3b8ae10-63e0-4d61-b4ad-ca690712ac60",
   "metadata": {},
   "outputs": [
    {
     "name": "stdout",
     "output_type": "stream",
     "text": [
      "Carro inserido com sucesso! Fiat/Palio/1998/ABC-1234\n",
      "Carro inserido com sucesso! Fiat/Palio/1999/ABC-1234\n",
      "Carro inserido com sucesso! Fiat/Palio/1999/ABC-1234\n"
     ]
    }
   ],
   "source": [
    "def salvar_carro(marca, modelo, ano, placa):\n",
    "    print(f\"Carro inserido com sucesso! {marca}/{modelo}/{ano}/{placa}\")\n",
    "\n",
    "salvar_carro(\"Fiat\", \"Palio\", 1998, \"ABC-1234\")\n",
    "salvar_carro(marca = \"Fiat\", modelo = \"Palio\", ano = 1999, placa = \"ABC-1234\")\n",
    "salvar_carro(**{\"marca\": \"Fiat\", \"modelo\": \"Palio\", \"ano\": 1999, \"placa\": \"ABC-1234\"}) # Isso é baseado em JSON?"
   ]
  },
  {
   "cell_type": "code",
   "execution_count": 28,
   "id": "0b67562c-cee7-420c-a5cd-ae9e35e8f29b",
   "metadata": {},
   "outputs": [
    {
     "name": "stdout",
     "output_type": "stream",
     "text": [
      "29/09/2024\n",
      "\n",
      "Zen of Python\n",
      "Beautiful is better than ugly.\n",
      "Teste de Poema\n",
      "\n",
      "Autor: Tim Peters\n",
      "Ano: 1909\n",
      "Teste: teste\n"
     ]
    }
   ],
   "source": [
    "# *args e **kwargs\n",
    "# *args = tupla\n",
    "# **kwargs = dicionário \n",
    "\n",
    "#Recebe a variável data, recebe vários parâmetros separados por vírgula e alguns por dicionário\n",
    "def exibir_poema(data_extenso, *args, **kwargs):\n",
    "    # Separa todo o texto que vem dos parâmetros comuns (exceto a variável data que foi definida)\n",
    "    texto = \"\\n\".join(args)\n",
    "\n",
    "    # Para cada argumento em kwargs, separa a chave e o valor (OBS: chave = nome da variável, valor = valor (parecido com json JSON))\n",
    "    meta_dados = \"\\n\".join([f\"{chave.title()}: {valor}\" for chave, valor in kwargs.items()])\n",
    "\n",
    "    # Concatena a mensagem em uma variável\n",
    "    mensagem = f\"{data_extenso}\\n\\n{texto}\\n\\n{meta_dados}\"\n",
    "    print(mensagem)\n",
    "\n",
    "exibir_poema(\"29/09/2024\", # data_extenso\n",
    "             \"Zen of Python\", \"Beautiful is better than ugly.\", \"Teste de Poema\", # args\n",
    "             autor =  \"Tim Peters\", ano = 1909, Teste = \"teste\" # kwargs\n",
    "             #, \"Se eu colocar mais um parâmetro não sendo dicionário\") #Dá erro!\n",
    "            )"
   ]
  },
  {
   "cell_type": "code",
   "execution_count": 40,
   "id": "f0cb51cb-c20c-4069-a0a0-eac09aeebc6c",
   "metadata": {},
   "outputs": [
    {
     "name": "stdout",
     "output_type": "stream",
     "text": [
      "Palio 1999 ABC-1234 Fiat 1.0 Gasolina\n",
      "Palio 1999 ABC-1234 Fiat 1.0 Gasolina\n",
      "palio 1999 abc-1234 fiat 1.0 gasolina\n",
      "palio 1999 abc-1234 fiat 1.0 gasolina\n"
     ]
    }
   ],
   "source": [
    "#Parte 2 da aula - parâmetros especiais\n",
    "#Args e kwargs não são parâmetros especiais???\n",
    "\n",
    "\n",
    "# Parâmetro comum = \"Palio\", 1999, \"abc-1234\"\n",
    "# Parâmetro Nomeado = modelo = \"palio\", ano = 1999, placa = \"abc-1234\"\n",
    "# Parâmetro dicionário = \"modelo\": \"palio\", \"ano\": 1999, \"placa\": \"abc-1234\"\n",
    "\n",
    "\n",
    "def criar_carro(modelo, ano, placa, /, marca, motor, combustivel):\n",
    "    print(modelo, ano, placa, marca, motor, combustivel)\n",
    "\n",
    "# A / define como obrigatório que os argumentos anteriores sejam passados em formato comum até ela\n",
    "# Depois dela, pode ser padrão ou nomeado\n",
    "criar_carro(\"Palio\", 1999, \"ABC-1234\", \"Fiat\", 1.0, \"Gasolina\") #Padrão\n",
    "criar_carro(\"Palio\", 1999, \"ABC-1234\", marca = \"Fiat\", motor = 1.0, combustivel = \"Gasolina\") #Nomeado\n",
    "#criar_carro(\"Palio\", 1999, \"ABC-1234\", marca = \"Fiat\", motor = 1.0, \"combustivel\": \"Gasolina\") #Inválido (por hora)\n",
    "\n",
    "\n",
    "def criar_carro2(*, modelo, ano, placa, marca, motor, combustivel): # aceita apenas por nome\n",
    "    print(modelo, ano, placa, marca, motor, combustivel)\n",
    "\n",
    "criar_carro2(modelo = \"palio\", ano = 1999, placa = \"abc-1234\", marca=\"fiat\", motor = 1.0, combustivel = \"gasolina\")\n",
    "\n",
    "\n",
    "def criar_carro3(modelo, ano, placa, /, *, marca, motor, combustivel):\n",
    "    print(modelo, ano, placa, marca, motor, combustivel)\n",
    "\n",
    "\n",
    "criar_carro3(\"palio\", 1999, \"abc-1234\", marca = \"fiat\", motor = 1.0, combustivel = \"gasolina\")\n",
    "#se os 3 primeiros argumentos forem nomeados, vai dar erro!\n",
    "#criar_carro3(modelo = \"palio\", ano = 1999, placa = \"abc-1234\", marca = \"fiat\", motor = 1.0, combustivel = \"gasolina\")\n"
   ]
  },
  {
   "cell_type": "code",
   "execution_count": 48,
   "id": "c4d6c7dd-6a62-4888-bd99-4a2e8c2306b8",
   "metadata": {},
   "outputs": [
    {
     "name": "stdout",
     "output_type": "stream",
     "text": [
      "O resultado da operação com os argumentos 1 e 2 = 3\n",
      "O resultado da operação com os argumentos 2 e 4 = 8\n",
      "O resultado da operação com os argumentos 2 e 4 = -2\n",
      "O resultado da operação com os argumentos 4 e 2 = 2.0\n"
     ]
    }
   ],
   "source": [
    "#Objetos de primeira classe\n",
    "# São objetos que podem atribuir funções, passar como parâmetros, usar como valor ou retornar\n",
    "# ex: string, int, float, funções!\n",
    "\n",
    "def somar(a, b):\n",
    "    return a+b\n",
    "\n",
    "def subtrair(a,b):\n",
    "    return a-b\n",
    "\n",
    "def multiplicar(a, b):\n",
    "    return a*b\n",
    "\n",
    "def dividir(a,b):\n",
    "    return a/b\n",
    "\n",
    "def exibir_resultado(x, y, funcao):# Função é um objeto de primeira classe!\n",
    "    print(f\"O resultado da operação com os argumentos {x} e {y} = {funcao(x, y)}\")\n",
    "\n",
    "exibir_resultado(1,2,somar)# Quando coloca a função sem o (), você retorna ela como variável\n",
    "exibir_resultado(2,4,multiplicar) #se você coloca o (), você está chamando a função.\n",
    "exibir_resultado(2,4,subtrair) #\n",
    "exibir_resultado(4,2,dividir) # Lembrando q divisão por 0 dá ruim!!"
   ]
  },
  {
   "cell_type": "code",
   "execution_count": 58,
   "id": "bf2346f1-09cf-4bea-832e-c3ece71108a7",
   "metadata": {},
   "outputs": [
    {
     "name": "stdout",
     "output_type": "stream",
     "text": [
      "2500\n",
      "lista aux = [1, 4, 2]\n",
      "3000\n",
      "[1, 4]\n",
      "700\n",
      "500\n"
     ]
    }
   ],
   "source": [
    "# Escopo Local e Escopo Global!\n",
    "# global = escopo global\n",
    "\n",
    "salario = 2000\n",
    "\n",
    "def salario_bonus(bonus):\n",
    "    global salario # você meio que define a variável que está no escopo global, mas para usar aqui!\n",
    "    salario += bonus # alterar variáveis globais não é bacana\n",
    "    return salario\n",
    "\n",
    "def salario_bonus2(bonus, lista):\n",
    "    global salario\n",
    "\n",
    "    lista_aux = lista.copy()\n",
    "    lista_aux.append(2)\n",
    "    \n",
    "    # lista.append(2)# Coloca na lista original, não fazer\n",
    "    # Isso acontece, pq a nível de sistema, uma lista é um ponteiro para um endereço de memória\n",
    "    # Se você não copia, você ta alterando o valor naquele endereço de memória!\n",
    "    # Pelo menos é assim que acontece em outras linguagens!\n",
    "    # mas o Python tá se comportando dessa forma também\n",
    "    \n",
    "    print(f\"lista aux = {lista_aux}\")\n",
    "\n",
    "    salario += bonus\n",
    "    return salario\n",
    "\n",
    "def salario_bonus3(salario,bonus):\n",
    "    salario += bonus #Essa questão de adicionar na original não funciona se não for global\n",
    "    return salario\n",
    "\n",
    "\n",
    "lista = [1,4]\n",
    "salario_original = 500\n",
    "print(salario_bonus(500))\n",
    "\n",
    "#nesse caso, estou passando lista\n",
    "print(salario_bonus2(500,lista))\n",
    "print(lista)\n",
    "\n",
    "#nesse caso, estou passando variável.\n",
    "print(salario_bonus3(salario_original,200))\n",
    "print(salario_original)"
   ]
  },
  {
   "cell_type": "code",
   "execution_count": 59,
   "id": "25b9f5bc-eee3-4aef-b8ad-c610391e4875",
   "metadata": {},
   "outputs": [],
   "source": [
    "# Fim da aula sobre funções!"
   ]
  },
  {
   "cell_type": "code",
   "execution_count": 63,
   "id": "66337ab3-6aa1-45d2-bbf6-e88a5433c3fa",
   "metadata": {},
   "outputs": [
    {
     "name": "stdout",
     "output_type": "stream",
     "text": [
      "Args = ('Python', 2022)\n",
      "kw = {'curso': 'dio'}\n"
     ]
    }
   ],
   "source": [
    "# OBS da atividade:\n",
    "def funcao(*args, **kw):\n",
    "    print(\"Args = \" + str(args)) #Se não converter, dá erro!!!!!!\n",
    "    print(\"kw = \" + str(kw))\n",
    "\n",
    "funcao(\"Python\",2022, curso = \"dio\")"
   ]
  },
  {
   "cell_type": "code",
   "execution_count": null,
   "id": "6093837b-2321-4590-bc02-9053f3e843c8",
   "metadata": {},
   "outputs": [],
   "source": []
  }
 ],
 "metadata": {
  "kernelspec": {
   "display_name": "Python 3 (ipykernel)",
   "language": "python",
   "name": "python3"
  },
  "language_info": {
   "codemirror_mode": {
    "name": "ipython",
    "version": 3
   },
   "file_extension": ".py",
   "mimetype": "text/x-python",
   "name": "python",
   "nbconvert_exporter": "python",
   "pygments_lexer": "ipython3",
   "version": "3.12.3"
  }
 },
 "nbformat": 4,
 "nbformat_minor": 5
}
