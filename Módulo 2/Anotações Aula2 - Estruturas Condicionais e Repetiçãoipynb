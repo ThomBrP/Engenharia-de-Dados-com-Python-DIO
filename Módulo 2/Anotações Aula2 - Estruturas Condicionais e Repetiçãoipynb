{
 "cells": [
  {
   "cell_type": "code",
   "execution_count": 1,
   "id": "4cb0f9db-bc5c-4536-bab7-240212a9d758",
   "metadata": {},
   "outputs": [],
   "source": [
    "# Início aula 1 - Identação e blocos\n",
    "# Identação em Python!!!!\n",
    "# Um ponto bem interessante e que difere python das outras linguagens\n",
    "# Python não precisa necessariamente de ; no final de cada linha\n",
    "# (é possível fazer um software inteiro em 1 linha de código em outras linguagens com essa questão do ;)\n",
    "# Porém ele se organiza por \"\\n\" é o equivalente ao ; no final\n",
    "# Ou seja, se tiver na mesma linha, ele interpreta de uma forma\n",
    "# enquanto se tiver na outra ele interpreta diferente\n",
    "\n",
    "# Outro ponto importante é a identação\n",
    "# Por exemplo IFs e FOR\n",
    "# tudo que tiver identado depois do if, o python considera que faz parte \n",
    "# e funciona da mesma forma no for!!"
   ]
  },
  {
   "cell_type": "code",
   "execution_count": 14,
   "id": "aff5082d-be14-4ec6-a488-53f407714abc",
   "metadata": {},
   "outputs": [
    {
     "name": "stdout",
     "output_type": "stream",
     "text": [
      "Saldo insuficiente para realizar operação!\n",
      "Finalizando operação!\n",
      "Valor sacado, saldo final: 400\n",
      "Finalizando operação!\n",
      "Saldo adicionado, saldo final: 1000. Finalizando operação!\n"
     ]
    }
   ],
   "source": [
    "# Um detalhe sobre essa aula é que cada aula é de 30min\n",
    "# pode ser preferência pessoal, mas pequenos vídeos falando sobre algumas coisas me parece melhor\n",
    "\n",
    "def sacar(valor):\n",
    "    saldo = 500\n",
    "\n",
    "    if saldo >= valor:\n",
    "        saldo -= valor\n",
    "        print(f\"Valor sacado, saldo final: {saldo}\")\n",
    "    else:\n",
    "        print(\"Saldo insuficiente para realizar operação!\")\n",
    "    print(\"Finalizando operação!\")\n",
    "\n",
    "def depositar(valor):\n",
    "    saldo = 500\n",
    "    saldo +=valor\n",
    "    print(f\"Saldo adicionado, saldo final: {saldo}. Finalizando operação!\")\n",
    "\n",
    "sacar(600)\n",
    "sacar(100)\n",
    "depositar(500)"
   ]
  },
  {
   "cell_type": "code",
   "execution_count": 15,
   "id": "1bfa224e-fdac-40f5-989e-f03d5fdfc15b",
   "metadata": {},
   "outputs": [],
   "source": [
    "#Final da aula sobre identação e blocos"
   ]
  },
  {
   "cell_type": "code",
   "execution_count": 16,
   "id": "4db52b60-34ef-4fa7-9673-894e703cc6eb",
   "metadata": {},
   "outputs": [],
   "source": [
    "# Início da aula sobre estruturas condicionais"
   ]
  },
  {
   "cell_type": "code",
   "execution_count": 17,
   "id": "00f0ea2a-8e2c-4ade-a222-4133a55a842d",
   "metadata": {},
   "outputs": [],
   "source": [
    "#Estruturas condicionais (if, else, elif)\n",
    "# if aninhado\n",
    "# if ternário (?)"
   ]
  },
  {
   "cell_type": "code",
   "execution_count": 23,
   "id": "b4d176a1-c134-4925-bd2b-21d7760e382d",
   "metadata": {},
   "outputs": [
    {
     "name": "stdout",
     "output_type": "stream",
     "text": [
      "Saque realizado, saldo final: 1699.5\n",
      "\n",
      "\n",
      "Saque realizado, saldo final: 1399.0\n",
      "\n",
      "\n"
     ]
    }
   ],
   "source": [
    "saldo = 2000.0\n",
    "saque = 300.5\n",
    "\n",
    "if (saldo >= saque):\n",
    "    saldo -= saque\n",
    "    print(f\"Saque realizado, saldo final: {saldo}\")\n",
    "\n",
    "if (saldo < saque): # dá de usar elif e else!\n",
    "    print(\"Saldo insuficiente para realizar operação!\")\n",
    "\n",
    "print(\"\\n\")\n",
    "#------------------------------------\n",
    "if (saldo >= saque):\n",
    "    saldo -= saque\n",
    "    print(f\"Saque realizado, saldo final: {saldo}\")\n",
    "else:\n",
    "    print(\"Saldo insuficiente para realizar operação!\")\n",
    "\n",
    "print(\"\\n\")\n",
    "#------------------------------------\n"
   ]
  },
  {
   "cell_type": "code",
   "execution_count": 30,
   "id": "60c58936-d8d8-4fb3-b4e6-f15771c33706",
   "metadata": {},
   "outputs": [
    {
     "name": "stdin",
     "output_type": "stream",
     "text": [
      "Informe a idade:  18\n",
      "Possui liberação especial? (y/n)  y\n"
     ]
    },
    {
     "name": "stdout",
     "output_type": "stream",
     "text": [
      "\n",
      "\n",
      "Maior de idade, pode tirar a CNH\n",
      "\n",
      "\n",
      "Maior de idade, pode tirar a CNH\n",
      "\n",
      "\n",
      "Maior de idade, pode tirar a CNH\n"
     ]
    }
   ],
   "source": [
    "MAIOR_IDADE = 18\n",
    "\n",
    "idade = int(input(\"Informe a idade: \"))\n",
    "liberado = input(\"Possui liberação especial? (y/n) \")\n",
    "print(\"\\n\")\n",
    "\n",
    "#--------------------\n",
    "if idade >= MAIOR_IDADE:\n",
    "    print(\"Maior de idade, pode tirar a CNH\")\n",
    "if idade < MAIOR_IDADE:\n",
    "    print(\"Ainda não pode tirar a CNH\")\n",
    "\n",
    "print(\"\\n\")\n",
    "#------------------\n",
    "\n",
    "if idade >= MAIOR_IDADE:\n",
    "    print(\"Maior de idade, pode tirar a CNH\")\n",
    "else:\n",
    "    print(\"Ainda não pode tirar a CNH\")\n",
    "\n",
    "print(\"\\n\")\n",
    "#------------------\n",
    "\n",
    "if idade >= MAIOR_IDADE:\n",
    "    print(\"Maior de idade, pode tirar a CNH\")\n",
    "elif liberado == \"y\":\n",
    "    print(\"Menor de idade, mas possui liberação especial, pode tirar a CNH\")\n",
    "else:\n",
    "    print(\"Ainda não pode tirar a CNH\")\n"
   ]
  },
  {
   "cell_type": "code",
   "execution_count": 34,
   "id": "72478e61-15fe-4b0f-80de-1d37c3640be4",
   "metadata": {},
   "outputs": [
    {
     "name": "stdin",
     "output_type": "stream",
     "text": [
      "Informe a idade:  17\n"
     ]
    },
    {
     "name": "stdout",
     "output_type": "stream",
     "text": [
      "\n",
      "\n"
     ]
    },
    {
     "name": "stdin",
     "output_type": "stream",
     "text": [
      "Possui liberação especial? (y/n)  y\n"
     ]
    },
    {
     "name": "stdout",
     "output_type": "stream",
     "text": [
      "Menor de idade, mas possui liberação especial, pode tirar a CNH\n",
      "\n",
      "\n"
     ]
    }
   ],
   "source": [
    "#If alinhado\n",
    "MAIOR_IDADE = 18\n",
    "\n",
    "idade = int(input(\"Informe a idade: \"))\n",
    "print(\"\\n\")\n",
    "\n",
    "if idade >= MAIOR_IDADE:\n",
    "    print(\"Maior de idade, pode tirar a CNH\")\n",
    "else:\n",
    "    liberado = input(\"Possui liberação especial? (y/n) \") # Mais bonito, pq nao pergunta se tem se for maior de idade\n",
    "    if liberado == \"y\":\n",
    "        print(\"Menor de idade, mas possui liberação especial, pode tirar a CNH\")\n",
    "    else:\n",
    "        print(\"Ainda não pode tirar a CNH\")\n",
    "\n",
    "print(\"\\n\")\n",
    "#------------------------"
   ]
  },
  {
   "cell_type": "code",
   "execution_count": 37,
   "id": "996a1acb-b45c-4042-a323-ba007db0e64f",
   "metadata": {},
   "outputs": [
    {
     "name": "stdout",
     "output_type": "stream",
     "text": [
      "Conta não encontrada\n"
     ]
    }
   ],
   "source": [
    "conta_normal = False\n",
    "conta_universitaria = False\n",
    "\n",
    "saldo = 2000\n",
    "saque = 2500\n",
    "cheque_especial = 600\n",
    "\n",
    "if conta_normal:\n",
    "    if saldo>= saque:\n",
    "        print(\"Saque realizado!\")\n",
    "    elif saque <= (saldo + cheque_especial):\n",
    "        print(\"Saque realizado com o uso do cheque especial!\")\n",
    "    else:\n",
    "        print(\"Saldo insuficiente, operação não realizada!\")\n",
    "elif conta_universitaria:\n",
    "    if saldo >= saque:\n",
    "        print(\"Saque realizado com sucesso!\")\n",
    "    else:\n",
    "        print(\"Saldo insuficiente!\")\n",
    "else:\n",
    "    print(\"Conta não encontrada\")"
   ]
  },
  {
   "cell_type": "code",
   "execution_count": 41,
   "id": "819fde6a-091e-42f1-bcca-174fba4d60e7",
   "metadata": {},
   "outputs": [
    {
     "name": "stdout",
     "output_type": "stream",
     "text": [
      "Sucesso\n"
     ]
    }
   ],
   "source": [
    "# if Ternário (escrito em 1 linha, para comparações mais simples)\n",
    "saldo = 500\n",
    "saque = 300\n",
    "\n",
    "status = \"Sucesso\" if saldo >= saque else \"Falha\"\n",
    "# Status recebe: \"sucesso\" se saldo >= falha, \"Falha\" caso contrário \n",
    "\n",
    "print(status)"
   ]
  },
  {
   "cell_type": "code",
   "execution_count": 42,
   "id": "6e68adc4-0598-44ef-a0e9-165baac5cc52",
   "metadata": {},
   "outputs": [],
   "source": [
    "#Fim da aula sobre estruturas condicionais"
   ]
  },
  {
   "cell_type": "code",
   "execution_count": 43,
   "id": "d4c09a43-eaa0-4419-ba03-eeca11627697",
   "metadata": {},
   "outputs": [],
   "source": [
    "#Início da aula sobre estruturas de repetição"
   ]
  },
  {
   "cell_type": "code",
   "execution_count": 58,
   "id": "221a7e01-d8d0-4cad-b66c-767656bd95f5",
   "metadata": {},
   "outputs": [
    {
     "name": "stdout",
     "output_type": "stream",
     "text": [
      "Ueoee Finalizando o for!\n",
      "\n",
      "0 1 2 3 4 5 6 7 8 9 10 \n",
      "\n",
      "0 2 4 6 8 10 12 14 16 18 20 22 24 26 28 30 32 34 36 38 40 42 44 46 48 50 "
     ]
    }
   ],
   "source": [
    "# for, built in range, while\n",
    "# Serve para repetir um código x vezes!\n",
    "\n",
    "# No ensino médio, quando eu aprendi sobre for, eu criei um sistema que imprimia os números \n",
    "# estilo \"matrix\"\n",
    "# for num in range ((numero_estupido), (numero_mais_estupido),(numero_um_pouco_estupido))\n",
    "\n",
    "texto = \"Um texto testável!\"\n",
    "VOGAIS = \"AEIOU\"\n",
    "\n",
    "for letra in texto:\n",
    "    if letra.upper() in VOGAIS:\n",
    "        print(letra,end=\"\")\n",
    "else:# Isso é novidade!\n",
    "    print(\" Finalizando o for!\\n\")\n",
    "\n",
    "#-----------------\n",
    "for numero in range(0,11): #lembrar que vai na lista: [0,10[ ou seja, 10 não entra na conta!\n",
    "    print(numero,end=\" \")\n",
    "print(\"\\n\")\n",
    "for numero in range(0,51,2): # [0,51[\n",
    "    print(numero,end=\" \")\n",
    "\n",
    "#-----------------\n"
   ]
  },
  {
   "cell_type": "code",
   "execution_count": 60,
   "id": "1a729b16-491e-427d-8e86-180c99e72808",
   "metadata": {},
   "outputs": [
    {
     "name": "stdin",
     "output_type": "stream",
     "text": [
      "[1] Sacar \n",
      "[2] Extrato\n",
      "[0] Sair\n",
      ":  1\n"
     ]
    },
    {
     "name": "stdout",
     "output_type": "stream",
     "text": [
      "Sacando..\n"
     ]
    },
    {
     "name": "stdin",
     "output_type": "stream",
     "text": [
      "[1] Sacar \n",
      "[2] Extrato\n",
      "[0] Sair\n",
      ":  2\n"
     ]
    },
    {
     "name": "stdout",
     "output_type": "stream",
     "text": [
      "Você não tem dinheiro!\n"
     ]
    },
    {
     "name": "stdin",
     "output_type": "stream",
     "text": [
      "[1] Sacar \n",
      "[2] Extrato\n",
      "[0] Sair\n",
      ":  3\n"
     ]
    },
    {
     "name": "stdout",
     "output_type": "stream",
     "text": [
      "Opção não reconhecida, favor digitar uma das opções\n"
     ]
    },
    {
     "name": "stdin",
     "output_type": "stream",
     "text": [
      "[1] Sacar \n",
      "[2] Extrato\n",
      "[0] Sair\n",
      ":  0\n"
     ]
    },
    {
     "name": "stdout",
     "output_type": "stream",
     "text": [
      "Saindo..\n"
     ]
    }
   ],
   "source": [
    "# While (condição) ele executa enquanto for True\n",
    "# Cuidar se colocar o not, às vezes fica confuso\n",
    "opcao = -1\n",
    "\n",
    "while opcao != 0:\n",
    "    opcao = int(input(\"[1] Sacar \\n[2] Extrato\\n[0] Sair\\n: \"))\n",
    "    if opcao == 1:\n",
    "        print(\"Sacando..\")\n",
    "    elif opcao == 2:\n",
    "        print(\"Você não tem dinheiro!\")\n",
    "    elif opcao == 0:\n",
    "        print(\"Saindo..\")\n",
    "    else:\n",
    "        print(\"Opção não reconhecida, favor digitar uma das opções\")\n",
    "        "
   ]
  },
  {
   "cell_type": "code",
   "execution_count": 61,
   "id": "2b1f104f-6475-42f7-8b82-8d2d8b732ed0",
   "metadata": {},
   "outputs": [
    {
     "name": "stdin",
     "output_type": "stream",
     "text": [
      "Tentativa 1 de 10, Adivinhe o número:  1\n",
      "Tentativa 2 de 10, Adivinhe o número:  2\n",
      "Tentativa 3 de 10, Adivinhe o número:  3\n",
      "Tentativa 4 de 10, Adivinhe o número:  5\n",
      "Tentativa 5 de 10, Adivinhe o número:  6\n",
      "Tentativa 6 de 10, Adivinhe o número:  7\n",
      "Tentativa 7 de 10, Adivinhe o número:  8\n",
      "Tentativa 8 de 10, Adivinhe o número:  9\n",
      "Tentativa 9 de 10, Adivinhe o número:  10\n",
      "Tentativa 10 de 10, Adivinhe o número:  11\n"
     ]
    },
    {
     "name": "stdout",
     "output_type": "stream",
     "text": [
      "Você não conseguiu adivinhar, encerrando o programa\n",
      "Exemplificando o continue\n"
     ]
    }
   ],
   "source": [
    "# Break!\n",
    "adivinhar = 4\n",
    "\n",
    "for num in range(1,11):\n",
    "    numero = int(input(f\"Tentativa {num} de 10, Adivinhe o número: \"))\n",
    "    if numero == adivinhar:\n",
    "        print(\"Você adivinhou o número!!!\")\n",
    "        break\n",
    "    elif num == 10:\n",
    "        print(\"Você não conseguiu adivinhar, encerrando o programa\")\n",
    "    else:\n",
    "        continue #Esse ignora tudo e reinicia o laço, ignorando as coisas pra frente!\n",
    "    print(\"Exemplificando o continue\")\n",
    "    "
   ]
  },
  {
   "cell_type": "code",
   "execution_count": 62,
   "id": "3feceb63-1bcf-4d1c-a39f-3c0667709a41",
   "metadata": {},
   "outputs": [],
   "source": [
    "# Fim da aula sobre estruturas de repetição!"
   ]
  },
  {
   "cell_type": "code",
   "execution_count": null,
   "id": "b5333eeb-a16e-45ee-9f79-d94a0b4673cd",
   "metadata": {},
   "outputs": [],
   "source": []
  }
 ],
 "metadata": {
  "kernelspec": {
   "display_name": "Python 3 (ipykernel)",
   "language": "python",
   "name": "python3"
  },
  "language_info": {
   "codemirror_mode": {
    "name": "ipython",
    "version": 3
   },
   "file_extension": ".py",
   "mimetype": "text/x-python",
   "name": "python",
   "nbconvert_exporter": "python",
   "pygments_lexer": "ipython3",
   "version": "3.12.3"
  }
 },
 "nbformat": 4,
 "nbformat_minor": 5
}
