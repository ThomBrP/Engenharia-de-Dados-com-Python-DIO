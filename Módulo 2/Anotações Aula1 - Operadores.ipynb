{
 "cells": [
  {
   "cell_type": "code",
   "execution_count": 1,
   "id": "93202ad6-bbd8-480e-ba52-b0a0fcc19b85",
   "metadata": {},
   "outputs": [],
   "source": [
    "#Aula de Operadores aritméticos"
   ]
  },
  {
   "cell_type": "code",
   "execution_count": 5,
   "id": "b32d369f-a5d2-445b-b56e-b544ae72f8af",
   "metadata": {},
   "outputs": [
    {
     "name": "stdout",
     "output_type": "stream",
     "text": [
      "2\n",
      "0\n",
      "2\n",
      "1.5\n",
      "1\n",
      "1\n",
      "8\n"
     ]
    }
   ],
   "source": [
    "#adição\n",
    "print(1+1)\n",
    "\n",
    "#subtração\n",
    "print(1-1)\n",
    "\n",
    "#multiplicação\n",
    "print(1*2)\n",
    "\n",
    "#divisão\n",
    "print(3/2)\n",
    "#divisão inteira\n",
    "print(3//2) # Lembrando que a divisão inteira truca o resultado NÃO ARREDONDA\n",
    "\n",
    "#módulo\n",
    "print(3%2) # resto da divisão\n",
    "\n",
    "#exponenciação \n",
    "print(2**3) # 2 elevado a 3ª potencia (2³)"
   ]
  },
  {
   "cell_type": "code",
   "execution_count": 8,
   "id": "b58c0626-a8d0-4175-9431-39ebc552f8c8",
   "metadata": {},
   "outputs": [
    {
     "name": "stdout",
     "output_type": "stream",
     "text": [
      "0\n",
      "10\n"
     ]
    }
   ],
   "source": [
    "# De maneira geral, o python segue a regra de execução de operações da matemática\n",
    "# Mas para garantir, melhor colocar os parênteses\n",
    "# Ex:\n",
    "print(10 - 5 * 2) #0 e não 10\n",
    "\n",
    "print((10 - 5 ) * 2) #10 e não 0\n",
    "#e por aí em diante"
   ]
  },
  {
   "cell_type": "code",
   "execution_count": 16,
   "id": "35a03f24-8aee-452b-8eff-ecb836836451",
   "metadata": {},
   "outputs": [
    {
     "name": "stdout",
     "output_type": "stream",
     "text": [
      "30\n",
      "-10\n",
      "0.5\n",
      "0\n",
      "200\n",
      "10\n",
      "100000000000000000000\n",
      "21474836471234567891011121314151617181921\n"
     ]
    }
   ],
   "source": [
    "#Exemplo da aula\n",
    "produto_1 = 10\n",
    "produto_2 = 20\n",
    "\n",
    "print(produto_1 + produto_2)\n",
    "print(produto_1 - produto_2)\n",
    "\n",
    "print(produto_1 / produto_2)\n",
    "print(produto_1 // produto_2)\n",
    "\n",
    "print(produto_1 * produto_2)\n",
    "\n",
    "print(produto_1 % produto_2)\n",
    "print(produto_1 ** produto_2) # normalmente o limite de um int é 2147483647. Em python isso não se aplica!!\n",
    "\n",
    "teste_inteiro = 21474836471234567891011121314151617181920\n",
    "print(teste_inteiro+1)"
   ]
  },
  {
   "cell_type": "code",
   "execution_count": 23,
   "id": "9917fa8d-f587-4a48-9069-ac7625c3121f",
   "metadata": {},
   "outputs": [],
   "source": [
    "# Fim da aula de Operadores aritméticos"
   ]
  },
  {
   "cell_type": "code",
   "execution_count": 24,
   "id": "5b03e1c6-8dec-468b-b580-9fa56757aaed",
   "metadata": {},
   "outputs": [],
   "source": [
    "# Aula de operadores de Comparação"
   ]
  },
  {
   "cell_type": "code",
   "execution_count": 25,
   "id": "faa772d7-6c4b-4bed-8a6a-c54abaeb51df",
   "metadata": {},
   "outputs": [
    {
     "name": "stdout",
     "output_type": "stream",
     "text": [
      "True\n",
      "False\n",
      "False\n",
      "False\n",
      "True\n",
      "True\n"
     ]
    }
   ],
   "source": [
    "# Operador de x é igual a y\n",
    "saldo=100\n",
    "saque=100\n",
    "\n",
    "print(saldo == saque) # num1 é igual a num2\n",
    "print(saldo != saque) # num1 diferente de num2 (se é diferente true, senão falso)\n",
    "print(saldo > saque) # se num1 é maior que num2\n",
    "print(saldo < saque) # se num1 é menor que num2\n",
    "print(saldo >= saque) # se num1 é maior ou igual que num2\n",
    "print(saldo <= saque) # se num1 é menor ou igual a num2\n",
    "\n",
    "# muito utilizado em if, while, for, etc. "
   ]
  },
  {
   "cell_type": "code",
   "execution_count": 34,
   "id": "54198d5e-d777-474a-9590-0d08c10579c4",
   "metadata": {},
   "outputs": [],
   "source": [
    "# Fim da aula de operadores de comparação"
   ]
  },
  {
   "cell_type": "code",
   "execution_count": 35,
   "id": "e3929a32-9f89-4dba-8867-6b1ae384868e",
   "metadata": {},
   "outputs": [],
   "source": [
    "# Início da aula de Operadores de Atribuição"
   ]
  },
  {
   "cell_type": "code",
   "execution_count": 36,
   "id": "65620ee8-b573-4195-b029-587dec2e60dc",
   "metadata": {},
   "outputs": [
    {
     "name": "stdout",
     "output_type": "stream",
     "text": [
      "4.0\n"
     ]
    }
   ],
   "source": [
    "# atribuição é como atribuir a uma variável!\n",
    "\n",
    "# funciona com todos os operadores aritméticos\n",
    " \n",
    "vari = 100 # vari recebe 1\n",
    "vari += 2 # Pense que nesse caso, equivale a dizer: vari = vari + 1 (102)\n",
    "vari -= 1 # vari = vari - 1 (101)\n",
    "vari *= 1 # vari = vari * 1 (101)\n",
    "vari /= 5 # vari = vari / 5 (20.2)\n",
    "vari //= 10 # vari = vari // 10 (2)\n",
    "vari %= 5 # vari = vari % 5 (2)\n",
    "vari **= 2 # vari = vari ** 2 (4)\n",
    "\n",
    "print(vari) #pense que as operações foram feitas uma seguida da outra!"
   ]
  },
  {
   "cell_type": "code",
   "execution_count": 38,
   "id": "efb1a9d0-756e-4ece-8907-0575f30e4f85",
   "metadata": {},
   "outputs": [],
   "source": [
    "# Fim da aula de Operadores de Atribuição"
   ]
  },
  {
   "cell_type": "code",
   "execution_count": null,
   "id": "005a8dbc-2641-4271-9a45-c8b13ed0a048",
   "metadata": {},
   "outputs": [],
   "source": [
    "# Início da aula sobre operadores lógicos"
   ]
  },
  {
   "cell_type": "code",
   "execution_count": 52,
   "id": "6cdbfa8e-039c-4b8b-b448-b3c418f524ef",
   "metadata": {},
   "outputs": [
    {
     "name": "stdout",
     "output_type": "stream",
     "text": [
      "False\n",
      "True\n",
      "True\n",
      "True\n",
      "True\n",
      "False\n"
     ]
    }
   ],
   "source": [
    "# AND, OR, NOT = Operadores lógicos\n",
    "\n",
    "# Essa questão me lembra da aula de circuitos digitais da faculdade! Portas Or, XOR, NOt, AND, etc...\n",
    "saldo = 1000\n",
    "saque = 200\n",
    "limite = 100\n",
    "\n",
    "print(saldo >= saque and saque <= limite)\n",
    "print(saldo >= saque or saque <= limite)\n",
    "print(not (saldo > saque and saque <= limite)) # se não tiver o parenteses, ele nega a primeira vez\n",
    "print(saldo > saque and not saque <= limite and saldo > limite)\n",
    "# Tende ao infinito essa brincadeira de parênteses e and, or, not\n",
    "\n",
    "# quando você nega uma string, você está perguntando se ela ta vazia!\n",
    "print(not \"\") # Essa string está vazia? (True)\n",
    "print(not \"Oi\") # Essa string está vazia? (False)"
   ]
  },
  {
   "cell_type": "code",
   "execution_count": 61,
   "id": "798bdc00-68b0-4c6c-b7bb-6e0fff2cef15",
   "metadata": {},
   "outputs": [
    {
     "name": "stdout",
     "output_type": "stream",
     "text": [
      "True\n",
      "False\n",
      "True\n",
      "True\n",
      "\n",
      "\n",
      "\n",
      "False\n",
      "False\n",
      "True\n",
      "True\n",
      "\n",
      "\n",
      "False\n",
      "True\n",
      "False\n",
      "True\n"
     ]
    }
   ],
   "source": [
    "# Exemplo da aula\n",
    "\n",
    "print(True and True)\n",
    "print(True and False)\n",
    "print(True or False)\n",
    "print(False or True)\n",
    "\n",
    "# and = todos devem ser verdadeiro para retornar verdadeiro\n",
    "# or = 1 deve ser verdadeiro para retornar verdadeiro\n",
    "print(\"\\n\\n\")\n",
    "\n",
    "print(not True and True)\n",
    "print(True and not True)\n",
    "print(not True or True)\n",
    "print(True or not True)\n",
    "print(\"\\n\")\n",
    "print(not True and False)\n",
    "print(True and not False) # Interessante!\n",
    "print(not True or False)\n",
    "print(True or not False) "
   ]
  },
  {
   "cell_type": "code",
   "execution_count": 62,
   "id": "fd32577b-3f2c-4578-a5bb-fed6acfaef5b",
   "metadata": {},
   "outputs": [],
   "source": [
    "#Fim da aula sobre Operadores Lógicos"
   ]
  },
  {
   "cell_type": "code",
   "execution_count": 63,
   "id": "bc4bad22-b62e-412c-b670-dd53fba6a308",
   "metadata": {},
   "outputs": [],
   "source": [
    "# Início da aula sobre Operadores de Identidade"
   ]
  },
  {
   "cell_type": "code",
   "execution_count": 77,
   "id": "79ab8586-1319-422a-a39a-47dbd04a4211",
   "metadata": {},
   "outputs": [
    {
     "name": "stdout",
     "output_type": "stream",
     "text": [
      "True\n",
      "Curso de Python\n",
      "Python\n",
      "False\n",
      "True\n",
      "False\n"
     ]
    }
   ],
   "source": [
    "# OP de identidade é uma questão de comparação também.\n",
    "# O que difere é a questão de memória!\n",
    "\n",
    "#Como estou de nostalgia, esse assunto me lembra ponteiros em C!! 0 saudades! \n",
    "\n",
    "curso = \"Curso de Python\"\n",
    "nome_curso = curso\n",
    "saldo,limite = 200,200\n",
    "\n",
    "print(curso is nome_curso) # true, mas porque eu não altero as duas se a região de memória é a mesma?\n",
    "nome_curso = \"Python\"\n",
    "print(curso)\n",
    "print(nome_curso)\n",
    "print(curso is nome_curso)\n",
    "\n",
    "print(saldo is limite)\n",
    "\n",
    "saldo2 = 100\n",
    "limite2 = 200\n",
    "print(saldo2 is limite2)\n",
    "\n",
    "# Acho que dava de ter entrado um pouco mais a fundo nesse assunto, mas não sei se é tão relevante para o curso."
   ]
  },
  {
   "cell_type": "code",
   "execution_count": 78,
   "id": "5bdc2532-78a9-44a3-a31b-b82b87caf1d7",
   "metadata": {},
   "outputs": [],
   "source": [
    "# Fim da aula sobre operadores de identidade"
   ]
  },
  {
   "cell_type": "code",
   "execution_count": 79,
   "id": "0c9038fe-15dd-4b82-ba72-92175719496b",
   "metadata": {},
   "outputs": [],
   "source": [
    "# Inicio da aula sobre operadores de associação"
   ]
  },
  {
   "cell_type": "code",
   "execution_count": 93,
   "id": "297eeed3-45cb-4151-87f6-9670e37cc664",
   "metadata": {},
   "outputs": [
    {
     "name": "stdout",
     "output_type": "stream",
     "text": [
      "True\n",
      "False\n",
      "True\n",
      "\n",
      "\n",
      "\n",
      "True\n",
      "True\n",
      "False\n",
      "True\n",
      "\n",
      "\n",
      "True\n"
     ]
    }
   ],
   "source": [
    "# Normalmente usado para arrays (não foi falado sobre listas no curso ainda, o que me parece estranho)\n",
    "# Exemplo: in (algum objeto está na lista?)\n",
    "nome = \"thom\"\n",
    "alunos = [\"zé\",\"jão\",\"thom\",\"ana\",\"jor\"]\n",
    "\n",
    "print(nome in alunos) # nome está em alunos? True (thom está em alunos!)\n",
    "print(\"tham\" in alunos) # \"tham\" está em alunos? False (tham não está em alunos!)\n",
    "print(\"tham\" not in alunos) # \"tham\" não está em alunos? True (Tham não está em alunos)\n",
    "\n",
    "# um pouco confuso, mas bem possível de se localizar\n",
    "\n",
    "print(\"\\n\\n\")\n",
    "\n",
    "string = \"Exemplo de string\"\n",
    "print(\"e\" in string)\n",
    "print(\"lo\" in string) # Funciona como substring também Interessante!\n",
    "print(\"Z\" in string)\n",
    "print(\"aba\" not in string)\n",
    "\n",
    "print(\"\\n\")\n",
    "print(\"de string\" in string)"
   ]
  },
  {
   "cell_type": "code",
   "execution_count": 94,
   "id": "40923522-fcde-4a39-8c31-bc7a2903a479",
   "metadata": {},
   "outputs": [],
   "source": [
    "# fim da aula de operadores"
   ]
  },
  {
   "cell_type": "code",
   "execution_count": null,
   "id": "b35c8163-9a30-4a76-b861-654995c899d7",
   "metadata": {},
   "outputs": [],
   "source": []
  }
 ],
 "metadata": {
  "kernelspec": {
   "display_name": "Python 3 (ipykernel)",
   "language": "python",
   "name": "python3"
  },
  "language_info": {
   "codemirror_mode": {
    "name": "ipython",
    "version": 3
   },
   "file_extension": ".py",
   "mimetype": "text/x-python",
   "name": "python",
   "nbconvert_exporter": "python",
   "pygments_lexer": "ipython3",
   "version": "3.12.3"
  }
 },
 "nbformat": 4,
 "nbformat_minor": 5
}
